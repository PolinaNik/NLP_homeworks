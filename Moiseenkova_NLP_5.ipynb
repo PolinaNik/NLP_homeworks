{
 "cells": [
  {
   "cell_type": "markdown",
   "id": "f9a72345",
   "metadata": {},
   "source": [
    "## Домашняя работа по теме \"Part-of-Speech разметка, NER, извлечение отношений\""
   ]
  },
  {
   "cell_type": "code",
   "execution_count": 2,
   "id": "c43579ae",
   "metadata": {},
   "outputs": [
    {
     "name": "stderr",
     "output_type": "stream",
     "text": [
      "2023-08-26 23:00:24.039352: I tensorflow/tsl/cuda/cudart_stub.cc:28] Could not find cuda drivers on your machine, GPU will not be used.\n",
      "2023-08-26 23:00:24.272845: I tensorflow/tsl/cuda/cudart_stub.cc:28] Could not find cuda drivers on your machine, GPU will not be used.\n",
      "2023-08-26 23:00:24.281635: I tensorflow/core/platform/cpu_feature_guard.cc:182] This TensorFlow binary is optimized to use available CPU instructions in performance-critical operations.\n",
      "To enable the following instructions: AVX2, in other operations, rebuild TensorFlow with the appropriate compiler flags.\n",
      "2023-08-26 23:00:29.294624: W tensorflow/compiler/tf2tensorrt/utils/py_utils.cc:38] TF-TRT Warning: Could not find TensorRT\n"
     ]
    }
   ],
   "source": [
    "import pandas as pd\n",
    "from corus import load_ne5\n",
    "from razdel import tokenize\n",
    "\n",
    "from nltk.tag import DefaultTagger, UnigramTagger, BigramTagger, TrigramTagger\n",
    "\n",
    "from sklearn.feature_extraction.text import CountVectorizer, HashingVectorizer\n",
    "from sklearn import model_selection\n",
    "from sklearn.linear_model import LogisticRegression\n",
    "from sklearn.metrics import accuracy_score\n",
    "from sklearn.preprocessing import LabelEncoder\n"
   ]
  },
  {
   "cell_type": "markdown",
   "id": "554be337",
   "metadata": {},
   "source": [
    "Загрузка данных"
   ]
  },
  {
   "cell_type": "code",
   "execution_count": 3,
   "id": "115211cb",
   "metadata": {},
   "outputs": [
    {
     "data": {
      "text/plain": [
       "Ne5Markup(\n",
       "    id='1040',\n",
       "    text='Игнатьев: покупка валюты Минфином не повлияет на динамику курса рубля\\r\\n\\r\\n\\r\\nПокупка Минфином РФ валюты для пополнения госфондов не окажет влияния на динамику курса рубля, заявил глава ЦБ Сергей Игнатьев. Министерство уже в августе начнет покупку иностранной валюты.\\r\\n\\r\\n\\r\\n Покупка Минфином РФ валюты для пополнения госфондов не окажет влияния на динамику курса рубля, заявил глава ЦБ Сергей Игнатьев, выступая в Госдуме.\\r\\n\\r\\n\\r\\n\\r\\nГлава Минфина Антон Силуанов в понедельник заявил, что министерство уже в августе начнет покупку иностранной валюты на внутреннем рынке для пополнения госфондов, что приведет к ослаблению курса на 1-2 рубля. На этом фоне курс рубля к доллару и евро после нескольких дней роста вновь начал падать.\\r\\n\\r\\n\"Действительно, мы подготовили новый порядок валютных интервенций, по которому Минфин будет покупать в ежедневном режиме валюту, а ЦБ будет в тех же объемах покупать на рынке <…> Этот порядок будет запущен в августе. Этот порядок практически не окажет никакого влияния на траекторию валютного курса рубля. То что при новом порядке курс (рубля — ред.) ослабнет — это неправда, это домыслы\", — сказал Игнатьев, покидающий пост главы Банка России 24 июня.\\r\\n\\r\\nПо его словам, чрезмерно высокий отток капитала из РФ неизбежно снизится, и это вместе с сохранением нынешних цен на нефть может, напротив, привести к укреплению курса рубля. \"Это вероятностный прогноз\", — считает Игнатьев.\\r\\n\\r\\nОн подчеркнул, что новый порядок интервенций специально был разработан таким образом, чтобы влияние на траекторию валютного курса рубля было минимальным. \"Оно (влияние) неизбежно какое-то будет, причем как в ту, так и в другую сторону\", — сказал он.\\r\\n\\r\\nЗаявления о том, что интервенции Минфина приведут к ослаблению курса российской валюты, Игнатьев назвал недоразумением. \"Я вчера разговаривал с Антоном Германовичем (министр финансов РФ Силуанов — ред.) на эту тему: по-моему, пресса передала его слова не в точном виде\", — сказал глава Центробанка.\\r\\n\\r\\nКакие последствия будет иметь решение Минфина для курса валют\\r\\n\\r\\nДействия Минфина РФ не окажут сильного влияния на валютный рынок, поскольку ожидаемые заказы на покупку достаточно малы по сравнению с дневными объемами торгов валютой, рассуждают аналитики. \"Учитывая планируемый объем внешних заимствований (7 миллиардов долларов), покупки валюты Минфином, скорее всего, будут носить весьма ограниченный характер и не окажут существенного воздействия на валютный рынок. Таким образом, получается, что прогноз ослабления рубля на 3-7% (1-2 рубля) базируется либо на нереалистичных бюджетных сценариях, либо на планах по конвертации в валюту части средств Резервного фонда и Фонда национального благосостояния», — считает аналитик компании \"ВТБ Капитал\" Максим Коровин.\\r\\n\\r\\nКак девальвация скажется на доходах населения\\r\\n\\r\\nВо-первых, на август выпадает пик отпусков, которые многие россияне предпочитают проводить за рубежом. Поэтому вряд ли они воспримут укрепление валют в качестве приятного сюрприза. Если же люди уже сейчас побегут скупать иностранные деньги, это тоже негативно отразится на рубле. Во-вторых, девальвация приведет к обесцениванию зарплат. Ведь ослабление национальной валюты приводит к усилению инфляции. А она и без того сейчас находится в зоне риска.',\n",
       "    spans=[Ne5Span(\n",
       "         index='T1',\n",
       "         type='PER',\n",
       "         start=0,\n",
       "         stop=8,\n",
       "         text='Игнатьев'\n",
       "     ),\n",
       "     Ne5Span(\n",
       "         index='T2',\n",
       "         type='ORG',\n",
       "         start=25,\n",
       "         stop=33,\n",
       "         text='Минфином'\n",
       "     ),\n",
       "     Ne5Span(\n",
       "         index='T3',\n",
       "         type='ORG',\n",
       "         start=83,\n",
       "         stop=91,\n",
       "         text='Минфином'\n",
       "     ),\n",
       "     Ne5Span(\n",
       "         index='T4',\n",
       "         type='GEOPOLIT',\n",
       "         start=92,\n",
       "         stop=94,\n",
       "         text='РФ'\n",
       "     ),\n",
       "     Ne5Span(\n",
       "         index='T5',\n",
       "         type='ORG',\n",
       "         start=183,\n",
       "         stop=185,\n",
       "         text='ЦБ'\n",
       "     ),\n",
       "     Ne5Span(\n",
       "         index='T6',\n",
       "         type='PER',\n",
       "         start=186,\n",
       "         stop=201,\n",
       "         text='Сергей Игнатьев'\n",
       "     ),\n",
       "     Ne5Span(\n",
       "         index='T7',\n",
       "         type='ORG',\n",
       "         start=279,\n",
       "         stop=287,\n",
       "         text='Минфином'\n",
       "     ),\n",
       "     Ne5Span(\n",
       "         index='T8',\n",
       "         type='GEOPOLIT',\n",
       "         start=288,\n",
       "         stop=290,\n",
       "         text='РФ'\n",
       "     ),\n",
       "     Ne5Span(\n",
       "         index='T9',\n",
       "         type='ORG',\n",
       "         start=379,\n",
       "         stop=381,\n",
       "         text='ЦБ'\n",
       "     ),\n",
       "     Ne5Span(\n",
       "         index='T10',\n",
       "         type='PER',\n",
       "         start=382,\n",
       "         stop=397,\n",
       "         text='Сергей Игнатьев'\n",
       "     ),\n",
       "     Ne5Span(\n",
       "         index='T11',\n",
       "         type='ORG',\n",
       "         start=410,\n",
       "         stop=417,\n",
       "         text='Госдуме'\n",
       "     ),\n",
       "     Ne5Span(\n",
       "         index='T12',\n",
       "         type='ORG',\n",
       "         start=432,\n",
       "         stop=439,\n",
       "         text='Минфина'\n",
       "     ),\n",
       "     Ne5Span(\n",
       "         index='T13',\n",
       "         type='PER',\n",
       "         start=440,\n",
       "         stop=454,\n",
       "         text='Антон Силуанов'\n",
       "     ),\n",
       "     Ne5Span(\n",
       "         index='T14',\n",
       "         type='ORG',\n",
       "         start=805,\n",
       "         stop=811,\n",
       "         text='Минфин'\n",
       "     ),\n",
       "     Ne5Span(\n",
       "         index='T15',\n",
       "         type='ORG',\n",
       "         start=857,\n",
       "         stop=859,\n",
       "         text='ЦБ'\n",
       "     ),\n",
       "     Ne5Span(\n",
       "         index='T16',\n",
       "         type='PER',\n",
       "         start=1125,\n",
       "         stop=1133,\n",
       "         text='Игнатьев'\n",
       "     ),\n",
       "     Ne5Span(\n",
       "         index='T17',\n",
       "         type='ORG',\n",
       "         start=1157,\n",
       "         stop=1169,\n",
       "         text='Банка России'\n",
       "     ),\n",
       "     Ne5Span(\n",
       "         index='T18',\n",
       "         type='GEOPOLIT',\n",
       "         start=1233,\n",
       "         stop=1235,\n",
       "         text='РФ'\n",
       "     ),\n",
       "     Ne5Span(\n",
       "         index='T19',\n",
       "         type='PER',\n",
       "         start=1396,\n",
       "         stop=1404,\n",
       "         text='Игнатьев'\n",
       "     ),\n",
       "     Ne5Span(\n",
       "         index='T20',\n",
       "         type='ORG',\n",
       "         start=1695,\n",
       "         stop=1702,\n",
       "         text='Минфина'\n",
       "     ),\n",
       "     Ne5Span(\n",
       "         index='T21',\n",
       "         type='PER',\n",
       "         start=1750,\n",
       "         stop=1758,\n",
       "         text='Игнатьев'\n",
       "     ),\n",
       "     Ne5Span(\n",
       "         index='T22',\n",
       "         type='PER',\n",
       "         start=1806,\n",
       "         stop=1826,\n",
       "         text='Антоном Германовичем'\n",
       "     ),\n",
       "     Ne5Span(\n",
       "         index='T23',\n",
       "         type='GEOPOLIT',\n",
       "         start=1845,\n",
       "         stop=1847,\n",
       "         text='РФ'\n",
       "     ),\n",
       "     Ne5Span(\n",
       "         index='T24',\n",
       "         type='PER',\n",
       "         start=1848,\n",
       "         stop=1856,\n",
       "         text='Силуанов'\n",
       "     ),\n",
       "     Ne5Span(\n",
       "         index='T25',\n",
       "         type='ORG',\n",
       "         start=1948,\n",
       "         stop=1959,\n",
       "         text='Центробанка'\n",
       "     ),\n",
       "     Ne5Span(\n",
       "         index='T26',\n",
       "         type='ORG',\n",
       "         start=2002,\n",
       "         stop=2009,\n",
       "         text='Минфина'\n",
       "     ),\n",
       "     Ne5Span(\n",
       "         index='T27',\n",
       "         type='ORG',\n",
       "         start=2038,\n",
       "         stop=2045,\n",
       "         text='Минфина'\n",
       "     ),\n",
       "     Ne5Span(\n",
       "         index='T28',\n",
       "         type='GEOPOLIT',\n",
       "         start=2046,\n",
       "         stop=2048,\n",
       "         text='РФ'\n",
       "     ),\n",
       "     Ne5Span(\n",
       "         index='T29',\n",
       "         type='ORG',\n",
       "         start=2310,\n",
       "         stop=2318,\n",
       "         text='Минфином'\n",
       "     ),\n",
       "     Ne5Span(\n",
       "         index='T30',\n",
       "         type='ORG',\n",
       "         start=2617,\n",
       "         stop=2633,\n",
       "         text='Резервного фонда'\n",
       "     ),\n",
       "     Ne5Span(\n",
       "         index='T31',\n",
       "         type='ORG',\n",
       "         start=2636,\n",
       "         stop=2670,\n",
       "         text='Фонда национального благосостояния'\n",
       "     ),\n",
       "     Ne5Span(\n",
       "         index='T32',\n",
       "         type='ORG',\n",
       "         start=2702,\n",
       "         stop=2713,\n",
       "         text='ВТБ Капитал'\n",
       "     ),\n",
       "     Ne5Span(\n",
       "         index='T33',\n",
       "         type='PER',\n",
       "         start=2715,\n",
       "         stop=2729,\n",
       "         text='Максим Коровин'\n",
       "     )]\n",
       ")"
      ]
     },
     "execution_count": 3,
     "metadata": {},
     "output_type": "execute_result"
    }
   ],
   "source": [
    "dir = 'collection5/Collection5/'\n",
    "records = load_ne5(dir)\n",
    "next(records)"
   ]
  },
  {
   "cell_type": "markdown",
   "id": "5f2562f5",
   "metadata": {},
   "source": [
    "Преобразование к датафрейму"
   ]
  },
  {
   "cell_type": "code",
   "execution_count": 4,
   "id": "3ff72b53",
   "metadata": {},
   "outputs": [],
   "source": [
    "words_docs = []\n",
    "for ix, rec in enumerate(records):\n",
    "    words = []\n",
    "    for token in tokenize(rec.text):\n",
    "        type_ent = 'OUT'\n",
    "        for ent in rec.spans:\n",
    "            if (token.start >= ent.start) and (token.stop <= ent.stop):\n",
    "                type_ent = ent.type\n",
    "                break\n",
    "        words.append([token.text, type_ent])\n",
    "    words_docs.extend(words)"
   ]
  },
  {
   "cell_type": "code",
   "execution_count": 5,
   "id": "adafdf87",
   "metadata": {},
   "outputs": [],
   "source": [
    "df_words = pd.DataFrame(words_docs, columns=['word', 'tag'])"
   ]
  },
  {
   "cell_type": "code",
   "execution_count": 6,
   "id": "14d12212",
   "metadata": {},
   "outputs": [
    {
     "data": {
      "text/plain": [
       "OUT         218709\n",
       "PER          21185\n",
       "ORG          13628\n",
       "LOC           4568\n",
       "GEOPOLIT      4351\n",
       "MEDIA         2482\n",
       "Name: tag, dtype: int64"
      ]
     },
     "execution_count": 6,
     "metadata": {},
     "output_type": "execute_result"
    }
   ],
   "source": [
    "df_words['tag'].value_counts()"
   ]
  },
  {
   "cell_type": "code",
   "execution_count": 7,
   "id": "c6a90a0d",
   "metadata": {},
   "outputs": [],
   "source": [
    "df_words_list = list(df_words.itertuples(index=False, name=None))"
   ]
  },
  {
   "cell_type": "markdown",
   "id": "28607fd2",
   "metadata": {},
   "source": [
    "Преобразование к листам с предложениям"
   ]
  },
  {
   "cell_type": "code",
   "execution_count": 8,
   "id": "bb56255c",
   "metadata": {},
   "outputs": [],
   "source": [
    "sentences = []\n",
    "one_sentence = []\n",
    "for i in range(len(df_words_list)):\n",
    "    if df_words_list[i] != ('.', 'OUT'):\n",
    "        one_sentence.append(df_words_list[i])\n",
    "    if df_words_list[i] == ('.', 'OUT'):\n",
    "        one_sentence.append(df_words_list[i])\n",
    "        sentences.append(one_sentence)\n",
    "        one_sentence = []"
   ]
  },
  {
   "cell_type": "code",
   "execution_count": 10,
   "id": "47dfabaa",
   "metadata": {},
   "outputs": [
    {
     "data": {
      "text/plain": [
       "[[('Новым', 'OUT'),\n",
       "  ('президентом', 'OUT'),\n",
       "  ('Германии', 'GEOPOLIT'),\n",
       "  ('стал', 'OUT'),\n",
       "  ('Иоахим', 'PER'),\n",
       "  ('Гаук', 'PER'),\n",
       "  ('Бывший', 'OUT'),\n",
       "  ('лютеранский', 'OUT'),\n",
       "  ('священник', 'OUT'),\n",
       "  ('и', 'OUT'),\n",
       "  ('правозащитник', 'OUT'),\n",
       "  ('Иоахим', 'PER'),\n",
       "  ('Гаук', 'PER'),\n",
       "  ('избран', 'OUT'),\n",
       "  ('на', 'OUT'),\n",
       "  ('должность', 'OUT'),\n",
       "  ('президента', 'OUT'),\n",
       "  ('ФРГ', 'GEOPOLIT'),\n",
       "  ('.', 'OUT')],\n",
       " [('Об', 'OUT'),\n",
       "  ('этом', 'OUT'),\n",
       "  ('передает', 'OUT'),\n",
       "  ('Reuters', 'MEDIA'),\n",
       "  ('со', 'OUT'),\n",
       "  ('ссылкой', 'OUT'),\n",
       "  ('на', 'OUT'),\n",
       "  ('спикера', 'OUT'),\n",
       "  ('парламента', 'OUT'),\n",
       "  ('республики', 'OUT'),\n",
       "  ('Норберта', 'PER'),\n",
       "  ('Ламмерта', 'PER'),\n",
       "  ('.', 'OUT')],\n",
       " [('Накануне', 'OUT'),\n",
       "  ('голосования', 'OUT'),\n",
       "  ('высказывались', 'OUT'),\n",
       "  ('предположения', 'OUT'),\n",
       "  (',', 'OUT'),\n",
       "  ('что', 'OUT'),\n",
       "  ('И', 'PER'),\n",
       "  ('.', 'PER'),\n",
       "  ('Гаук', 'PER'),\n",
       "  ('имеет', 'OUT'),\n",
       "  ('все', 'OUT'),\n",
       "  ('шансы', 'OUT'),\n",
       "  ('на', 'OUT'),\n",
       "  ('то', 'OUT'),\n",
       "  (',', 'OUT'),\n",
       "  ('чтобы', 'OUT'),\n",
       "  ('занять', 'OUT'),\n",
       "  ('пост', 'OUT'),\n",
       "  ('президента', 'OUT'),\n",
       "  ('Германии', 'GEOPOLIT'),\n",
       "  ('.', 'OUT')]]"
      ]
     },
     "execution_count": 10,
     "metadata": {},
     "output_type": "execute_result"
    }
   ],
   "source": [
    "sentences[:3]"
   ]
  },
  {
   "cell_type": "code",
   "execution_count": 11,
   "id": "5cb51a70",
   "metadata": {},
   "outputs": [
    {
     "data": {
      "text/plain": [
       "[('В', 'OUT'),\n",
       " ('настоящее', 'OUT'),\n",
       " ('время', 'OUT'),\n",
       " ('проводится', 'OUT'),\n",
       " ('проверка', 'OUT'),\n",
       " ('на', 'OUT'),\n",
       " ('предмет', 'OUT'),\n",
       " ('наличия', 'OUT'),\n",
       " ('в', 'OUT'),\n",
       " ('действиях', 'OUT'),\n",
       " ('должностных', 'OUT'),\n",
       " ('лиц', 'OUT'),\n",
       " ('Роскосмоса', 'ORG'),\n",
       " ('состава', 'OUT'),\n",
       " ('преступления', 'OUT'),\n",
       " (',', 'OUT'),\n",
       " ('предусмотренного', 'OUT'),\n",
       " ('ст', 'OUT'),\n",
       " ('.', 'OUT')]"
      ]
     },
     "execution_count": 11,
     "metadata": {},
     "output_type": "execute_result"
    }
   ],
   "source": [
    "train_data = sentences[:int(len(sentences) * 0.9)]\n",
    "test_data = sentences[int(len(sentences) * 0.9):]\n",
    "test_data[0]"
   ]
  },
  {
   "cell_type": "code",
   "execution_count": 12,
   "id": "e99dbd35",
   "metadata": {},
   "outputs": [],
   "source": [
    "test_sent = [word for word, tag in test_data[0]]"
   ]
  },
  {
   "cell_type": "code",
   "execution_count": 14,
   "id": "e4040f58",
   "metadata": {},
   "outputs": [],
   "source": [
    "results = []"
   ]
  },
  {
   "cell_type": "markdown",
   "id": "f774adba",
   "metadata": {},
   "source": [
    "#### UnigramTagger\n",
    "\n",
    "UnigramTagger учитывает условную частоту тегов и предсказывает наиболее частый тег для каждого токена, не ориентируется на соседние слова."
   ]
  },
  {
   "cell_type": "code",
   "execution_count": 15,
   "id": "921b90b8",
   "metadata": {},
   "outputs": [
    {
     "name": "stderr",
     "output_type": "stream",
     "text": [
      "/tmp/ipykernel_7927/1424434567.py:2: DeprecationWarning: \n",
      "  Function evaluate() has been deprecated.  Use accuracy(gold)\n",
      "  instead.\n",
      "  unigram_tagger_result = ('unigram_tagger', unigram_tagger.evaluate(test_data))\n",
      "/tmp/ipykernel_7927/1424434567.py:4: DeprecationWarning: \n",
      "  Function evaluate() has been deprecated.  Use accuracy(gold)\n",
      "  instead.\n",
      "  display(unigram_tagger.tag(test_sent), unigram_tagger.evaluate(test_data))\n"
     ]
    },
    {
     "data": {
      "text/plain": [
       "[('В', 'OUT'),\n",
       " ('настоящее', 'OUT'),\n",
       " ('время', 'OUT'),\n",
       " ('проводится', 'OUT'),\n",
       " ('проверка', 'OUT'),\n",
       " ('на', 'OUT'),\n",
       " ('предмет', 'OUT'),\n",
       " ('наличия', 'OUT'),\n",
       " ('в', 'OUT'),\n",
       " ('действиях', 'OUT'),\n",
       " ('должностных', 'OUT'),\n",
       " ('лиц', 'OUT'),\n",
       " ('Роскосмоса', 'ORG'),\n",
       " ('состава', 'OUT'),\n",
       " ('преступления', 'OUT'),\n",
       " (',', 'OUT'),\n",
       " ('предусмотренного', 'OUT'),\n",
       " ('ст', 'OUT'),\n",
       " ('.', 'OUT')]"
      ]
     },
     "metadata": {},
     "output_type": "display_data"
    },
    {
     "data": {
      "text/plain": [
       "0.8747254411876089"
      ]
     },
     "metadata": {},
     "output_type": "display_data"
    }
   ],
   "source": [
    "unigram_tagger = UnigramTagger(train_data)\n",
    "unigram_tagger_result = ('unigram_tagger', unigram_tagger.evaluate(test_data))\n",
    "results.append(unigram_tagger_result)\n",
    "display(unigram_tagger.tag(test_sent), unigram_tagger.evaluate(test_data))"
   ]
  },
  {
   "cell_type": "markdown",
   "id": "3f07be34",
   "metadata": {},
   "source": [
    "#### BigramTagger\n",
    "\n",
    "BigramTagger будет учитывает тэги двух слов: текущее и предыдущее слово. Точность немного выше, чем у Unigram tagger."
   ]
  },
  {
   "cell_type": "code",
   "execution_count": 18,
   "id": "89faf0e4",
   "metadata": {},
   "outputs": [
    {
     "name": "stderr",
     "output_type": "stream",
     "text": [
      "/tmp/ipykernel_7927/808695760.py:2: DeprecationWarning: \n",
      "  Function evaluate() has been deprecated.  Use accuracy(gold)\n",
      "  instead.\n",
      "  bigram_tagger_result = ('bigram_tagger', bigram_tagger.evaluate(test_data))\n",
      "/tmp/ipykernel_7927/808695760.py:4: DeprecationWarning: \n",
      "  Function evaluate() has been deprecated.  Use accuracy(gold)\n",
      "  instead.\n",
      "  display(bigram_tagger.tag(test_sent), bigram_tagger.evaluate(test_data))\n"
     ]
    },
    {
     "data": {
      "text/plain": [
       "[('В', 'OUT'),\n",
       " ('настоящее', 'OUT'),\n",
       " ('время', 'OUT'),\n",
       " ('проводится', 'OUT'),\n",
       " ('проверка', 'OUT'),\n",
       " ('на', 'OUT'),\n",
       " ('предмет', 'OUT'),\n",
       " ('наличия', 'OUT'),\n",
       " ('в', 'OUT'),\n",
       " ('действиях', 'OUT'),\n",
       " ('должностных', 'OUT'),\n",
       " ('лиц', 'OUT'),\n",
       " ('Роскосмоса', 'ORG'),\n",
       " ('состава', 'OUT'),\n",
       " ('преступления', 'OUT'),\n",
       " (',', 'OUT'),\n",
       " ('предусмотренного', 'OUT'),\n",
       " ('ст', 'OUT'),\n",
       " ('.', 'OUT')]"
      ]
     },
     "metadata": {},
     "output_type": "display_data"
    },
    {
     "data": {
      "text/plain": [
       "0.8817314246762099"
      ]
     },
     "metadata": {},
     "output_type": "display_data"
    }
   ],
   "source": [
    "bigram_tagger = BigramTagger(train_data, backoff=unigram_tagger)\n",
    "bigram_tagger_result = ('bigram_tagger', bigram_tagger.evaluate(test_data))\n",
    "results.append(bigram_tagger_result)                             \n",
    "display(bigram_tagger.tag(test_sent), bigram_tagger.evaluate(test_data))"
   ]
  },
  {
   "cell_type": "markdown",
   "id": "e7d1d240",
   "metadata": {},
   "source": [
    "#### TrigramTagger"
   ]
  },
  {
   "cell_type": "code",
   "execution_count": 20,
   "id": "02b614dc",
   "metadata": {},
   "outputs": [
    {
     "name": "stderr",
     "output_type": "stream",
     "text": [
      "/tmp/ipykernel_7927/1049589636.py:2: DeprecationWarning: \n",
      "  Function evaluate() has been deprecated.  Use accuracy(gold)\n",
      "  instead.\n",
      "  trigram_tagger_result = ('trigram_tagger', trigram_tagger.evaluate(test_data))\n",
      "/tmp/ipykernel_7927/1049589636.py:4: DeprecationWarning: \n",
      "  Function evaluate() has been deprecated.  Use accuracy(gold)\n",
      "  instead.\n",
      "  display(trigram_tagger.tag(test_sent), trigram_tagger.evaluate(test_data))\n"
     ]
    },
    {
     "data": {
      "text/plain": [
       "[('В', 'OUT'),\n",
       " ('настоящее', 'OUT'),\n",
       " ('время', 'OUT'),\n",
       " ('проводится', 'OUT'),\n",
       " ('проверка', 'OUT'),\n",
       " ('на', 'OUT'),\n",
       " ('предмет', 'OUT'),\n",
       " ('наличия', 'OUT'),\n",
       " ('в', 'OUT'),\n",
       " ('действиях', 'OUT'),\n",
       " ('должностных', 'OUT'),\n",
       " ('лиц', 'OUT'),\n",
       " ('Роскосмоса', 'ORG'),\n",
       " ('состава', 'OUT'),\n",
       " ('преступления', 'OUT'),\n",
       " (',', 'OUT'),\n",
       " ('предусмотренного', 'OUT'),\n",
       " ('ст', 'OUT'),\n",
       " ('.', 'OUT')]"
      ]
     },
     "metadata": {},
     "output_type": "display_data"
    },
    {
     "data": {
      "text/plain": [
       "0.8872983412860713"
      ]
     },
     "metadata": {},
     "output_type": "display_data"
    }
   ],
   "source": [
    "trigram_tagger = TrigramTagger(train_data, backoff=bigram_tagger)\n",
    "trigram_tagger_result = ('trigram_tagger', trigram_tagger.evaluate(test_data))\n",
    "results.append(trigram_tagger_result)                  \n",
    "display(trigram_tagger.tag(test_sent), trigram_tagger.evaluate(test_data))"
   ]
  },
  {
   "cell_type": "code",
   "execution_count": 22,
   "id": "fd560126",
   "metadata": {},
   "outputs": [],
   "source": [
    "train_tok = []\n",
    "train_label = []\n",
    "for sent in train_data[:]:\n",
    "    for tok in sent:\n",
    "        train_tok.append(tok[0])\n",
    "        train_label.append('NO_TAG' if tok[1] is None else tok[1])\n",
    "        \n",
    "test_tok = []\n",
    "test_label = []\n",
    "for sent in test_data[:]:\n",
    "    for tok in sent:\n",
    "        test_tok.append(tok[0])\n",
    "        test_label.append('NO_TAG' if tok[1] is None else tok[1])"
   ]
  },
  {
   "cell_type": "code",
   "execution_count": 23,
   "id": "37c580c5",
   "metadata": {},
   "outputs": [],
   "source": [
    "le = LabelEncoder()\n",
    "train_enc_labels = le.fit_transform(train_label)"
   ]
  },
  {
   "cell_type": "code",
   "execution_count": 24,
   "id": "e569da20",
   "metadata": {},
   "outputs": [],
   "source": [
    "test_enc_labels = le.transform(test_label)"
   ]
  },
  {
   "cell_type": "markdown",
   "id": "430eeb44",
   "metadata": {},
   "source": [
    "#### Векторайзеры и логистическая регрессия"
   ]
  },
  {
   "cell_type": "code",
   "execution_count": 25,
   "id": "f921b876",
   "metadata": {},
   "outputs": [],
   "source": [
    "hvectorizer_char = HashingVectorizer(ngram_range=(1, 3), analyzer='char', n_features=50)"
   ]
  },
  {
   "cell_type": "code",
   "execution_count": 26,
   "id": "1658a817",
   "metadata": {},
   "outputs": [],
   "source": [
    "X_train = hvectorizer_char.fit_transform(train_tok)"
   ]
  },
  {
   "cell_type": "code",
   "execution_count": 27,
   "id": "fe3950db",
   "metadata": {},
   "outputs": [],
   "source": [
    "X_test = hvectorizer_char.transform(test_tok)"
   ]
  },
  {
   "cell_type": "code",
   "execution_count": 28,
   "id": "b503d9de",
   "metadata": {},
   "outputs": [
    {
     "name": "stderr",
     "output_type": "stream",
     "text": [
      "/home/polina/anaconda3/lib/python3.9/site-packages/sklearn/linear_model/_logistic.py:814: ConvergenceWarning: lbfgs failed to converge (status=1):\n",
      "STOP: TOTAL NO. of ITERATIONS REACHED LIMIT.\n",
      "\n",
      "Increase the number of iterations (max_iter) or scale the data as shown in:\n",
      "    https://scikit-learn.org/stable/modules/preprocessing.html\n",
      "Please also refer to the documentation for alternative solver options:\n",
      "    https://scikit-learn.org/stable/modules/linear_model.html#logistic-regression\n",
      "  n_iter_i = _check_optimize_result(\n"
     ]
    },
    {
     "data": {
      "text/plain": [
       "LogisticRegression(max_iter=10, random_state=0)"
      ]
     },
     "execution_count": 28,
     "metadata": {},
     "output_type": "execute_result"
    }
   ],
   "source": [
    "lr = LogisticRegression(random_state=0, max_iter=10)\n",
    "lr.fit(X_train, train_enc_labels)"
   ]
  },
  {
   "cell_type": "code",
   "execution_count": 29,
   "id": "5ad6a427",
   "metadata": {},
   "outputs": [],
   "source": [
    "pred = lr.predict(X_test)"
   ]
  },
  {
   "cell_type": "code",
   "execution_count": 30,
   "id": "02271b52",
   "metadata": {},
   "outputs": [
    {
     "data": {
      "text/plain": [
       "0.8290540028781338"
      ]
     },
     "execution_count": 30,
     "metadata": {},
     "output_type": "execute_result"
    }
   ],
   "source": [
    "accuracy_score(test_enc_labels, pred)"
   ]
  },
  {
   "cell_type": "code",
   "execution_count": 31,
   "id": "747eea23",
   "metadata": {},
   "outputs": [],
   "source": [
    "hvectorizer_char_result = ('hvectorizer_char', accuracy_score(test_enc_labels, pred))\n",
    "results.append(hvectorizer_char_result)       "
   ]
  },
  {
   "cell_type": "code",
   "execution_count": 32,
   "id": "60040540",
   "metadata": {},
   "outputs": [],
   "source": [
    "hvectorizer_word = HashingVectorizer(ngram_range=(1, 3), analyzer='word', n_features=50)"
   ]
  },
  {
   "cell_type": "code",
   "execution_count": 33,
   "id": "1383276f",
   "metadata": {},
   "outputs": [],
   "source": [
    "X_train = hvectorizer_word.fit_transform(train_tok)\n",
    "X_test = hvectorizer_word.transform(test_tok)"
   ]
  },
  {
   "cell_type": "code",
   "execution_count": 34,
   "id": "20d61b3d",
   "metadata": {},
   "outputs": [
    {
     "name": "stderr",
     "output_type": "stream",
     "text": [
      "/home/polina/anaconda3/lib/python3.9/site-packages/sklearn/linear_model/_logistic.py:814: ConvergenceWarning: lbfgs failed to converge (status=1):\n",
      "STOP: TOTAL NO. of ITERATIONS REACHED LIMIT.\n",
      "\n",
      "Increase the number of iterations (max_iter) or scale the data as shown in:\n",
      "    https://scikit-learn.org/stable/modules/preprocessing.html\n",
      "Please also refer to the documentation for alternative solver options:\n",
      "    https://scikit-learn.org/stable/modules/linear_model.html#logistic-regression\n",
      "  n_iter_i = _check_optimize_result(\n"
     ]
    },
    {
     "data": {
      "text/plain": [
       "LogisticRegression(max_iter=10, random_state=0)"
      ]
     },
     "execution_count": 34,
     "metadata": {},
     "output_type": "execute_result"
    }
   ],
   "source": [
    "lr = LogisticRegression(random_state=0, max_iter=10)\n",
    "lr.fit(X_train, train_enc_labels)"
   ]
  },
  {
   "cell_type": "code",
   "execution_count": 35,
   "id": "c8a003d0",
   "metadata": {},
   "outputs": [],
   "source": [
    "pred = lr.predict(X_test)"
   ]
  },
  {
   "cell_type": "code",
   "execution_count": 36,
   "id": "75b78a47",
   "metadata": {},
   "outputs": [
    {
     "data": {
      "text/plain": [
       "0.8275013254563357"
      ]
     },
     "execution_count": 36,
     "metadata": {},
     "output_type": "execute_result"
    }
   ],
   "source": [
    "accuracy_score(test_enc_labels, pred)"
   ]
  },
  {
   "cell_type": "code",
   "execution_count": 37,
   "id": "6e6848bb",
   "metadata": {},
   "outputs": [],
   "source": [
    "hvectorizer_word_result = ('hvectorizer_word', accuracy_score(test_enc_labels, pred))\n",
    "results.append(hvectorizer_word_result)      "
   ]
  },
  {
   "cell_type": "markdown",
   "id": "561341ab",
   "metadata": {},
   "source": [
    "#### Резюмируем результаты:"
   ]
  },
  {
   "cell_type": "code",
   "execution_count": 38,
   "id": "ee6ceeb5",
   "metadata": {},
   "outputs": [
    {
     "name": "stdout",
     "output_type": "stream",
     "text": [
      "('unigram_tagger', 0.8747254411876089)\n",
      "('bigram_tagger', 0.8817314246762099)\n",
      "('trigram_tagger', 0.8872983412860713)\n",
      "('hvectorizer_char', 0.8290540028781338)\n",
      "('hvectorizer_word', 0.8275013254563357)\n"
     ]
    }
   ],
   "source": [
    "for i in range(len(results)):\n",
    "    print(results[i])"
   ]
  },
  {
   "cell_type": "markdown",
   "id": "c2f9363c",
   "metadata": {},
   "source": [
    "__Вывод:__ лучше всего показатели у TrigramTagger"
   ]
  }
 ],
 "metadata": {
  "kernelspec": {
   "display_name": "Python 3 (ipykernel)",
   "language": "python",
   "name": "python3"
  },
  "language_info": {
   "codemirror_mode": {
    "name": "ipython",
    "version": 3
   },
   "file_extension": ".py",
   "mimetype": "text/x-python",
   "name": "python",
   "nbconvert_exporter": "python",
   "pygments_lexer": "ipython3",
   "version": "3.9.13"
  }
 },
 "nbformat": 4,
 "nbformat_minor": 5
}
