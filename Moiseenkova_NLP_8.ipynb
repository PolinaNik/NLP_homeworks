{
 "cells": [
  {
   "cell_type": "markdown",
   "metadata": {},
   "source": [
    "## Домашняя работа по теме \"Рекуррентные нейронные сети RNN LSTM GRU\""
   ]
  },
  {
   "cell_type": "markdown",
   "metadata": {},
   "source": [
    "__Задание__\n",
    "\n",
    "На вебинаре мы говорили что долгое время CNN и RNN архитектуры были конурируещими выяснить какая архитектура больше подходит для задачи сантимент анализа на данных с вебинара \n",
    "1. построить свёрточные архитектуры \n",
    "2. построить различные архитектуры с RNN\n",
    "3. построить совместные архитектуры CNN -> RNN  и (RNN -> CNN)\n",
    "4. сдлать выводы что получилось лучше"
   ]
  },
  {
   "cell_type": "code",
   "execution_count": 46,
   "metadata": {},
   "outputs": [
    {
     "name": "stderr",
     "output_type": "stream",
     "text": [
      "[nltk_data] Downloading package punkt to\n",
      "[nltk_data]     C:\\Users\\Полина\\AppData\\Roaming\\nltk_data...\n",
      "[nltk_data]   Package punkt is already up-to-date!\n"
     ]
    }
   ],
   "source": [
    "import pandas as pd\n",
    "from sklearn.model_selection import train_test_split\n",
    "\n",
    "from string import punctuation\n",
    "from stop_words import get_stop_words\n",
    "from pymorphy2 import MorphAnalyzer\n",
    "import re\n",
    "\n",
    "\n",
    "import nltk\n",
    "from nltk.tokenize import word_tokenize\n",
    "nltk.download(\"punkt\")\n",
    "from nltk.probability import FreqDist\n",
    "\n",
    "import numpy as np\n",
    "import tensorflow as tf\n",
    "import keras\n",
    "from keras.models import Sequential, Model\n",
    "from keras.layers import Dense, Dropout, Activation, Input, Embedding, Conv1D, GlobalMaxPool1D, SimpleRNN, LSTM, GRU, Masking, Flatten\n",
    "from keras.preprocessing.text import Tokenizer\n",
    "from keras.preprocessing.sequence import pad_sequences\n",
    "from keras.callbacks import TensorBoard \n",
    "from keras.callbacks import EarlyStopping  \n",
    "from keras.losses import categorical_crossentropy\n",
    "from sklearn.preprocessing import LabelEncoder"
   ]
  },
  {
   "cell_type": "markdown",
   "metadata": {},
   "source": [
    "Загрузка данных"
   ]
  },
  {
   "cell_type": "code",
   "execution_count": 11,
   "metadata": {},
   "outputs": [
    {
     "data": {
      "text/html": [
       "<div>\n",
       "<style scoped>\n",
       "    .dataframe tbody tr th:only-of-type {\n",
       "        vertical-align: middle;\n",
       "    }\n",
       "\n",
       "    .dataframe tbody tr th {\n",
       "        vertical-align: top;\n",
       "    }\n",
       "\n",
       "    .dataframe thead th {\n",
       "        text-align: right;\n",
       "    }\n",
       "</style>\n",
       "<table border=\"1\" class=\"dataframe\">\n",
       "  <thead>\n",
       "    <tr style=\"text-align: right;\">\n",
       "      <th></th>\n",
       "      <th>Rating</th>\n",
       "      <th>Content</th>\n",
       "      <th>Date</th>\n",
       "    </tr>\n",
       "  </thead>\n",
       "  <tbody>\n",
       "    <tr>\n",
       "      <th>0</th>\n",
       "      <td>5</td>\n",
       "      <td>It just works!</td>\n",
       "      <td>2017-08-14</td>\n",
       "    </tr>\n",
       "    <tr>\n",
       "      <th>1</th>\n",
       "      <td>4</td>\n",
       "      <td>В целом удобноное приложение...из минусов хотя...</td>\n",
       "      <td>2017-08-14</td>\n",
       "    </tr>\n",
       "    <tr>\n",
       "      <th>2</th>\n",
       "      <td>5</td>\n",
       "      <td>Отлично все</td>\n",
       "      <td>2017-08-14</td>\n",
       "    </tr>\n",
       "    <tr>\n",
       "      <th>3</th>\n",
       "      <td>5</td>\n",
       "      <td>Стал зависать на 1% работы антивируса. Дальше ...</td>\n",
       "      <td>2017-08-14</td>\n",
       "    </tr>\n",
       "    <tr>\n",
       "      <th>4</th>\n",
       "      <td>5</td>\n",
       "      <td>Очень удобно, работает быстро.</td>\n",
       "      <td>2017-08-14</td>\n",
       "    </tr>\n",
       "    <tr>\n",
       "      <th>5</th>\n",
       "      <td>5</td>\n",
       "      <td>Всё удобно норм 👍👍👍</td>\n",
       "      <td>2017-08-14</td>\n",
       "    </tr>\n",
       "    <tr>\n",
       "      <th>6</th>\n",
       "      <td>5</td>\n",
       "      <td>Очень удобное приложение.</td>\n",
       "      <td>2017-08-14</td>\n",
       "    </tr>\n",
       "    <tr>\n",
       "      <th>7</th>\n",
       "      <td>5</td>\n",
       "      <td>Все устраивает</td>\n",
       "      <td>2017-08-14</td>\n",
       "    </tr>\n",
       "    <tr>\n",
       "      <th>8</th>\n",
       "      <td>5</td>\n",
       "      <td>У меня работает все четко. В отличии от банком...</td>\n",
       "      <td>2017-08-14</td>\n",
       "    </tr>\n",
       "    <tr>\n",
       "      <th>9</th>\n",
       "      <td>5</td>\n",
       "      <td>Очень все хорошо👍</td>\n",
       "      <td>2017-08-14</td>\n",
       "    </tr>\n",
       "  </tbody>\n",
       "</table>\n",
       "</div>"
      ],
      "text/plain": [
       "   Rating                                            Content        Date\n",
       "0       5                                     It just works!  2017-08-14\n",
       "1       4  В целом удобноное приложение...из минусов хотя...  2017-08-14\n",
       "2       5                                        Отлично все  2017-08-14\n",
       "3       5  Стал зависать на 1% работы антивируса. Дальше ...  2017-08-14\n",
       "4       5                     Очень удобно, работает быстро.  2017-08-14\n",
       "5       5                                Всё удобно норм 👍👍👍  2017-08-14\n",
       "6       5                          Очень удобное приложение.  2017-08-14\n",
       "7       5                                     Все устраивает  2017-08-14\n",
       "8       5  У меня работает все четко. В отличии от банком...  2017-08-14\n",
       "9       5                                  Очень все хорошо👍  2017-08-14"
      ]
     },
     "execution_count": 11,
     "metadata": {},
     "output_type": "execute_result"
    }
   ],
   "source": [
    "df = pd.read_excel('отзывы за лето.xls')\n",
    "df.head(10)"
   ]
  },
  {
   "cell_type": "code",
   "execution_count": 12,
   "metadata": {},
   "outputs": [
    {
     "data": {
      "text/plain": [
       "((13841, 3), (6818, 3))"
      ]
     },
     "execution_count": 12,
     "metadata": {},
     "output_type": "execute_result"
    }
   ],
   "source": [
    "df_train, df_test = train_test_split(df, test_size=0.33, random_state=42)\n",
    "df_train = df_train.reset_index(drop=True)\n",
    "df_test = df_test.reset_index(drop=True)\n",
    "df_train.shape, df_test.shape"
   ]
  },
  {
   "cell_type": "markdown",
   "metadata": {},
   "source": [
    "Предобработка данных"
   ]
  },
  {
   "cell_type": "code",
   "execution_count": 13,
   "metadata": {},
   "outputs": [],
   "source": [
    "sw = set(get_stop_words(\"ru\"))\n",
    "exclude = set(punctuation)\n",
    "morpher = MorphAnalyzer()\n",
    "\n",
    "def preprocess_text(txt):\n",
    "    txt = str(txt)\n",
    "    txt = \"\".join(c for c in txt if c not in exclude)\n",
    "    txt = txt.lower()\n",
    "    txt = re.sub(\"\\sне\", \"не\", txt)\n",
    "    txt = txt.strip('\\n').strip('\\r').strip('\\t')\n",
    "    txt = re.sub(\"-\\s\\r\\n\\|-\\s\\r\\n|\\r\\n\", '', str(txt))\n",
    "\n",
    "    txt = re.sub(\"[0-9]|[-—.,:;_%©«»?*!@#№$^•·&()]|[+=]|[[]|[]]|[/]|\", '', txt)\n",
    "    txt = re.sub(r\"\\r\\n\\t|\\n|\\\\s|\\r\\t|\\\\n\", ' ', txt)\n",
    "    txt = re.sub(r'[\\xad]|[\\s+]', ' ', txt.strip())\n",
    "    txt = [morpher.parse(word)[0].normal_form for word in txt.split() if word not in sw]\n",
    "    \n",
    "    return \" \".join(txt)\n"
   ]
  },
  {
   "cell_type": "code",
   "execution_count": 14,
   "metadata": {},
   "outputs": [],
   "source": [
    "df_train['Content'] = df_train['Content'].apply(preprocess_text)\n",
    "df_test['Content'] = df_test['Content'].apply(preprocess_text)"
   ]
  },
  {
   "cell_type": "code",
   "execution_count": 15,
   "metadata": {},
   "outputs": [],
   "source": [
    "# Готовим словарь\n",
    "train_corpus = \" \".join(df_train[\"Content\"])\n",
    "train_corpus = train_corpus.lower()\n",
    "tokens = word_tokenize(train_corpus)"
   ]
  },
  {
   "cell_type": "code",
   "execution_count": 17,
   "metadata": {},
   "outputs": [],
   "source": [
    "# Отфильтруем и возьмем только топ N токенов\n",
    "tokens_filtered = [word for word in tokens if word.isalnum()] #фильтруем, чтобы остались только буквы и цифры\n",
    "\n",
    "# Создаем словарь токен:количество в корпусе\n",
    "dist = FreqDist(tokens_filtered)"
   ]
  },
  {
   "cell_type": "code",
   "execution_count": 18,
   "metadata": {},
   "outputs": [
    {
     "data": {
      "text/plain": [
       "['приложение',\n",
       " 'удобно',\n",
       " 'работать',\n",
       " 'удобный',\n",
       " 'отлично',\n",
       " 'нравиться',\n",
       " 'хороший',\n",
       " 'отличный',\n",
       " 'телефон',\n",
       " 'супер']"
      ]
     },
     "execution_count": 18,
     "metadata": {},
     "output_type": "execute_result"
    }
   ],
   "source": [
    "max_words = 20000\n",
    "\n",
    "tokens_filtered_top = [pair[0] for pair in dist.most_common(max_words-1)]\n",
    "tokens_filtered_top[:10]"
   ]
  },
  {
   "cell_type": "code",
   "execution_count": 20,
   "metadata": {},
   "outputs": [],
   "source": [
    "# Создаем словарь из топ-20000 токенов: токен:его рейтинг(место в топ-200)\n",
    "vocabulary = {v: k for k, v in dict(enumerate(tokens_filtered_top, 1)).items()}"
   ]
  },
  {
   "cell_type": "code",
   "execution_count": 21,
   "metadata": {},
   "outputs": [],
   "source": [
    "def text_to_sequence(text, maxlen):\n",
    "\n",
    "    \"\"\" Преобразуем трейновый и тестовый датасеты:\n",
    "        - Приводим к нижнему регистру\n",
    "        - Токенизируем\n",
    "        Проверяем: если токен есть в словаре, то в результат, пишет его номер из словаря\n",
    "        в противном случае - пропускаем, до полной длины добиваем нулями \"\"\"\n",
    "    \n",
    "    result = []\n",
    "    tokens = word_tokenize(text.lower()) \n",
    "    tokens_filtered = [word for word in tokens if word.isalnum()]\n",
    "    for word in tokens_filtered:\n",
    "        if word in vocabulary:\n",
    "            result.append(vocabulary[word])\n",
    "    padding = [0]*(maxlen-len(result))\n",
    "    return padding + result[-maxlen:]"
   ]
  },
  {
   "cell_type": "code",
   "execution_count": 22,
   "metadata": {},
   "outputs": [],
   "source": [
    "max_len = 150"
   ]
  },
  {
   "cell_type": "code",
   "execution_count": 23,
   "metadata": {},
   "outputs": [
    {
     "data": {
      "text/plain": [
       "array([[  0,   0,   0, ...,   1,   2,  15],\n",
       "       [  0,   0,   0, ...,   0,   2, 177],\n",
       "       [  0,   0,   0, ...,   0,   0,   5],\n",
       "       ...,\n",
       "       [  0,   0,   0, ..., 160,  27,  83],\n",
       "       [  0,   0,   0, ...,   0,   0,  20],\n",
       "       [  0,   0,   0, ...,   0, 111,   5]])"
      ]
     },
     "execution_count": 23,
     "metadata": {},
     "output_type": "execute_result"
    }
   ],
   "source": [
    "x_train = np.asarray([text_to_sequence(text, max_len) for text in df_train[\"Content\"]], dtype=np.int32)\n",
    "x_test = np.asarray([text_to_sequence(text, max_len) for text in df_test[\"Content\"]], dtype=np.int32)\n",
    "x_train"
   ]
  },
  {
   "cell_type": "markdown",
   "metadata": {},
   "source": [
    "Для подсчета функции потерь y_train и y_test должны быть представлены one-hot кодированием."
   ]
  },
  {
   "cell_type": "code",
   "execution_count": 24,
   "metadata": {},
   "outputs": [
    {
     "data": {
      "text/plain": [
       "array([1, 2, 3, 4, 5], dtype=int64)"
      ]
     },
     "execution_count": 24,
     "metadata": {},
     "output_type": "execute_result"
    }
   ],
   "source": [
    "le = LabelEncoder()\n",
    "train_enc_labels = le.fit_transform(df_train['Rating']) \n",
    "test_enc_labels = le.transform(df_test['Rating'])\n",
    "le.classes_"
   ]
  },
  {
   "cell_type": "code",
   "execution_count": 25,
   "metadata": {},
   "outputs": [
    {
     "data": {
      "text/plain": [
       "array([[0., 0., 0., 0., 1.],\n",
       "       [0., 0., 0., 0., 1.],\n",
       "       [0., 0., 0., 0., 1.],\n",
       "       ...,\n",
       "       [1., 0., 0., 0., 0.],\n",
       "       [0., 0., 0., 0., 1.],\n",
       "       [0., 0., 0., 0., 1.]], dtype=float32)"
      ]
     },
     "execution_count": 25,
     "metadata": {},
     "output_type": "execute_result"
    }
   ],
   "source": [
    "num_classes = 5\n",
    "y_train = tf.keras.utils.to_categorical(train_enc_labels, num_classes=num_classes)\n",
    "y_test = tf.keras.utils.to_categorical(test_enc_labels, num_classes=num_classes)\n",
    "y_train"
   ]
  },
  {
   "cell_type": "markdown",
   "metadata": {},
   "source": [
    "### CNN"
   ]
  },
  {
   "cell_type": "code",
   "execution_count": 47,
   "metadata": {},
   "outputs": [
    {
     "name": "stdout",
     "output_type": "stream",
     "text": [
      "Epoch 1/10\n",
      "25/25 [==============================] - 9s 334ms/step - loss: 1.1860 - accuracy: 0.6895 - val_loss: 0.9693 - val_accuracy: 0.7011\n",
      "Epoch 2/10\n",
      "25/25 [==============================] - 15s 587ms/step - loss: 0.8480 - accuracy: 0.7169 - val_loss: 0.7892 - val_accuracy: 0.7350\n",
      "Epoch 3/10\n",
      "25/25 [==============================] - 15s 584ms/step - loss: 0.6955 - accuracy: 0.7697 - val_loss: 0.7266 - val_accuracy: 0.7451\n",
      "Epoch 4/10\n",
      "25/25 [==============================] - 12s 477ms/step - loss: 0.6233 - accuracy: 0.7888 - val_loss: 0.7047 - val_accuracy: 0.7545\n",
      "Epoch 5/10\n",
      "25/25 [==============================] - 8s 324ms/step - loss: 0.5729 - accuracy: 0.8088 - val_loss: 0.6989 - val_accuracy: 0.7545\n",
      "Epoch 6/10\n",
      "25/25 [==============================] - 9s 341ms/step - loss: 0.5327 - accuracy: 0.8243 - val_loss: 0.7036 - val_accuracy: 0.7545\n"
     ]
    }
   ],
   "source": [
    "model = Sequential()\n",
    "model.add(Embedding(input_dim=max_words, output_dim=128, input_length=max_len))\n",
    "model.add(Conv1D(128, 3))\n",
    "model.add(Activation(\"relu\"))\n",
    "model.add(GlobalMaxPool1D())\n",
    "model.add(Dense(10))\n",
    "model.add(Activation(\"relu\"))\n",
    "model.add(Dense(num_classes))\n",
    "model.add(Activation('softmax'))\n",
    "\n",
    "model.compile(loss='categorical_crossentropy',\n",
    "              optimizer='adam',\n",
    "              metrics=['accuracy'])\n",
    "\n",
    "early_stopping=EarlyStopping(monitor='val_loss')  \n",
    "\n",
    "epochs = 10\n",
    "batch_size = 512\n",
    "\n",
    "history = model.fit(x_train, y_train,\n",
    "                    batch_size=batch_size,\n",
    "                    epochs=epochs,\n",
    "                    verbose=1,\n",
    "                    validation_split=0.1,\n",
    "                    callbacks=[early_stopping])"
   ]
  },
  {
   "cell_type": "code",
   "execution_count": 48,
   "metadata": {},
   "outputs": [
    {
     "name": "stdout",
     "output_type": "stream",
     "text": [
      "14/14 [==============================] - 1s 68ms/step - loss: 0.6703 - accuracy: 0.7696\n",
      "Test score: 0.6703131794929504\n",
      "Test accuracy: 0.7695805430412292\n"
     ]
    }
   ],
   "source": [
    "score = model.evaluate(x_test, y_test, batch_size=batch_size, verbose=1)\n",
    "\n",
    "metrics_df = pd.DataFrame([{'model': 'CNN', 'Test score': score[0], 'Test accuracy': score[1]}])\n",
    "\n",
    "print('Test score:', score[0])\n",
    "print('Test accuracy:', score[1])"
   ]
  },
  {
   "cell_type": "markdown",
   "metadata": {},
   "source": [
    "### SimpleRNN"
   ]
  },
  {
   "cell_type": "code",
   "execution_count": 50,
   "metadata": {},
   "outputs": [
    {
     "name": "stdout",
     "output_type": "stream",
     "text": [
      "Epoch 1/10\n",
      "25/25 [==============================] - 18s 680ms/step - loss: 1.5019 - accuracy: 0.6006 - val_loss: 1.2810 - val_accuracy: 0.7199\n",
      "Epoch 2/10\n",
      "25/25 [==============================] - 16s 649ms/step - loss: 1.0278 - accuracy: 0.7401 - val_loss: 0.8602 - val_accuracy: 0.7321\n",
      "Epoch 3/10\n",
      "25/25 [==============================] - 15s 605ms/step - loss: 0.7431 - accuracy: 0.7722 - val_loss: 0.7686 - val_accuracy: 0.7451\n",
      "Epoch 4/10\n",
      "25/25 [==============================] - 13s 529ms/step - loss: 0.6585 - accuracy: 0.7838 - val_loss: 0.7502 - val_accuracy: 0.7480\n",
      "Epoch 5/10\n",
      "25/25 [==============================] - 13s 529ms/step - loss: 0.6055 - accuracy: 0.7958 - val_loss: 0.7590 - val_accuracy: 0.7509\n"
     ]
    }
   ],
   "source": [
    "model = Sequential()\n",
    "\n",
    "model.add(Embedding(input_dim=max_words, \n",
    "                    output_dim=128, \n",
    "                    input_length=max_len,\n",
    "                    trainable=True,\n",
    "                    mask_zero=True))\n",
    "model.add(SimpleRNN(128))\n",
    "model.add(Activation(\"relu\"))\n",
    "model.add(Dropout(0.2))\n",
    "model.add(Flatten())\n",
    "model.add(Dense(10))\n",
    "model.add(Activation(\"relu\"))\n",
    "model.add(Dense(num_classes))\n",
    "model.add(Activation('softmax'))\n",
    "\n",
    "model.compile(\n",
    "    optimizer='adam', loss='categorical_crossentropy', metrics=['accuracy'])\n",
    "\n",
    "\n",
    "early_stopping=EarlyStopping(monitor='val_loss')  \n",
    "\n",
    "epochs = 10\n",
    "batch_size = 512\n",
    "\n",
    "history = model.fit(x_train, y_train,\n",
    "                    batch_size=batch_size,\n",
    "                    epochs=epochs,\n",
    "                    verbose=1,\n",
    "                    validation_split=0.1,\n",
    "                    callbacks=[early_stopping])"
   ]
  },
  {
   "cell_type": "code",
   "execution_count": 51,
   "metadata": {},
   "outputs": [
    {
     "name": "stdout",
     "output_type": "stream",
     "text": [
      "14/14 [==============================] - 2s 140ms/step - loss: 0.7350 - accuracy: 0.7728\n",
      "Test score: 0.7350128889083862\n",
      "Test accuracy: 0.7728073000907898\n"
     ]
    }
   ],
   "source": [
    "score = model.evaluate(x_test, y_test, batch_size=batch_size, verbose=1)\n",
    "\n",
    "new_record = pd.DataFrame([{'model': 'RNN', 'Test score': score[0], 'Test accuracy': score[1]}])\n",
    "metrics_df = pd.concat([metrics_df, new_record], ignore_index=True)\n",
    "\n",
    "print('Test score:', score[0])\n",
    "print('Test accuracy:', score[1])"
   ]
  },
  {
   "cell_type": "code",
   "execution_count": 52,
   "metadata": {},
   "outputs": [
    {
     "data": {
      "text/html": [
       "<div>\n",
       "<style scoped>\n",
       "    .dataframe tbody tr th:only-of-type {\n",
       "        vertical-align: middle;\n",
       "    }\n",
       "\n",
       "    .dataframe tbody tr th {\n",
       "        vertical-align: top;\n",
       "    }\n",
       "\n",
       "    .dataframe thead th {\n",
       "        text-align: right;\n",
       "    }\n",
       "</style>\n",
       "<table border=\"1\" class=\"dataframe\">\n",
       "  <thead>\n",
       "    <tr style=\"text-align: right;\">\n",
       "      <th></th>\n",
       "      <th>model</th>\n",
       "      <th>Test score</th>\n",
       "      <th>Test accuracy</th>\n",
       "    </tr>\n",
       "  </thead>\n",
       "  <tbody>\n",
       "    <tr>\n",
       "      <th>0</th>\n",
       "      <td>CNN</td>\n",
       "      <td>0.670313</td>\n",
       "      <td>0.769581</td>\n",
       "    </tr>\n",
       "    <tr>\n",
       "      <th>1</th>\n",
       "      <td>RNN</td>\n",
       "      <td>0.735013</td>\n",
       "      <td>0.772807</td>\n",
       "    </tr>\n",
       "  </tbody>\n",
       "</table>\n",
       "</div>"
      ],
      "text/plain": [
       "  model  Test score  Test accuracy\n",
       "0   CNN    0.670313       0.769581\n",
       "1   RNN    0.735013       0.772807"
      ]
     },
     "execution_count": 52,
     "metadata": {},
     "output_type": "execute_result"
    }
   ],
   "source": [
    "metrics_df"
   ]
  },
  {
   "cell_type": "markdown",
   "metadata": {},
   "source": [
    "### LSTM"
   ]
  },
  {
   "cell_type": "code",
   "execution_count": 53,
   "metadata": {},
   "outputs": [
    {
     "name": "stdout",
     "output_type": "stream",
     "text": [
      "Epoch 1/10\n",
      "25/25 [==============================] - 64s 2s/step - loss: 1.5508 - accuracy: 0.6659 - val_loss: 1.4382 - val_accuracy: 0.7141\n",
      "Epoch 2/10\n",
      "25/25 [==============================] - 67s 3s/step - loss: 1.1900 - accuracy: 0.7236 - val_loss: 0.9875 - val_accuracy: 0.7278\n",
      "Epoch 3/10\n",
      "25/25 [==============================] - 57s 2s/step - loss: 0.8157 - accuracy: 0.7573 - val_loss: 0.8181 - val_accuracy: 0.7495\n",
      "Epoch 4/10\n",
      "25/25 [==============================] - 61s 2s/step - loss: 0.6886 - accuracy: 0.7858 - val_loss: 0.7858 - val_accuracy: 0.7639\n",
      "Epoch 5/10\n",
      "25/25 [==============================] - 83s 3s/step - loss: 0.6113 - accuracy: 0.8105 - val_loss: 0.7770 - val_accuracy: 0.7610\n",
      "Epoch 6/10\n",
      "25/25 [==============================] - 77s 3s/step - loss: 0.5486 - accuracy: 0.8315 - val_loss: 0.7992 - val_accuracy: 0.7502\n"
     ]
    }
   ],
   "source": [
    "model = Sequential()\n",
    "\n",
    "model.add(Embedding(input_dim=max_words, \n",
    "                    output_dim=128, \n",
    "                    input_length=max_len,\n",
    "                    trainable=True,\n",
    "                    mask_zero=True))\n",
    "model.add(LSTM(128))\n",
    "model.add(Activation(\"relu\"))\n",
    "model.add(Dropout(0.2))\n",
    "model.add(Flatten())\n",
    "model.add(Dense(10))\n",
    "model.add(Activation(\"relu\"))\n",
    "model.add(Dense(num_classes))\n",
    "model.add(Activation('softmax'))\n",
    "\n",
    "model.compile(\n",
    "    optimizer='adam', loss='categorical_crossentropy', metrics=['accuracy'])\n",
    "\n",
    "\n",
    "early_stopping=EarlyStopping(monitor='val_loss')  \n",
    "\n",
    "epochs = 10\n",
    "batch_size = 512\n",
    "\n",
    "history = model.fit(x_train, y_train,\n",
    "                    batch_size=batch_size,\n",
    "                    epochs=epochs,\n",
    "                    verbose=1,\n",
    "                    validation_split=0.1,\n",
    "                    callbacks=[early_stopping])"
   ]
  },
  {
   "cell_type": "code",
   "execution_count": 54,
   "metadata": {},
   "outputs": [
    {
     "name": "stdout",
     "output_type": "stream",
     "text": [
      "14/14 [==============================] - 11s 778ms/step - loss: 0.7702 - accuracy: 0.7653\n",
      "Test score: 0.7701677083969116\n",
      "Test accuracy: 0.7653270959854126\n"
     ]
    }
   ],
   "source": [
    "score = model.evaluate(x_test, y_test, batch_size=batch_size, verbose=1)\n",
    "\n",
    "new_record = pd.DataFrame([{'model': 'LSTM', 'Test score': score[0], 'Test accuracy': score[1]}])\n",
    "metrics_df = pd.concat([metrics_df, new_record], ignore_index=True)\n",
    "\n",
    "print('Test score:', score[0])\n",
    "print('Test accuracy:', score[1])"
   ]
  },
  {
   "cell_type": "code",
   "execution_count": 55,
   "metadata": {},
   "outputs": [
    {
     "data": {
      "text/html": [
       "<div>\n",
       "<style scoped>\n",
       "    .dataframe tbody tr th:only-of-type {\n",
       "        vertical-align: middle;\n",
       "    }\n",
       "\n",
       "    .dataframe tbody tr th {\n",
       "        vertical-align: top;\n",
       "    }\n",
       "\n",
       "    .dataframe thead th {\n",
       "        text-align: right;\n",
       "    }\n",
       "</style>\n",
       "<table border=\"1\" class=\"dataframe\">\n",
       "  <thead>\n",
       "    <tr style=\"text-align: right;\">\n",
       "      <th></th>\n",
       "      <th>model</th>\n",
       "      <th>Test score</th>\n",
       "      <th>Test accuracy</th>\n",
       "    </tr>\n",
       "  </thead>\n",
       "  <tbody>\n",
       "    <tr>\n",
       "      <th>0</th>\n",
       "      <td>CNN</td>\n",
       "      <td>0.670313</td>\n",
       "      <td>0.769581</td>\n",
       "    </tr>\n",
       "    <tr>\n",
       "      <th>1</th>\n",
       "      <td>RNN</td>\n",
       "      <td>0.735013</td>\n",
       "      <td>0.772807</td>\n",
       "    </tr>\n",
       "    <tr>\n",
       "      <th>2</th>\n",
       "      <td>LSTM</td>\n",
       "      <td>0.770168</td>\n",
       "      <td>0.765327</td>\n",
       "    </tr>\n",
       "  </tbody>\n",
       "</table>\n",
       "</div>"
      ],
      "text/plain": [
       "  model  Test score  Test accuracy\n",
       "0   CNN    0.670313       0.769581\n",
       "1   RNN    0.735013       0.772807\n",
       "2  LSTM    0.770168       0.765327"
      ]
     },
     "execution_count": 55,
     "metadata": {},
     "output_type": "execute_result"
    }
   ],
   "source": [
    "metrics_df"
   ]
  },
  {
   "cell_type": "markdown",
   "metadata": {},
   "source": [
    "### GRU"
   ]
  },
  {
   "cell_type": "code",
   "execution_count": 56,
   "metadata": {},
   "outputs": [
    {
     "name": "stdout",
     "output_type": "stream",
     "text": [
      "Epoch 1/10\n",
      "25/25 [==============================] - 46s 2s/step - loss: 1.5472 - accuracy: 0.6439 - val_loss: 1.4324 - val_accuracy: 0.7011\n",
      "Epoch 2/10\n",
      "25/25 [==============================] - 38s 2s/step - loss: 1.1765 - accuracy: 0.7058 - val_loss: 0.9970 - val_accuracy: 0.7004\n",
      "Epoch 3/10\n",
      "25/25 [==============================] - 37s 1s/step - loss: 0.8136 - accuracy: 0.7476 - val_loss: 0.7973 - val_accuracy: 0.7458\n",
      "Epoch 4/10\n",
      "25/25 [==============================] - 38s 2s/step - loss: 0.6704 - accuracy: 0.7797 - val_loss: 0.7799 - val_accuracy: 0.7451\n",
      "Epoch 5/10\n",
      "25/25 [==============================] - 39s 2s/step - loss: 0.5917 - accuracy: 0.8017 - val_loss: 0.7840 - val_accuracy: 0.7531\n"
     ]
    }
   ],
   "source": [
    "model = Sequential()\n",
    "\n",
    "model.add(Embedding(input_dim=max_words, \n",
    "                    output_dim=128, \n",
    "                    input_length=max_len,\n",
    "                    trainable=True,\n",
    "                    mask_zero=True))\n",
    "model.add(GRU(128))\n",
    "model.add(Activation(\"relu\"))\n",
    "model.add(Dropout(0.2))\n",
    "model.add(Flatten())\n",
    "model.add(Dense(10))\n",
    "model.add(Activation(\"relu\"))\n",
    "model.add(Dense(num_classes))\n",
    "model.add(Activation('softmax'))\n",
    "\n",
    "model.compile(\n",
    "    optimizer='adam', loss='categorical_crossentropy', metrics=['accuracy'])\n",
    "\n",
    "\n",
    "early_stopping=EarlyStopping(monitor='val_loss')  \n",
    "\n",
    "epochs = 10\n",
    "batch_size = 512\n",
    "\n",
    "history = model.fit(x_train, y_train,\n",
    "                    batch_size=batch_size,\n",
    "                    epochs=epochs,\n",
    "                    verbose=1,\n",
    "                    validation_split=0.1,\n",
    "                    callbacks=[early_stopping])"
   ]
  },
  {
   "cell_type": "code",
   "execution_count": 57,
   "metadata": {},
   "outputs": [
    {
     "name": "stdout",
     "output_type": "stream",
     "text": [
      "14/14 [==============================] - 5s 334ms/step - loss: 0.7487 - accuracy: 0.7735\n",
      "Test score: 0.7487202882766724\n",
      "Test accuracy: 0.7735406160354614\n"
     ]
    }
   ],
   "source": [
    "score = model.evaluate(x_test, y_test, batch_size=batch_size, verbose=1)\n",
    "\n",
    "new_record = pd.DataFrame([{'model': 'GRU', 'Test score': score[0], 'Test accuracy': score[1]}])\n",
    "metrics_df = pd.concat([metrics_df, new_record], ignore_index=True)\n",
    "\n",
    "print('Test score:', score[0])\n",
    "print('Test accuracy:', score[1])"
   ]
  },
  {
   "cell_type": "markdown",
   "metadata": {},
   "source": [
    "### CNN -> LSTM"
   ]
  },
  {
   "cell_type": "code",
   "execution_count": 58,
   "metadata": {},
   "outputs": [
    {
     "name": "stdout",
     "output_type": "stream",
     "text": [
      "Epoch 1/10\n",
      "25/25 [==============================] - 48s 2s/step - loss: 1.0934 - accuracy: 0.7017 - val_loss: 0.8396 - val_accuracy: 0.7076\n",
      "Epoch 2/10\n",
      "25/25 [==============================] - 44s 2s/step - loss: 0.7782 - accuracy: 0.7442 - val_loss: 0.7435 - val_accuracy: 0.7343\n",
      "Epoch 3/10\n",
      "25/25 [==============================] - 44s 2s/step - loss: 0.6725 - accuracy: 0.7697 - val_loss: 0.7187 - val_accuracy: 0.7401\n",
      "Epoch 4/10\n",
      "25/25 [==============================] - 44s 2s/step - loss: 0.5962 - accuracy: 0.7891 - val_loss: 0.7183 - val_accuracy: 0.7480\n",
      "Epoch 5/10\n",
      "25/25 [==============================] - 48s 2s/step - loss: 0.5438 - accuracy: 0.8115 - val_loss: 0.7344 - val_accuracy: 0.7458\n"
     ]
    }
   ],
   "source": [
    "model = Sequential()\n",
    "\n",
    "model.add(Embedding(input_dim=max_words, \n",
    "                    output_dim=128, \n",
    "                    input_length=max_len,\n",
    "                    trainable=True,\n",
    "                    mask_zero=True))\n",
    "model.add(Conv1D(128, 3))\n",
    "model.add(Activation(\"relu\"))\n",
    "model.add(LSTM(128))\n",
    "model.add(Activation(\"relu\"))\n",
    "model.add(Dropout(0.2))\n",
    "model.add(Flatten())\n",
    "model.add(Dense(10))\n",
    "model.add(Activation(\"relu\"))\n",
    "model.add(Dense(num_classes))\n",
    "model.add(Activation('softmax'))\n",
    "\n",
    "\n",
    "model.compile(\n",
    "    optimizer='adam', loss='categorical_crossentropy', metrics=['accuracy'])\n",
    "\n",
    "\n",
    "early_stopping=EarlyStopping(monitor='val_loss')  \n",
    "\n",
    "history = model.fit(x_train, y_train,\n",
    "                    batch_size=batch_size,\n",
    "                    epochs=epochs,\n",
    "                    verbose=1,\n",
    "                    validation_split=0.1,\n",
    "                    callbacks=[early_stopping])\n"
   ]
  },
  {
   "cell_type": "code",
   "execution_count": 59,
   "metadata": {},
   "outputs": [
    {
     "name": "stdout",
     "output_type": "stream",
     "text": [
      "14/14 [==============================] - 8s 544ms/step - loss: 0.7075 - accuracy: 0.7656\n",
      "Test score: 0.7075077891349792\n",
      "Test accuracy: 0.7656204104423523\n"
     ]
    }
   ],
   "source": [
    "score = model.evaluate(x_test, y_test, batch_size=batch_size, verbose=1)\n",
    "\n",
    "new_record = pd.DataFrame([{'model': 'CNN -> LSTM', 'Test score': score[0], 'Test accuracy': score[1]}])\n",
    "metrics_df = pd.concat([metrics_df, new_record], ignore_index=True)\n",
    "\n",
    "print('Test score:', score[0])\n",
    "print('Test accuracy:', score[1])"
   ]
  },
  {
   "cell_type": "code",
   "execution_count": 60,
   "metadata": {},
   "outputs": [
    {
     "data": {
      "text/html": [
       "<div>\n",
       "<style scoped>\n",
       "    .dataframe tbody tr th:only-of-type {\n",
       "        vertical-align: middle;\n",
       "    }\n",
       "\n",
       "    .dataframe tbody tr th {\n",
       "        vertical-align: top;\n",
       "    }\n",
       "\n",
       "    .dataframe thead th {\n",
       "        text-align: right;\n",
       "    }\n",
       "</style>\n",
       "<table border=\"1\" class=\"dataframe\">\n",
       "  <thead>\n",
       "    <tr style=\"text-align: right;\">\n",
       "      <th></th>\n",
       "      <th>model</th>\n",
       "      <th>Test score</th>\n",
       "      <th>Test accuracy</th>\n",
       "    </tr>\n",
       "  </thead>\n",
       "  <tbody>\n",
       "    <tr>\n",
       "      <th>0</th>\n",
       "      <td>CNN</td>\n",
       "      <td>0.670313</td>\n",
       "      <td>0.769581</td>\n",
       "    </tr>\n",
       "    <tr>\n",
       "      <th>1</th>\n",
       "      <td>RNN</td>\n",
       "      <td>0.735013</td>\n",
       "      <td>0.772807</td>\n",
       "    </tr>\n",
       "    <tr>\n",
       "      <th>2</th>\n",
       "      <td>LSTM</td>\n",
       "      <td>0.770168</td>\n",
       "      <td>0.765327</td>\n",
       "    </tr>\n",
       "    <tr>\n",
       "      <th>3</th>\n",
       "      <td>GRU</td>\n",
       "      <td>0.748720</td>\n",
       "      <td>0.773541</td>\n",
       "    </tr>\n",
       "    <tr>\n",
       "      <th>4</th>\n",
       "      <td>CNN -&gt; LSTM</td>\n",
       "      <td>0.707508</td>\n",
       "      <td>0.765620</td>\n",
       "    </tr>\n",
       "  </tbody>\n",
       "</table>\n",
       "</div>"
      ],
      "text/plain": [
       "         model  Test score  Test accuracy\n",
       "0          CNN    0.670313       0.769581\n",
       "1          RNN    0.735013       0.772807\n",
       "2         LSTM    0.770168       0.765327\n",
       "3          GRU    0.748720       0.773541\n",
       "4  CNN -> LSTM    0.707508       0.765620"
      ]
     },
     "execution_count": 60,
     "metadata": {},
     "output_type": "execute_result"
    }
   ],
   "source": [
    "metrics_df"
   ]
  },
  {
   "cell_type": "markdown",
   "metadata": {},
   "source": [
    "### CNN -> GRU"
   ]
  },
  {
   "cell_type": "code",
   "execution_count": 61,
   "metadata": {},
   "outputs": [
    {
     "name": "stdout",
     "output_type": "stream",
     "text": [
      "Epoch 1/10\n",
      "25/25 [==============================] - 44s 2s/step - loss: 1.1429 - accuracy: 0.6795 - val_loss: 0.8534 - val_accuracy: 0.7011\n",
      "Epoch 2/10\n",
      "25/25 [==============================] - 38s 2s/step - loss: 0.7908 - accuracy: 0.7035 - val_loss: 0.7774 - val_accuracy: 0.7069\n",
      "Epoch 3/10\n",
      "25/25 [==============================] - 38s 2s/step - loss: 0.7087 - accuracy: 0.7169 - val_loss: 0.7522 - val_accuracy: 0.7141\n",
      "Epoch 4/10\n",
      "25/25 [==============================] - 37s 1s/step - loss: 0.6343 - accuracy: 0.7640 - val_loss: 0.7440 - val_accuracy: 0.7394\n",
      "Epoch 5/10\n",
      "25/25 [==============================] - 43s 2s/step - loss: 0.5629 - accuracy: 0.7940 - val_loss: 0.7677 - val_accuracy: 0.7350\n"
     ]
    }
   ],
   "source": [
    "model = Sequential()\n",
    "\n",
    "model.add(Embedding(input_dim=max_words, \n",
    "                    output_dim=128, \n",
    "                    input_length=max_len,\n",
    "                    trainable=True,\n",
    "                    mask_zero=True))\n",
    "model.add(Conv1D(128, 3))\n",
    "model.add(Activation(\"relu\"))\n",
    "model.add(GRU(128))\n",
    "model.add(Activation(\"relu\"))\n",
    "model.add(Dropout(0.2))\n",
    "model.add(Flatten())\n",
    "model.add(Dense(10))\n",
    "model.add(Activation(\"relu\"))\n",
    "model.add(Dense(num_classes))\n",
    "model.add(Activation('softmax'))\n",
    "\n",
    "model.compile(\n",
    "    optimizer='adam', loss='categorical_crossentropy', metrics=['accuracy'])\n",
    "\n",
    "\n",
    "early_stopping=EarlyStopping(monitor='val_loss')  \n",
    "\n",
    "history = model.fit(x_train, y_train,\n",
    "                    batch_size=batch_size,\n",
    "                    epochs=epochs,\n",
    "                    verbose=1,\n",
    "                    validation_split=0.1,\n",
    "                    callbacks=[early_stopping])"
   ]
  },
  {
   "cell_type": "code",
   "execution_count": 62,
   "metadata": {},
   "outputs": [
    {
     "name": "stdout",
     "output_type": "stream",
     "text": [
      "14/14 [==============================] - 6s 395ms/step - loss: 0.7530 - accuracy: 0.7539\n",
      "Test score: 0.7530342936515808\n",
      "Test accuracy: 0.7538867592811584\n"
     ]
    }
   ],
   "source": [
    "score = model.evaluate(x_test, y_test, batch_size=batch_size, verbose=1)\n",
    "\n",
    "new_record = pd.DataFrame([{'model': 'CNN -> GRU', 'Test score': score[0], 'Test accuracy': score[1]}])\n",
    "metrics_df = pd.concat([metrics_df, new_record], ignore_index=True)\n",
    "\n",
    "print('Test score:', score[0])\n",
    "print('Test accuracy:', score[1])"
   ]
  },
  {
   "cell_type": "markdown",
   "metadata": {},
   "source": [
    "### CNN -> RNN"
   ]
  },
  {
   "cell_type": "code",
   "execution_count": 63,
   "metadata": {},
   "outputs": [
    {
     "name": "stdout",
     "output_type": "stream",
     "text": [
      "Epoch 1/10\n",
      "25/25 [==============================] - 19s 663ms/step - loss: 1.1230 - accuracy: 0.6680 - val_loss: 0.9000 - val_accuracy: 0.6924\n",
      "Epoch 2/10\n",
      "25/25 [==============================] - 20s 788ms/step - loss: 0.8183 - accuracy: 0.7296 - val_loss: 0.7682 - val_accuracy: 0.7336\n",
      "Epoch 3/10\n",
      "25/25 [==============================] - 18s 726ms/step - loss: 0.7003 - accuracy: 0.7662 - val_loss: 0.7284 - val_accuracy: 0.7357\n",
      "Epoch 4/10\n",
      "25/25 [==============================] - 17s 667ms/step - loss: 0.6182 - accuracy: 0.7839 - val_loss: 0.7019 - val_accuracy: 0.7466\n",
      "Epoch 5/10\n",
      "25/25 [==============================] - 17s 678ms/step - loss: 0.5576 - accuracy: 0.7958 - val_loss: 0.7058 - val_accuracy: 0.7502\n"
     ]
    }
   ],
   "source": [
    "model = Sequential()\n",
    "\n",
    "model.add(Embedding(input_dim=max_words, \n",
    "                    output_dim=128, \n",
    "                    input_length=max_len,\n",
    "                    trainable=True,\n",
    "                    mask_zero=True))\n",
    "model.add(Conv1D(128, 3))\n",
    "model.add(Activation(\"relu\"))\n",
    "model.add(SimpleRNN(128))\n",
    "model.add(Activation(\"relu\"))\n",
    "model.add(Dropout(0.2))\n",
    "model.add(Flatten())\n",
    "model.add(Dense(10))\n",
    "model.add(Activation(\"relu\"))\n",
    "model.add(Dense(num_classes))\n",
    "model.add(Activation('softmax'))\n",
    "\n",
    "model.compile(\n",
    "    optimizer='adam', loss='categorical_crossentropy', metrics=['accuracy'])\n",
    "\n",
    "\n",
    "early_stopping=EarlyStopping(monitor='val_loss')  \n",
    "\n",
    "history = model.fit(x_train, y_train,\n",
    "                    batch_size=batch_size,\n",
    "                    epochs=epochs,\n",
    "                    verbose=1,\n",
    "                    validation_split=0.1,\n",
    "                    callbacks=[early_stopping])"
   ]
  },
  {
   "cell_type": "code",
   "execution_count": 64,
   "metadata": {},
   "outputs": [
    {
     "name": "stdout",
     "output_type": "stream",
     "text": [
      "14/14 [==============================] - 3s 197ms/step - loss: 0.6841 - accuracy: 0.7708\n",
      "Test score: 0.6840823888778687\n",
      "Test accuracy: 0.7707538604736328\n"
     ]
    }
   ],
   "source": [
    "score = model.evaluate(x_test, y_test, batch_size=batch_size, verbose=1)\n",
    "\n",
    "new_record = pd.DataFrame([{'model': 'CNN -> RNN', 'Test score': score[0], 'Test accuracy': score[1]}])\n",
    "metrics_df = pd.concat([metrics_df, new_record], ignore_index=True)\n",
    "\n",
    "print('Test score:', score[0])\n",
    "print('Test accuracy:', score[1])"
   ]
  },
  {
   "cell_type": "markdown",
   "metadata": {},
   "source": [
    "### RNN -> CNN"
   ]
  },
  {
   "cell_type": "code",
   "execution_count": 65,
   "metadata": {},
   "outputs": [
    {
     "name": "stdout",
     "output_type": "stream",
     "text": [
      "Epoch 1/10\n",
      "25/25 [==============================] - 32s 1s/step - loss: 1.1814 - accuracy: 0.6751 - val_loss: 0.8863 - val_accuracy: 0.7191\n",
      "Epoch 2/10\n",
      "25/25 [==============================] - 30s 1s/step - loss: 0.8132 - accuracy: 0.7418 - val_loss: 0.7651 - val_accuracy: 0.7386\n",
      "Epoch 3/10\n",
      "25/25 [==============================] - 28s 1s/step - loss: 0.6457 - accuracy: 0.7771 - val_loss: 0.7228 - val_accuracy: 0.7422\n",
      "Epoch 4/10\n",
      "25/25 [==============================] - 29s 1s/step - loss: 0.5340 - accuracy: 0.8076 - val_loss: 0.7403 - val_accuracy: 0.7386\n"
     ]
    }
   ],
   "source": [
    "model = Sequential()\n",
    "\n",
    "model.add(Embedding(input_dim=max_words, \n",
    "                    output_dim=128, \n",
    "                    input_length=max_len,\n",
    "                    trainable=True,\n",
    "                    mask_zero=True))\n",
    "model.add(SimpleRNN(128, return_sequences=True))\n",
    "model.add(Activation(\"relu\"))\n",
    "model.add(Conv1D(128, 3))\n",
    "model.add(Activation(\"relu\"))\n",
    "model.add(Dropout(0.2))\n",
    "model.add(Flatten())\n",
    "model.add(Dense(10))\n",
    "model.add(Activation(\"relu\"))\n",
    "model.add(Dense(num_classes))\n",
    "model.add(Activation('softmax'))\n",
    "\n",
    "model.compile(\n",
    "    optimizer='adam', loss='categorical_crossentropy', metrics=['accuracy'])\n",
    "\n",
    "\n",
    "early_stopping=EarlyStopping(monitor='val_loss')  \n",
    "\n",
    "history = model.fit(x_train, y_train,\n",
    "                    batch_size=batch_size,\n",
    "                    epochs=epochs,\n",
    "                    verbose=1,\n",
    "                    validation_split=0.1,\n",
    "                    callbacks=[early_stopping])"
   ]
  },
  {
   "cell_type": "code",
   "execution_count": 66,
   "metadata": {},
   "outputs": [
    {
     "name": "stdout",
     "output_type": "stream",
     "text": [
      "14/14 [==============================] - 3s 234ms/step - loss: 0.7382 - accuracy: 0.7565\n",
      "Test score: 0.7381527423858643\n",
      "Test accuracy: 0.7565268278121948\n"
     ]
    }
   ],
   "source": [
    "score = model.evaluate(x_test, y_test, batch_size=batch_size, verbose=1)\n",
    "\n",
    "new_record = pd.DataFrame([{'model': 'RNN -> CNN', 'Test score': score[0], 'Test accuracy': score[1]}])\n",
    "metrics_df = pd.concat([metrics_df, new_record], ignore_index=True)\n",
    "\n",
    "print('Test score:', score[0])\n",
    "print('Test accuracy:', score[1])"
   ]
  },
  {
   "cell_type": "markdown",
   "metadata": {},
   "source": [
    "### LSTM -> CNN"
   ]
  },
  {
   "cell_type": "code",
   "execution_count": 67,
   "metadata": {},
   "outputs": [
    {
     "name": "stdout",
     "output_type": "stream",
     "text": [
      "Epoch 1/10\n",
      "25/25 [==============================] - 77s 3s/step - loss: 1.2182 - accuracy: 0.6773 - val_loss: 0.9971 - val_accuracy: 0.7047\n",
      "Epoch 2/10\n",
      "25/25 [==============================] - 78s 3s/step - loss: 0.8754 - accuracy: 0.7282 - val_loss: 0.8033 - val_accuracy: 0.7357\n",
      "Epoch 3/10\n",
      "25/25 [==============================] - 79s 3s/step - loss: 0.7162 - accuracy: 0.7585 - val_loss: 0.7310 - val_accuracy: 0.7422\n",
      "Epoch 4/10\n",
      "25/25 [==============================] - 81s 3s/step - loss: 0.6166 - accuracy: 0.7770 - val_loss: 0.7330 - val_accuracy: 0.7415\n"
     ]
    }
   ],
   "source": [
    "model = Sequential()\n",
    "\n",
    "model.add(Embedding(input_dim=max_words, \n",
    "                    output_dim=128, \n",
    "                    input_length=max_len,\n",
    "                    trainable=True,\n",
    "                    mask_zero=True))\n",
    "model.add(LSTM(128, return_sequences=True))\n",
    "model.add(Activation(\"relu\"))\n",
    "model.add(Conv1D(128, 3))\n",
    "model.add(Activation(\"relu\"))\n",
    "model.add(Dropout(0.2))\n",
    "model.add(Flatten())\n",
    "model.add(Dense(10))\n",
    "model.add(Activation(\"relu\"))\n",
    "model.add(Dense(num_classes))\n",
    "model.add(Activation('softmax'))\n",
    "\n",
    "model.compile(\n",
    "    optimizer='adam', loss='categorical_crossentropy', metrics=['accuracy'])\n",
    "\n",
    "\n",
    "early_stopping=EarlyStopping(monitor='val_loss')  \n",
    "\n",
    "history = model.fit(x_train, y_train,\n",
    "                    batch_size=batch_size,\n",
    "                    epochs=epochs,\n",
    "                    verbose=1,\n",
    "                    validation_split=0.1,\n",
    "                    callbacks=[early_stopping])"
   ]
  },
  {
   "cell_type": "code",
   "execution_count": 68,
   "metadata": {},
   "outputs": [
    {
     "name": "stdout",
     "output_type": "stream",
     "text": [
      "14/14 [==============================] - 11s 767ms/step - loss: 0.6932 - accuracy: 0.7656\n",
      "Test score: 0.6931517124176025\n",
      "Test accuracy: 0.7656204104423523\n"
     ]
    }
   ],
   "source": [
    "score = model.evaluate(x_test, y_test, batch_size=batch_size, verbose=1)\n",
    "\n",
    "new_record = pd.DataFrame([{'model': 'LSTM -> CNN', 'Test score': score[0], 'Test accuracy': score[1]}])\n",
    "metrics_df = pd.concat([metrics_df, new_record], ignore_index=True)\n",
    "\n",
    "print('Test score:', score[0])\n",
    "print('Test accuracy:', score[1])"
   ]
  },
  {
   "cell_type": "markdown",
   "metadata": {},
   "source": [
    "### GRU -> CNN"
   ]
  },
  {
   "cell_type": "code",
   "execution_count": 69,
   "metadata": {},
   "outputs": [
    {
     "name": "stdout",
     "output_type": "stream",
     "text": [
      "Epoch 1/10\n",
      "25/25 [==============================] - 61s 2s/step - loss: 1.2448 - accuracy: 0.6826 - val_loss: 1.0112 - val_accuracy: 0.7083\n",
      "Epoch 2/10\n",
      "25/25 [==============================] - 50s 2s/step - loss: 0.8482 - accuracy: 0.7268 - val_loss: 0.7824 - val_accuracy: 0.7350\n",
      "Epoch 3/10\n",
      "25/25 [==============================] - 50s 2s/step - loss: 0.6718 - accuracy: 0.7600 - val_loss: 0.7322 - val_accuracy: 0.7451\n",
      "Epoch 4/10\n",
      "25/25 [==============================] - 52s 2s/step - loss: 0.5840 - accuracy: 0.7859 - val_loss: 0.7786 - val_accuracy: 0.7408\n"
     ]
    }
   ],
   "source": [
    "model = Sequential()\n",
    "\n",
    "model.add(Embedding(input_dim=max_words, \n",
    "                    output_dim=128, \n",
    "                    input_length=max_len,\n",
    "                    trainable=True,\n",
    "                    mask_zero=True))\n",
    "model.add(GRU(128, return_sequences=True))\n",
    "model.add(Activation(\"relu\"))\n",
    "model.add(Conv1D(128, 3))\n",
    "model.add(Activation(\"relu\"))\n",
    "model.add(Dropout(0.2))\n",
    "model.add(Flatten())\n",
    "model.add(Dense(10))\n",
    "model.add(Activation(\"relu\"))\n",
    "model.add(Dense(num_classes))\n",
    "model.add(Activation('softmax'))\n",
    "\n",
    "model.compile(\n",
    "    optimizer='adam', loss='categorical_crossentropy', metrics=['accuracy'])\n",
    "\n",
    "\n",
    "early_stopping=EarlyStopping(monitor='val_loss')  \n",
    "\n",
    "history = model.fit(x_train, y_train,\n",
    "                    batch_size=batch_size,\n",
    "                    epochs=epochs,\n",
    "                    verbose=1,\n",
    "                    validation_split=0.1,\n",
    "                    callbacks=[early_stopping])"
   ]
  },
  {
   "cell_type": "code",
   "execution_count": 70,
   "metadata": {},
   "outputs": [
    {
     "name": "stdout",
     "output_type": "stream",
     "text": [
      "14/14 [==============================] - 7s 500ms/step - loss: 0.7451 - accuracy: 0.7552\n",
      "Test score: 0.7450544238090515\n",
      "Test accuracy: 0.755206823348999\n"
     ]
    }
   ],
   "source": [
    "score = model.evaluate(x_test, y_test, batch_size=batch_size, verbose=1)\n",
    "\n",
    "new_record = pd.DataFrame([{'model': 'GRU -> CNN', 'Test score': score[0], 'Test accuracy': score[1]}])\n",
    "metrics_df = pd.concat([metrics_df, new_record], ignore_index=True)\n",
    "\n",
    "print('Test score:', score[0])\n",
    "print('Test accuracy:', score[1])"
   ]
  },
  {
   "cell_type": "markdown",
   "metadata": {},
   "source": [
    "### Подведение итогов"
   ]
  },
  {
   "cell_type": "code",
   "execution_count": 71,
   "metadata": {},
   "outputs": [
    {
     "data": {
      "text/html": [
       "<div>\n",
       "<style scoped>\n",
       "    .dataframe tbody tr th:only-of-type {\n",
       "        vertical-align: middle;\n",
       "    }\n",
       "\n",
       "    .dataframe tbody tr th {\n",
       "        vertical-align: top;\n",
       "    }\n",
       "\n",
       "    .dataframe thead th {\n",
       "        text-align: right;\n",
       "    }\n",
       "</style>\n",
       "<table border=\"1\" class=\"dataframe\">\n",
       "  <thead>\n",
       "    <tr style=\"text-align: right;\">\n",
       "      <th></th>\n",
       "      <th>model</th>\n",
       "      <th>Test score</th>\n",
       "      <th>Test accuracy</th>\n",
       "    </tr>\n",
       "  </thead>\n",
       "  <tbody>\n",
       "    <tr>\n",
       "      <th>2</th>\n",
       "      <td>LSTM</td>\n",
       "      <td>0.770168</td>\n",
       "      <td>0.765327</td>\n",
       "    </tr>\n",
       "    <tr>\n",
       "      <th>5</th>\n",
       "      <td>CNN -&gt; GRU</td>\n",
       "      <td>0.753034</td>\n",
       "      <td>0.753887</td>\n",
       "    </tr>\n",
       "    <tr>\n",
       "      <th>3</th>\n",
       "      <td>GRU</td>\n",
       "      <td>0.748720</td>\n",
       "      <td>0.773541</td>\n",
       "    </tr>\n",
       "    <tr>\n",
       "      <th>9</th>\n",
       "      <td>GRU -&gt; CNN</td>\n",
       "      <td>0.745054</td>\n",
       "      <td>0.755207</td>\n",
       "    </tr>\n",
       "    <tr>\n",
       "      <th>7</th>\n",
       "      <td>RNN -&gt; CNN</td>\n",
       "      <td>0.738153</td>\n",
       "      <td>0.756527</td>\n",
       "    </tr>\n",
       "    <tr>\n",
       "      <th>1</th>\n",
       "      <td>RNN</td>\n",
       "      <td>0.735013</td>\n",
       "      <td>0.772807</td>\n",
       "    </tr>\n",
       "    <tr>\n",
       "      <th>4</th>\n",
       "      <td>CNN -&gt; LSTM</td>\n",
       "      <td>0.707508</td>\n",
       "      <td>0.765620</td>\n",
       "    </tr>\n",
       "    <tr>\n",
       "      <th>8</th>\n",
       "      <td>LSTM -&gt; CNN</td>\n",
       "      <td>0.693152</td>\n",
       "      <td>0.765620</td>\n",
       "    </tr>\n",
       "    <tr>\n",
       "      <th>6</th>\n",
       "      <td>CNN -&gt; RNN</td>\n",
       "      <td>0.684082</td>\n",
       "      <td>0.770754</td>\n",
       "    </tr>\n",
       "    <tr>\n",
       "      <th>0</th>\n",
       "      <td>CNN</td>\n",
       "      <td>0.670313</td>\n",
       "      <td>0.769581</td>\n",
       "    </tr>\n",
       "  </tbody>\n",
       "</table>\n",
       "</div>"
      ],
      "text/plain": [
       "         model  Test score  Test accuracy\n",
       "2         LSTM    0.770168       0.765327\n",
       "5   CNN -> GRU    0.753034       0.753887\n",
       "3          GRU    0.748720       0.773541\n",
       "9   GRU -> CNN    0.745054       0.755207\n",
       "7   RNN -> CNN    0.738153       0.756527\n",
       "1          RNN    0.735013       0.772807\n",
       "4  CNN -> LSTM    0.707508       0.765620\n",
       "8  LSTM -> CNN    0.693152       0.765620\n",
       "6   CNN -> RNN    0.684082       0.770754\n",
       "0          CNN    0.670313       0.769581"
      ]
     },
     "execution_count": 71,
     "metadata": {},
     "output_type": "execute_result"
    }
   ],
   "source": [
    "metrics_df.sort_values(by='Test score', ascending=False)"
   ]
  },
  {
   "cell_type": "code",
   "execution_count": 74,
   "metadata": {},
   "outputs": [
    {
     "data": {
      "text/html": [
       "<div>\n",
       "<style scoped>\n",
       "    .dataframe tbody tr th:only-of-type {\n",
       "        vertical-align: middle;\n",
       "    }\n",
       "\n",
       "    .dataframe tbody tr th {\n",
       "        vertical-align: top;\n",
       "    }\n",
       "\n",
       "    .dataframe thead th {\n",
       "        text-align: right;\n",
       "    }\n",
       "</style>\n",
       "<table border=\"1\" class=\"dataframe\">\n",
       "  <thead>\n",
       "    <tr style=\"text-align: right;\">\n",
       "      <th></th>\n",
       "      <th>model</th>\n",
       "      <th>Test score</th>\n",
       "      <th>Test accuracy</th>\n",
       "    </tr>\n",
       "  </thead>\n",
       "  <tbody>\n",
       "    <tr>\n",
       "      <th>3</th>\n",
       "      <td>GRU</td>\n",
       "      <td>0.748720</td>\n",
       "      <td>0.773541</td>\n",
       "    </tr>\n",
       "    <tr>\n",
       "      <th>1</th>\n",
       "      <td>RNN</td>\n",
       "      <td>0.735013</td>\n",
       "      <td>0.772807</td>\n",
       "    </tr>\n",
       "    <tr>\n",
       "      <th>6</th>\n",
       "      <td>CNN -&gt; RNN</td>\n",
       "      <td>0.684082</td>\n",
       "      <td>0.770754</td>\n",
       "    </tr>\n",
       "    <tr>\n",
       "      <th>0</th>\n",
       "      <td>CNN</td>\n",
       "      <td>0.670313</td>\n",
       "      <td>0.769581</td>\n",
       "    </tr>\n",
       "    <tr>\n",
       "      <th>4</th>\n",
       "      <td>CNN -&gt; LSTM</td>\n",
       "      <td>0.707508</td>\n",
       "      <td>0.765620</td>\n",
       "    </tr>\n",
       "    <tr>\n",
       "      <th>8</th>\n",
       "      <td>LSTM -&gt; CNN</td>\n",
       "      <td>0.693152</td>\n",
       "      <td>0.765620</td>\n",
       "    </tr>\n",
       "    <tr>\n",
       "      <th>2</th>\n",
       "      <td>LSTM</td>\n",
       "      <td>0.770168</td>\n",
       "      <td>0.765327</td>\n",
       "    </tr>\n",
       "    <tr>\n",
       "      <th>7</th>\n",
       "      <td>RNN -&gt; CNN</td>\n",
       "      <td>0.738153</td>\n",
       "      <td>0.756527</td>\n",
       "    </tr>\n",
       "    <tr>\n",
       "      <th>9</th>\n",
       "      <td>GRU -&gt; CNN</td>\n",
       "      <td>0.745054</td>\n",
       "      <td>0.755207</td>\n",
       "    </tr>\n",
       "    <tr>\n",
       "      <th>5</th>\n",
       "      <td>CNN -&gt; GRU</td>\n",
       "      <td>0.753034</td>\n",
       "      <td>0.753887</td>\n",
       "    </tr>\n",
       "  </tbody>\n",
       "</table>\n",
       "</div>"
      ],
      "text/plain": [
       "         model  Test score  Test accuracy\n",
       "3          GRU    0.748720       0.773541\n",
       "1          RNN    0.735013       0.772807\n",
       "6   CNN -> RNN    0.684082       0.770754\n",
       "0          CNN    0.670313       0.769581\n",
       "4  CNN -> LSTM    0.707508       0.765620\n",
       "8  LSTM -> CNN    0.693152       0.765620\n",
       "2         LSTM    0.770168       0.765327\n",
       "7   RNN -> CNN    0.738153       0.756527\n",
       "9   GRU -> CNN    0.745054       0.755207\n",
       "5   CNN -> GRU    0.753034       0.753887"
      ]
     },
     "execution_count": 74,
     "metadata": {},
     "output_type": "execute_result"
    }
   ],
   "source": [
    "metrics_df.sort_values(by='Test accuracy', ascending=False)"
   ]
  },
  {
   "cell_type": "markdown",
   "metadata": {},
   "source": [
    "В первой тройке по 2 критериям \"Test score\" и \"Test accuracy\" попадает модель GRU. Остальные модели показывают похожие результаты, но где-то \"проседает\" либо score, либо accuracy."
   ]
  }
 ],
 "metadata": {
  "kernelspec": {
   "display_name": "Python 3",
   "language": "python",
   "name": "python3"
  },
  "language_info": {
   "codemirror_mode": {
    "name": "ipython",
    "version": 3
   },
   "file_extension": ".py",
   "mimetype": "text/x-python",
   "name": "python",
   "nbconvert_exporter": "python",
   "pygments_lexer": "ipython3",
   "version": "3.10.11"
  },
  "orig_nbformat": 4
 },
 "nbformat": 4,
 "nbformat_minor": 2
}
