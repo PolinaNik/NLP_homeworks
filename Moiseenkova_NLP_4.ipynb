{
  "nbformat": 4,
  "nbformat_minor": 0,
  "metadata": {
    "colab": {
      "provenance": []
    },
    "kernelspec": {
      "name": "python3",
      "display_name": "Python 3"
    },
    "language_info": {
      "name": "python"
    },
    "widgets": {
      "application/vnd.jupyter.widget-state+json": {
        "4aeb140d161d4088b7b9885c4b976a18": {
          "model_module": "@jupyter-widgets/controls",
          "model_name": "HBoxModel",
          "model_module_version": "1.5.0",
          "state": {
            "_dom_classes": [],
            "_model_module": "@jupyter-widgets/controls",
            "_model_module_version": "1.5.0",
            "_model_name": "HBoxModel",
            "_view_count": null,
            "_view_module": "@jupyter-widgets/controls",
            "_view_module_version": "1.5.0",
            "_view_name": "HBoxView",
            "box_style": "",
            "children": [
              "IPY_MODEL_f4d98c919e59462e8d533b28c08e4076",
              "IPY_MODEL_4d2aa0293faa48058d9571c38eb3c55b",
              "IPY_MODEL_09ea31c3748e496e8b6c1a06f3346efe"
            ],
            "layout": "IPY_MODEL_6dac5e0de26740859db096a97cdc1ec1"
          }
        },
        "f4d98c919e59462e8d533b28c08e4076": {
          "model_module": "@jupyter-widgets/controls",
          "model_name": "HTMLModel",
          "model_module_version": "1.5.0",
          "state": {
            "_dom_classes": [],
            "_model_module": "@jupyter-widgets/controls",
            "_model_module_version": "1.5.0",
            "_model_name": "HTMLModel",
            "_view_count": null,
            "_view_module": "@jupyter-widgets/controls",
            "_view_module_version": "1.5.0",
            "_view_name": "HTMLView",
            "description": "",
            "description_tooltip": null,
            "layout": "IPY_MODEL_84890873f8764aa7ae3c8eabe0f3bb84",
            "placeholder": "​",
            "style": "IPY_MODEL_f48103b198754bd986c127ea8eab94c2",
            "value": "100%"
          }
        },
        "4d2aa0293faa48058d9571c38eb3c55b": {
          "model_module": "@jupyter-widgets/controls",
          "model_name": "FloatProgressModel",
          "model_module_version": "1.5.0",
          "state": {
            "_dom_classes": [],
            "_model_module": "@jupyter-widgets/controls",
            "_model_module_version": "1.5.0",
            "_model_name": "FloatProgressModel",
            "_view_count": null,
            "_view_module": "@jupyter-widgets/controls",
            "_view_module_version": "1.5.0",
            "_view_name": "ProgressView",
            "bar_style": "success",
            "description": "",
            "description_tooltip": null,
            "layout": "IPY_MODEL_b89bb18f859e4f1ea343f01bf1ffd3a8",
            "max": 100000,
            "min": 0,
            "orientation": "horizontal",
            "style": "IPY_MODEL_1baff89ce0f54e5794dbaff3872ee8f4",
            "value": 100000
          }
        },
        "09ea31c3748e496e8b6c1a06f3346efe": {
          "model_module": "@jupyter-widgets/controls",
          "model_name": "HTMLModel",
          "model_module_version": "1.5.0",
          "state": {
            "_dom_classes": [],
            "_model_module": "@jupyter-widgets/controls",
            "_model_module_version": "1.5.0",
            "_model_name": "HTMLModel",
            "_view_count": null,
            "_view_module": "@jupyter-widgets/controls",
            "_view_module_version": "1.5.0",
            "_view_name": "HTMLView",
            "description": "",
            "description_tooltip": null,
            "layout": "IPY_MODEL_82198094f7b54a65ab7a5b064645d949",
            "placeholder": "​",
            "style": "IPY_MODEL_fed01fb6367541d888da598896b9a776",
            "value": " 100000/100000 [00:29&lt;00:00, 2273.70it/s]"
          }
        },
        "6dac5e0de26740859db096a97cdc1ec1": {
          "model_module": "@jupyter-widgets/base",
          "model_name": "LayoutModel",
          "model_module_version": "1.2.0",
          "state": {
            "_model_module": "@jupyter-widgets/base",
            "_model_module_version": "1.2.0",
            "_model_name": "LayoutModel",
            "_view_count": null,
            "_view_module": "@jupyter-widgets/base",
            "_view_module_version": "1.2.0",
            "_view_name": "LayoutView",
            "align_content": null,
            "align_items": null,
            "align_self": null,
            "border": null,
            "bottom": null,
            "display": null,
            "flex": null,
            "flex_flow": null,
            "grid_area": null,
            "grid_auto_columns": null,
            "grid_auto_flow": null,
            "grid_auto_rows": null,
            "grid_column": null,
            "grid_gap": null,
            "grid_row": null,
            "grid_template_areas": null,
            "grid_template_columns": null,
            "grid_template_rows": null,
            "height": null,
            "justify_content": null,
            "justify_items": null,
            "left": null,
            "margin": null,
            "max_height": null,
            "max_width": null,
            "min_height": null,
            "min_width": null,
            "object_fit": null,
            "object_position": null,
            "order": null,
            "overflow": null,
            "overflow_x": null,
            "overflow_y": null,
            "padding": null,
            "right": null,
            "top": null,
            "visibility": null,
            "width": null
          }
        },
        "84890873f8764aa7ae3c8eabe0f3bb84": {
          "model_module": "@jupyter-widgets/base",
          "model_name": "LayoutModel",
          "model_module_version": "1.2.0",
          "state": {
            "_model_module": "@jupyter-widgets/base",
            "_model_module_version": "1.2.0",
            "_model_name": "LayoutModel",
            "_view_count": null,
            "_view_module": "@jupyter-widgets/base",
            "_view_module_version": "1.2.0",
            "_view_name": "LayoutView",
            "align_content": null,
            "align_items": null,
            "align_self": null,
            "border": null,
            "bottom": null,
            "display": null,
            "flex": null,
            "flex_flow": null,
            "grid_area": null,
            "grid_auto_columns": null,
            "grid_auto_flow": null,
            "grid_auto_rows": null,
            "grid_column": null,
            "grid_gap": null,
            "grid_row": null,
            "grid_template_areas": null,
            "grid_template_columns": null,
            "grid_template_rows": null,
            "height": null,
            "justify_content": null,
            "justify_items": null,
            "left": null,
            "margin": null,
            "max_height": null,
            "max_width": null,
            "min_height": null,
            "min_width": null,
            "object_fit": null,
            "object_position": null,
            "order": null,
            "overflow": null,
            "overflow_x": null,
            "overflow_y": null,
            "padding": null,
            "right": null,
            "top": null,
            "visibility": null,
            "width": null
          }
        },
        "f48103b198754bd986c127ea8eab94c2": {
          "model_module": "@jupyter-widgets/controls",
          "model_name": "DescriptionStyleModel",
          "model_module_version": "1.5.0",
          "state": {
            "_model_module": "@jupyter-widgets/controls",
            "_model_module_version": "1.5.0",
            "_model_name": "DescriptionStyleModel",
            "_view_count": null,
            "_view_module": "@jupyter-widgets/base",
            "_view_module_version": "1.2.0",
            "_view_name": "StyleView",
            "description_width": ""
          }
        },
        "b89bb18f859e4f1ea343f01bf1ffd3a8": {
          "model_module": "@jupyter-widgets/base",
          "model_name": "LayoutModel",
          "model_module_version": "1.2.0",
          "state": {
            "_model_module": "@jupyter-widgets/base",
            "_model_module_version": "1.2.0",
            "_model_name": "LayoutModel",
            "_view_count": null,
            "_view_module": "@jupyter-widgets/base",
            "_view_module_version": "1.2.0",
            "_view_name": "LayoutView",
            "align_content": null,
            "align_items": null,
            "align_self": null,
            "border": null,
            "bottom": null,
            "display": null,
            "flex": null,
            "flex_flow": null,
            "grid_area": null,
            "grid_auto_columns": null,
            "grid_auto_flow": null,
            "grid_auto_rows": null,
            "grid_column": null,
            "grid_gap": null,
            "grid_row": null,
            "grid_template_areas": null,
            "grid_template_columns": null,
            "grid_template_rows": null,
            "height": null,
            "justify_content": null,
            "justify_items": null,
            "left": null,
            "margin": null,
            "max_height": null,
            "max_width": null,
            "min_height": null,
            "min_width": null,
            "object_fit": null,
            "object_position": null,
            "order": null,
            "overflow": null,
            "overflow_x": null,
            "overflow_y": null,
            "padding": null,
            "right": null,
            "top": null,
            "visibility": null,
            "width": null
          }
        },
        "1baff89ce0f54e5794dbaff3872ee8f4": {
          "model_module": "@jupyter-widgets/controls",
          "model_name": "ProgressStyleModel",
          "model_module_version": "1.5.0",
          "state": {
            "_model_module": "@jupyter-widgets/controls",
            "_model_module_version": "1.5.0",
            "_model_name": "ProgressStyleModel",
            "_view_count": null,
            "_view_module": "@jupyter-widgets/base",
            "_view_module_version": "1.2.0",
            "_view_name": "StyleView",
            "bar_color": null,
            "description_width": ""
          }
        },
        "82198094f7b54a65ab7a5b064645d949": {
          "model_module": "@jupyter-widgets/base",
          "model_name": "LayoutModel",
          "model_module_version": "1.2.0",
          "state": {
            "_model_module": "@jupyter-widgets/base",
            "_model_module_version": "1.2.0",
            "_model_name": "LayoutModel",
            "_view_count": null,
            "_view_module": "@jupyter-widgets/base",
            "_view_module_version": "1.2.0",
            "_view_name": "LayoutView",
            "align_content": null,
            "align_items": null,
            "align_self": null,
            "border": null,
            "bottom": null,
            "display": null,
            "flex": null,
            "flex_flow": null,
            "grid_area": null,
            "grid_auto_columns": null,
            "grid_auto_flow": null,
            "grid_auto_rows": null,
            "grid_column": null,
            "grid_gap": null,
            "grid_row": null,
            "grid_template_areas": null,
            "grid_template_columns": null,
            "grid_template_rows": null,
            "height": null,
            "justify_content": null,
            "justify_items": null,
            "left": null,
            "margin": null,
            "max_height": null,
            "max_width": null,
            "min_height": null,
            "min_width": null,
            "object_fit": null,
            "object_position": null,
            "order": null,
            "overflow": null,
            "overflow_x": null,
            "overflow_y": null,
            "padding": null,
            "right": null,
            "top": null,
            "visibility": null,
            "width": null
          }
        },
        "fed01fb6367541d888da598896b9a776": {
          "model_module": "@jupyter-widgets/controls",
          "model_name": "DescriptionStyleModel",
          "model_module_version": "1.5.0",
          "state": {
            "_model_module": "@jupyter-widgets/controls",
            "_model_module_version": "1.5.0",
            "_model_name": "DescriptionStyleModel",
            "_view_count": null,
            "_view_module": "@jupyter-widgets/base",
            "_view_module_version": "1.2.0",
            "_view_name": "StyleView",
            "description_width": ""
          }
        },
        "1c623906bb854de5acc175d015e41f69": {
          "model_module": "@jupyter-widgets/controls",
          "model_name": "HBoxModel",
          "model_module_version": "1.5.0",
          "state": {
            "_dom_classes": [],
            "_model_module": "@jupyter-widgets/controls",
            "_model_module_version": "1.5.0",
            "_model_name": "HBoxModel",
            "_view_count": null,
            "_view_module": "@jupyter-widgets/controls",
            "_view_module_version": "1.5.0",
            "_view_name": "HBoxView",
            "box_style": "",
            "children": [
              "IPY_MODEL_26aae47f058b44cdba954a7d1f2eb0e5",
              "IPY_MODEL_ad5ca754c86f4933b20563ea8d5a051d",
              "IPY_MODEL_d1ded224df254d728560c2cb6a710fa0"
            ],
            "layout": "IPY_MODEL_84c3f926d9f4450d8a608e3e62bb4861"
          }
        },
        "26aae47f058b44cdba954a7d1f2eb0e5": {
          "model_module": "@jupyter-widgets/controls",
          "model_name": "HTMLModel",
          "model_module_version": "1.5.0",
          "state": {
            "_dom_classes": [],
            "_model_module": "@jupyter-widgets/controls",
            "_model_module_version": "1.5.0",
            "_model_name": "HTMLModel",
            "_view_count": null,
            "_view_module": "@jupyter-widgets/controls",
            "_view_module_version": "1.5.0",
            "_view_name": "HTMLView",
            "description": "",
            "description_tooltip": null,
            "layout": "IPY_MODEL_1c41d8e19942425b996ab0282e3fe935",
            "placeholder": "​",
            "style": "IPY_MODEL_8a742e93ce5c4c4c868cf8596bcfef49",
            "value": "100%"
          }
        },
        "ad5ca754c86f4933b20563ea8d5a051d": {
          "model_module": "@jupyter-widgets/controls",
          "model_name": "FloatProgressModel",
          "model_module_version": "1.5.0",
          "state": {
            "_dom_classes": [],
            "_model_module": "@jupyter-widgets/controls",
            "_model_module_version": "1.5.0",
            "_model_name": "FloatProgressModel",
            "_view_count": null,
            "_view_module": "@jupyter-widgets/controls",
            "_view_module_version": "1.5.0",
            "_view_name": "ProgressView",
            "bar_style": "success",
            "description": "",
            "description_tooltip": null,
            "layout": "IPY_MODEL_aafa3f32e6cd4d7caff40762c135d943",
            "max": 3,
            "min": 0,
            "orientation": "horizontal",
            "style": "IPY_MODEL_58c5ec2bcdbb40b5b046f966edb8945a",
            "value": 3
          }
        },
        "d1ded224df254d728560c2cb6a710fa0": {
          "model_module": "@jupyter-widgets/controls",
          "model_name": "HTMLModel",
          "model_module_version": "1.5.0",
          "state": {
            "_dom_classes": [],
            "_model_module": "@jupyter-widgets/controls",
            "_model_module_version": "1.5.0",
            "_model_name": "HTMLModel",
            "_view_count": null,
            "_view_module": "@jupyter-widgets/controls",
            "_view_module_version": "1.5.0",
            "_view_name": "HTMLView",
            "description": "",
            "description_tooltip": null,
            "layout": "IPY_MODEL_ef0f03e2e9264f6fb4a6012ec3ecbd7c",
            "placeholder": "​",
            "style": "IPY_MODEL_9edf6240425e4afe9287ebfc5e521cf8",
            "value": " 3/3 [03:13&lt;00:00, 68.41s/it]"
          }
        },
        "84c3f926d9f4450d8a608e3e62bb4861": {
          "model_module": "@jupyter-widgets/base",
          "model_name": "LayoutModel",
          "model_module_version": "1.2.0",
          "state": {
            "_model_module": "@jupyter-widgets/base",
            "_model_module_version": "1.2.0",
            "_model_name": "LayoutModel",
            "_view_count": null,
            "_view_module": "@jupyter-widgets/base",
            "_view_module_version": "1.2.0",
            "_view_name": "LayoutView",
            "align_content": null,
            "align_items": null,
            "align_self": null,
            "border": null,
            "bottom": null,
            "display": null,
            "flex": null,
            "flex_flow": null,
            "grid_area": null,
            "grid_auto_columns": null,
            "grid_auto_flow": null,
            "grid_auto_rows": null,
            "grid_column": null,
            "grid_gap": null,
            "grid_row": null,
            "grid_template_areas": null,
            "grid_template_columns": null,
            "grid_template_rows": null,
            "height": null,
            "justify_content": null,
            "justify_items": null,
            "left": null,
            "margin": null,
            "max_height": null,
            "max_width": null,
            "min_height": null,
            "min_width": null,
            "object_fit": null,
            "object_position": null,
            "order": null,
            "overflow": null,
            "overflow_x": null,
            "overflow_y": null,
            "padding": null,
            "right": null,
            "top": null,
            "visibility": null,
            "width": null
          }
        },
        "1c41d8e19942425b996ab0282e3fe935": {
          "model_module": "@jupyter-widgets/base",
          "model_name": "LayoutModel",
          "model_module_version": "1.2.0",
          "state": {
            "_model_module": "@jupyter-widgets/base",
            "_model_module_version": "1.2.0",
            "_model_name": "LayoutModel",
            "_view_count": null,
            "_view_module": "@jupyter-widgets/base",
            "_view_module_version": "1.2.0",
            "_view_name": "LayoutView",
            "align_content": null,
            "align_items": null,
            "align_self": null,
            "border": null,
            "bottom": null,
            "display": null,
            "flex": null,
            "flex_flow": null,
            "grid_area": null,
            "grid_auto_columns": null,
            "grid_auto_flow": null,
            "grid_auto_rows": null,
            "grid_column": null,
            "grid_gap": null,
            "grid_row": null,
            "grid_template_areas": null,
            "grid_template_columns": null,
            "grid_template_rows": null,
            "height": null,
            "justify_content": null,
            "justify_items": null,
            "left": null,
            "margin": null,
            "max_height": null,
            "max_width": null,
            "min_height": null,
            "min_width": null,
            "object_fit": null,
            "object_position": null,
            "order": null,
            "overflow": null,
            "overflow_x": null,
            "overflow_y": null,
            "padding": null,
            "right": null,
            "top": null,
            "visibility": null,
            "width": null
          }
        },
        "8a742e93ce5c4c4c868cf8596bcfef49": {
          "model_module": "@jupyter-widgets/controls",
          "model_name": "DescriptionStyleModel",
          "model_module_version": "1.5.0",
          "state": {
            "_model_module": "@jupyter-widgets/controls",
            "_model_module_version": "1.5.0",
            "_model_name": "DescriptionStyleModel",
            "_view_count": null,
            "_view_module": "@jupyter-widgets/base",
            "_view_module_version": "1.2.0",
            "_view_name": "StyleView",
            "description_width": ""
          }
        },
        "aafa3f32e6cd4d7caff40762c135d943": {
          "model_module": "@jupyter-widgets/base",
          "model_name": "LayoutModel",
          "model_module_version": "1.2.0",
          "state": {
            "_model_module": "@jupyter-widgets/base",
            "_model_module_version": "1.2.0",
            "_model_name": "LayoutModel",
            "_view_count": null,
            "_view_module": "@jupyter-widgets/base",
            "_view_module_version": "1.2.0",
            "_view_name": "LayoutView",
            "align_content": null,
            "align_items": null,
            "align_self": null,
            "border": null,
            "bottom": null,
            "display": null,
            "flex": null,
            "flex_flow": null,
            "grid_area": null,
            "grid_auto_columns": null,
            "grid_auto_flow": null,
            "grid_auto_rows": null,
            "grid_column": null,
            "grid_gap": null,
            "grid_row": null,
            "grid_template_areas": null,
            "grid_template_columns": null,
            "grid_template_rows": null,
            "height": null,
            "justify_content": null,
            "justify_items": null,
            "left": null,
            "margin": null,
            "max_height": null,
            "max_width": null,
            "min_height": null,
            "min_width": null,
            "object_fit": null,
            "object_position": null,
            "order": null,
            "overflow": null,
            "overflow_x": null,
            "overflow_y": null,
            "padding": null,
            "right": null,
            "top": null,
            "visibility": null,
            "width": null
          }
        },
        "58c5ec2bcdbb40b5b046f966edb8945a": {
          "model_module": "@jupyter-widgets/controls",
          "model_name": "ProgressStyleModel",
          "model_module_version": "1.5.0",
          "state": {
            "_model_module": "@jupyter-widgets/controls",
            "_model_module_version": "1.5.0",
            "_model_name": "ProgressStyleModel",
            "_view_count": null,
            "_view_module": "@jupyter-widgets/base",
            "_view_module_version": "1.2.0",
            "_view_name": "StyleView",
            "bar_color": null,
            "description_width": ""
          }
        },
        "ef0f03e2e9264f6fb4a6012ec3ecbd7c": {
          "model_module": "@jupyter-widgets/base",
          "model_name": "LayoutModel",
          "model_module_version": "1.2.0",
          "state": {
            "_model_module": "@jupyter-widgets/base",
            "_model_module_version": "1.2.0",
            "_model_name": "LayoutModel",
            "_view_count": null,
            "_view_module": "@jupyter-widgets/base",
            "_view_module_version": "1.2.0",
            "_view_name": "LayoutView",
            "align_content": null,
            "align_items": null,
            "align_self": null,
            "border": null,
            "bottom": null,
            "display": null,
            "flex": null,
            "flex_flow": null,
            "grid_area": null,
            "grid_auto_columns": null,
            "grid_auto_flow": null,
            "grid_auto_rows": null,
            "grid_column": null,
            "grid_gap": null,
            "grid_row": null,
            "grid_template_areas": null,
            "grid_template_columns": null,
            "grid_template_rows": null,
            "height": null,
            "justify_content": null,
            "justify_items": null,
            "left": null,
            "margin": null,
            "max_height": null,
            "max_width": null,
            "min_height": null,
            "min_width": null,
            "object_fit": null,
            "object_position": null,
            "order": null,
            "overflow": null,
            "overflow_x": null,
            "overflow_y": null,
            "padding": null,
            "right": null,
            "top": null,
            "visibility": null,
            "width": null
          }
        },
        "9edf6240425e4afe9287ebfc5e521cf8": {
          "model_module": "@jupyter-widgets/controls",
          "model_name": "DescriptionStyleModel",
          "model_module_version": "1.5.0",
          "state": {
            "_model_module": "@jupyter-widgets/controls",
            "_model_module_version": "1.5.0",
            "_model_name": "DescriptionStyleModel",
            "_view_count": null,
            "_view_module": "@jupyter-widgets/base",
            "_view_module_version": "1.2.0",
            "_view_name": "StyleView",
            "description_width": ""
          }
        }
      }
    }
  },
  "cells": [
    {
      "cell_type": "markdown",
      "source": [
        "## Домашняя работа по теме \"Тематическое моделирование. EM-алгоритм\""
      ],
      "metadata": {
        "id": "G7rC8mzKEAOS"
      }
    },
    {
      "cell_type": "code",
      "execution_count": 1,
      "metadata": {
        "colab": {
          "base_uri": "https://localhost:8080/"
        },
        "id": "1f95MMMww-WJ",
        "outputId": "e767d682-2eea-419b-b924-796fc13095ad"
      },
      "outputs": [
        {
          "output_type": "stream",
          "name": "stdout",
          "text": [
            "Requirement already satisfied: pyLDAvis in /usr/local/lib/python3.10/dist-packages (3.4.1)\n",
            "Requirement already satisfied: numpy>=1.24.2 in /usr/local/lib/python3.10/dist-packages (from pyLDAvis) (1.25.2)\n",
            "Requirement already satisfied: scipy in /usr/local/lib/python3.10/dist-packages (from pyLDAvis) (1.10.1)\n",
            "Requirement already satisfied: pandas>=2.0.0 in /usr/local/lib/python3.10/dist-packages (from pyLDAvis) (2.0.3)\n",
            "Requirement already satisfied: joblib>=1.2.0 in /usr/local/lib/python3.10/dist-packages (from pyLDAvis) (1.3.2)\n",
            "Requirement already satisfied: jinja2 in /usr/local/lib/python3.10/dist-packages (from pyLDAvis) (3.1.2)\n",
            "Requirement already satisfied: numexpr in /usr/local/lib/python3.10/dist-packages (from pyLDAvis) (2.8.5)\n",
            "Requirement already satisfied: funcy in /usr/local/lib/python3.10/dist-packages (from pyLDAvis) (2.0)\n",
            "Requirement already satisfied: scikit-learn>=1.0.0 in /usr/local/lib/python3.10/dist-packages (from pyLDAvis) (1.2.2)\n",
            "Requirement already satisfied: gensim in /usr/local/lib/python3.10/dist-packages (from pyLDAvis) (4.3.1)\n",
            "Requirement already satisfied: setuptools in /usr/local/lib/python3.10/dist-packages (from pyLDAvis) (67.7.2)\n",
            "Requirement already satisfied: python-dateutil>=2.8.2 in /usr/local/lib/python3.10/dist-packages (from pandas>=2.0.0->pyLDAvis) (2.8.2)\n",
            "Requirement already satisfied: pytz>=2020.1 in /usr/local/lib/python3.10/dist-packages (from pandas>=2.0.0->pyLDAvis) (2023.3)\n",
            "Requirement already satisfied: tzdata>=2022.1 in /usr/local/lib/python3.10/dist-packages (from pandas>=2.0.0->pyLDAvis) (2023.3)\n",
            "Requirement already satisfied: threadpoolctl>=2.0.0 in /usr/local/lib/python3.10/dist-packages (from scikit-learn>=1.0.0->pyLDAvis) (3.2.0)\n",
            "Requirement already satisfied: smart-open>=1.8.1 in /usr/local/lib/python3.10/dist-packages (from gensim->pyLDAvis) (6.3.0)\n",
            "Requirement already satisfied: MarkupSafe>=2.0 in /usr/local/lib/python3.10/dist-packages (from jinja2->pyLDAvis) (2.1.3)\n",
            "Requirement already satisfied: six>=1.5 in /usr/local/lib/python3.10/dist-packages (from python-dateutil>=2.8.2->pandas>=2.0.0->pyLDAvis) (1.16.0)\n"
          ]
        }
      ],
      "source": [
        "!pip install pyLDAvis"
      ]
    },
    {
      "cell_type": "code",
      "source": [
        "!pip install pymystem3"
      ],
      "metadata": {
        "colab": {
          "base_uri": "https://localhost:8080/"
        },
        "id": "mquxHye-xfyP",
        "outputId": "9c92d580-8453-4c8f-ad3e-a9af7d137069"
      },
      "execution_count": 2,
      "outputs": [
        {
          "output_type": "stream",
          "name": "stdout",
          "text": [
            "Requirement already satisfied: pymystem3 in /usr/local/lib/python3.10/dist-packages (0.2.0)\n",
            "Requirement already satisfied: requests in /usr/local/lib/python3.10/dist-packages (from pymystem3) (2.31.0)\n",
            "Requirement already satisfied: charset-normalizer<4,>=2 in /usr/local/lib/python3.10/dist-packages (from requests->pymystem3) (3.2.0)\n",
            "Requirement already satisfied: idna<4,>=2.5 in /usr/local/lib/python3.10/dist-packages (from requests->pymystem3) (3.4)\n",
            "Requirement already satisfied: urllib3<3,>=1.21.1 in /usr/local/lib/python3.10/dist-packages (from requests->pymystem3) (2.0.4)\n",
            "Requirement already satisfied: certifi>=2017.4.17 in /usr/local/lib/python3.10/dist-packages (from requests->pymystem3) (2023.7.22)\n"
          ]
        }
      ]
    },
    {
      "cell_type": "code",
      "source": [
        "!pip install -U gensim"
      ],
      "metadata": {
        "colab": {
          "base_uri": "https://localhost:8080/"
        },
        "id": "XifTXjP5xvsk",
        "outputId": "3d542303-a74f-49be-818c-d23ff415292d"
      },
      "execution_count": 3,
      "outputs": [
        {
          "output_type": "stream",
          "name": "stdout",
          "text": [
            "Requirement already satisfied: gensim in /usr/local/lib/python3.10/dist-packages (4.3.1)\n",
            "Requirement already satisfied: numpy>=1.18.5 in /usr/local/lib/python3.10/dist-packages (from gensim) (1.25.2)\n",
            "Requirement already satisfied: scipy>=1.7.0 in /usr/local/lib/python3.10/dist-packages (from gensim) (1.10.1)\n",
            "Requirement already satisfied: smart-open>=1.8.1 in /usr/local/lib/python3.10/dist-packages (from gensim) (6.3.0)\n"
          ]
        }
      ]
    },
    {
      "cell_type": "code",
      "source": [
        "!pip install pymorphy2"
      ],
      "metadata": {
        "colab": {
          "base_uri": "https://localhost:8080/"
        },
        "id": "JdZUxTV_x_Jo",
        "outputId": "1e5db7ee-9c59-49a3-a267-cdd945a300bd"
      },
      "execution_count": 4,
      "outputs": [
        {
          "output_type": "stream",
          "name": "stdout",
          "text": [
            "Collecting pymorphy2\n",
            "  Downloading pymorphy2-0.9.1-py3-none-any.whl (55 kB)\n",
            "\u001b[2K     \u001b[90m━━━━━━━━━━━━━━━━━━━━━━━━━━━━━━━━━━━━━━━\u001b[0m \u001b[32m55.5/55.5 kB\u001b[0m \u001b[31m869.1 kB/s\u001b[0m eta \u001b[36m0:00:00\u001b[0m\n",
            "\u001b[?25hCollecting dawg-python>=0.7.1 (from pymorphy2)\n",
            "  Downloading DAWG_Python-0.7.2-py2.py3-none-any.whl (11 kB)\n",
            "Collecting pymorphy2-dicts-ru<3.0,>=2.4 (from pymorphy2)\n",
            "  Downloading pymorphy2_dicts_ru-2.4.417127.4579844-py2.py3-none-any.whl (8.2 MB)\n",
            "\u001b[2K     \u001b[90m━━━━━━━━━━━━━━━━━━━━━━━━━━━━━━━━━━━━━━━━\u001b[0m \u001b[32m8.2/8.2 MB\u001b[0m \u001b[31m36.6 MB/s\u001b[0m eta \u001b[36m0:00:00\u001b[0m\n",
            "\u001b[?25hCollecting docopt>=0.6 (from pymorphy2)\n",
            "  Downloading docopt-0.6.2.tar.gz (25 kB)\n",
            "  Preparing metadata (setup.py) ... \u001b[?25l\u001b[?25hdone\n",
            "Building wheels for collected packages: docopt\n",
            "  Building wheel for docopt (setup.py) ... \u001b[?25l\u001b[?25hdone\n",
            "  Created wheel for docopt: filename=docopt-0.6.2-py2.py3-none-any.whl size=13706 sha256=58ccef5f2798f2859197406120ae57b493501c9d7c2d2d6f8f5c0cbc20fcce83\n",
            "  Stored in directory: /root/.cache/pip/wheels/fc/ab/d4/5da2067ac95b36618c629a5f93f809425700506f72c9732fac\n",
            "Successfully built docopt\n",
            "Installing collected packages: pymorphy2-dicts-ru, docopt, dawg-python, pymorphy2\n",
            "Successfully installed dawg-python-0.7.2 docopt-0.6.2 pymorphy2-0.9.1 pymorphy2-dicts-ru-2.4.417127.4579844\n"
          ]
        }
      ]
    },
    {
      "cell_type": "code",
      "source": [
        "!pip install stop-words razdel"
      ],
      "metadata": {
        "colab": {
          "base_uri": "https://localhost:8080/"
        },
        "id": "B9bwRd_Ry9QK",
        "outputId": "55dc0409-0ab8-4708-ddd6-83e00dda575f"
      },
      "execution_count": 35,
      "outputs": [
        {
          "output_type": "stream",
          "name": "stdout",
          "text": [
            "Requirement already satisfied: stop-words in /usr/local/lib/python3.10/dist-packages (2018.7.23)\n",
            "Collecting razdel\n",
            "  Downloading razdel-0.5.0-py3-none-any.whl (21 kB)\n",
            "Installing collected packages: razdel\n",
            "Successfully installed razdel-0.5.0\n"
          ]
        }
      ]
    },
    {
      "cell_type": "code",
      "source": [
        "import pandas as pd\n",
        "import numpy as np\n",
        "from sklearn.metrics import *\n",
        "from sklearn.model_selection import train_test_split\n",
        "from sklearn.pipeline import Pipeline\n",
        "import nltk\n",
        "import re\n",
        "import numpy as np\n",
        "from stop_words import get_stop_words\n",
        "from tqdm.notebook import tqdm\n",
        "from multiprocessing import Pool\n",
        "from pymystem3 import Mystem\n",
        "import pymorphy2\n",
        "from razdel import tokenize\n",
        "from gensim.models import *\n",
        "from gensim import corpora\n",
        "import pyLDAvis\n",
        "import pyLDAvis.gensim as gensimvis\n",
        "import matplotlib.pyplot as plt\n",
        "\n",
        "from google.colab import drive\n",
        "import warnings\n",
        "warnings.filterwarnings('ignore')"
      ],
      "metadata": {
        "id": "Bt-Ldt-axSnt"
      },
      "execution_count": 36,
      "outputs": []
    },
    {
      "cell_type": "code",
      "source": [
        "drive.mount('/drive')"
      ],
      "metadata": {
        "colab": {
          "base_uri": "https://localhost:8080/"
        },
        "id": "u1vjp5eUyG6C",
        "outputId": "a0334e99-7112-44b0-d8b8-259706db9c59"
      },
      "execution_count": 21,
      "outputs": [
        {
          "output_type": "stream",
          "name": "stdout",
          "text": [
            "Drive already mounted at /drive; to attempt to forcibly remount, call drive.mount(\"/drive\", force_remount=True).\n"
          ]
        }
      ]
    },
    {
      "cell_type": "markdown",
      "source": [
        "Загрузка данных"
      ],
      "metadata": {
        "id": "LW4kgJlaELTt"
      }
    },
    {
      "cell_type": "code",
      "source": [
        "positive = pd.read_csv('/drive/MyDrive/GB/positive.csv', sep=';', encoding='utf8', header=None)\n",
        "positive = positive.rename(columns={3:'text'})\n",
        "positive.head()"
      ],
      "metadata": {
        "colab": {
          "base_uri": "https://localhost:8080/",
          "height": 206
        },
        "id": "JuhQKHtkyMjP",
        "outputId": "880f1f18-9010-454d-e044-1f08600ed747"
      },
      "execution_count": 61,
      "outputs": [
        {
          "output_type": "execute_result",
          "data": {
            "text/plain": [
              "                    0           1                2  \\\n",
              "0  408906692374446080  1386325927  pleease_shut_up   \n",
              "1  408906692693221377  1386325927  alinakirpicheva   \n",
              "2  408906695083954177  1386325927        EvgeshaRe   \n",
              "3  408906695356973056  1386325927    ikonnikova_21   \n",
              "4  408906761416867842  1386325943        JumpyAlex   \n",
              "\n",
              "                                                text  4  5  6  7      8   9  \\\n",
              "0  @first_timee хоть я и школота, но поверь, у на...  1  0  0  0   7569  62   \n",
              "1  Да, все-таки он немного похож на него. Но мой ...  1  0  0  0  11825  59   \n",
              "2  RT @KatiaCheh: Ну ты идиотка) я испугалась за ...  1  0  1  0   1273  26   \n",
              "3  RT @digger2912: \"Кто то в углу сидит и погибае...  1  0  1  0   1549  19   \n",
              "4  @irina_dyshkant Вот что значит страшилка :D\\nН...  1  0  0  0    597  16   \n",
              "\n",
              "   10  11  \n",
              "0  61   0  \n",
              "1  31   2  \n",
              "2  27   0  \n",
              "3  17   0  \n",
              "4  23   1  "
            ],
            "text/html": [
              "\n",
              "\n",
              "  <div id=\"df-289e762c-4e95-4ee0-9004-fa80d178ec6e\">\n",
              "    <div class=\"colab-df-container\">\n",
              "      <div>\n",
              "<style scoped>\n",
              "    .dataframe tbody tr th:only-of-type {\n",
              "        vertical-align: middle;\n",
              "    }\n",
              "\n",
              "    .dataframe tbody tr th {\n",
              "        vertical-align: top;\n",
              "    }\n",
              "\n",
              "    .dataframe thead th {\n",
              "        text-align: right;\n",
              "    }\n",
              "</style>\n",
              "<table border=\"1\" class=\"dataframe\">\n",
              "  <thead>\n",
              "    <tr style=\"text-align: right;\">\n",
              "      <th></th>\n",
              "      <th>0</th>\n",
              "      <th>1</th>\n",
              "      <th>2</th>\n",
              "      <th>text</th>\n",
              "      <th>4</th>\n",
              "      <th>5</th>\n",
              "      <th>6</th>\n",
              "      <th>7</th>\n",
              "      <th>8</th>\n",
              "      <th>9</th>\n",
              "      <th>10</th>\n",
              "      <th>11</th>\n",
              "    </tr>\n",
              "  </thead>\n",
              "  <tbody>\n",
              "    <tr>\n",
              "      <th>0</th>\n",
              "      <td>408906692374446080</td>\n",
              "      <td>1386325927</td>\n",
              "      <td>pleease_shut_up</td>\n",
              "      <td>@first_timee хоть я и школота, но поверь, у на...</td>\n",
              "      <td>1</td>\n",
              "      <td>0</td>\n",
              "      <td>0</td>\n",
              "      <td>0</td>\n",
              "      <td>7569</td>\n",
              "      <td>62</td>\n",
              "      <td>61</td>\n",
              "      <td>0</td>\n",
              "    </tr>\n",
              "    <tr>\n",
              "      <th>1</th>\n",
              "      <td>408906692693221377</td>\n",
              "      <td>1386325927</td>\n",
              "      <td>alinakirpicheva</td>\n",
              "      <td>Да, все-таки он немного похож на него. Но мой ...</td>\n",
              "      <td>1</td>\n",
              "      <td>0</td>\n",
              "      <td>0</td>\n",
              "      <td>0</td>\n",
              "      <td>11825</td>\n",
              "      <td>59</td>\n",
              "      <td>31</td>\n",
              "      <td>2</td>\n",
              "    </tr>\n",
              "    <tr>\n",
              "      <th>2</th>\n",
              "      <td>408906695083954177</td>\n",
              "      <td>1386325927</td>\n",
              "      <td>EvgeshaRe</td>\n",
              "      <td>RT @KatiaCheh: Ну ты идиотка) я испугалась за ...</td>\n",
              "      <td>1</td>\n",
              "      <td>0</td>\n",
              "      <td>1</td>\n",
              "      <td>0</td>\n",
              "      <td>1273</td>\n",
              "      <td>26</td>\n",
              "      <td>27</td>\n",
              "      <td>0</td>\n",
              "    </tr>\n",
              "    <tr>\n",
              "      <th>3</th>\n",
              "      <td>408906695356973056</td>\n",
              "      <td>1386325927</td>\n",
              "      <td>ikonnikova_21</td>\n",
              "      <td>RT @digger2912: \"Кто то в углу сидит и погибае...</td>\n",
              "      <td>1</td>\n",
              "      <td>0</td>\n",
              "      <td>1</td>\n",
              "      <td>0</td>\n",
              "      <td>1549</td>\n",
              "      <td>19</td>\n",
              "      <td>17</td>\n",
              "      <td>0</td>\n",
              "    </tr>\n",
              "    <tr>\n",
              "      <th>4</th>\n",
              "      <td>408906761416867842</td>\n",
              "      <td>1386325943</td>\n",
              "      <td>JumpyAlex</td>\n",
              "      <td>@irina_dyshkant Вот что значит страшилка :D\\nН...</td>\n",
              "      <td>1</td>\n",
              "      <td>0</td>\n",
              "      <td>0</td>\n",
              "      <td>0</td>\n",
              "      <td>597</td>\n",
              "      <td>16</td>\n",
              "      <td>23</td>\n",
              "      <td>1</td>\n",
              "    </tr>\n",
              "  </tbody>\n",
              "</table>\n",
              "</div>\n",
              "      <button class=\"colab-df-convert\" onclick=\"convertToInteractive('df-289e762c-4e95-4ee0-9004-fa80d178ec6e')\"\n",
              "              title=\"Convert this dataframe to an interactive table.\"\n",
              "              style=\"display:none;\">\n",
              "\n",
              "  <svg xmlns=\"http://www.w3.org/2000/svg\" height=\"24px\"viewBox=\"0 0 24 24\"\n",
              "       width=\"24px\">\n",
              "    <path d=\"M0 0h24v24H0V0z\" fill=\"none\"/>\n",
              "    <path d=\"M18.56 5.44l.94 2.06.94-2.06 2.06-.94-2.06-.94-.94-2.06-.94 2.06-2.06.94zm-11 1L8.5 8.5l.94-2.06 2.06-.94-2.06-.94L8.5 2.5l-.94 2.06-2.06.94zm10 10l.94 2.06.94-2.06 2.06-.94-2.06-.94-.94-2.06-.94 2.06-2.06.94z\"/><path d=\"M17.41 7.96l-1.37-1.37c-.4-.4-.92-.59-1.43-.59-.52 0-1.04.2-1.43.59L10.3 9.45l-7.72 7.72c-.78.78-.78 2.05 0 2.83L4 21.41c.39.39.9.59 1.41.59.51 0 1.02-.2 1.41-.59l7.78-7.78 2.81-2.81c.8-.78.8-2.07 0-2.86zM5.41 20L4 18.59l7.72-7.72 1.47 1.35L5.41 20z\"/>\n",
              "  </svg>\n",
              "      </button>\n",
              "\n",
              "\n",
              "\n",
              "    <div id=\"df-3a7b9bea-608e-4f4b-a8c0-a47a32c40e58\">\n",
              "      <button class=\"colab-df-quickchart\" onclick=\"quickchart('df-3a7b9bea-608e-4f4b-a8c0-a47a32c40e58')\"\n",
              "              title=\"Suggest charts.\"\n",
              "              style=\"display:none;\">\n",
              "\n",
              "<svg xmlns=\"http://www.w3.org/2000/svg\" height=\"24px\"viewBox=\"0 0 24 24\"\n",
              "     width=\"24px\">\n",
              "    <g>\n",
              "        <path d=\"M19 3H5c-1.1 0-2 .9-2 2v14c0 1.1.9 2 2 2h14c1.1 0 2-.9 2-2V5c0-1.1-.9-2-2-2zM9 17H7v-7h2v7zm4 0h-2V7h2v10zm4 0h-2v-4h2v4z\"/>\n",
              "    </g>\n",
              "</svg>\n",
              "      </button>\n",
              "    </div>\n",
              "\n",
              "<style>\n",
              "  .colab-df-quickchart {\n",
              "    background-color: #E8F0FE;\n",
              "    border: none;\n",
              "    border-radius: 50%;\n",
              "    cursor: pointer;\n",
              "    display: none;\n",
              "    fill: #1967D2;\n",
              "    height: 32px;\n",
              "    padding: 0 0 0 0;\n",
              "    width: 32px;\n",
              "  }\n",
              "\n",
              "  .colab-df-quickchart:hover {\n",
              "    background-color: #E2EBFA;\n",
              "    box-shadow: 0px 1px 2px rgba(60, 64, 67, 0.3), 0px 1px 3px 1px rgba(60, 64, 67, 0.15);\n",
              "    fill: #174EA6;\n",
              "  }\n",
              "\n",
              "  [theme=dark] .colab-df-quickchart {\n",
              "    background-color: #3B4455;\n",
              "    fill: #D2E3FC;\n",
              "  }\n",
              "\n",
              "  [theme=dark] .colab-df-quickchart:hover {\n",
              "    background-color: #434B5C;\n",
              "    box-shadow: 0px 1px 3px 1px rgba(0, 0, 0, 0.15);\n",
              "    filter: drop-shadow(0px 1px 2px rgba(0, 0, 0, 0.3));\n",
              "    fill: #FFFFFF;\n",
              "  }\n",
              "</style>\n",
              "\n",
              "    <script>\n",
              "      async function quickchart(key) {\n",
              "        const containerElement = document.querySelector('#' + key);\n",
              "        const charts = await google.colab.kernel.invokeFunction(\n",
              "            'suggestCharts', [key], {});\n",
              "      }\n",
              "    </script>\n",
              "\n",
              "      <script>\n",
              "\n",
              "function displayQuickchartButton(domScope) {\n",
              "  let quickchartButtonEl =\n",
              "    domScope.querySelector('#df-3a7b9bea-608e-4f4b-a8c0-a47a32c40e58 button.colab-df-quickchart');\n",
              "  quickchartButtonEl.style.display =\n",
              "    google.colab.kernel.accessAllowed ? 'block' : 'none';\n",
              "}\n",
              "\n",
              "        displayQuickchartButton(document);\n",
              "      </script>\n",
              "      <style>\n",
              "    .colab-df-container {\n",
              "      display:flex;\n",
              "      flex-wrap:wrap;\n",
              "      gap: 12px;\n",
              "    }\n",
              "\n",
              "    .colab-df-convert {\n",
              "      background-color: #E8F0FE;\n",
              "      border: none;\n",
              "      border-radius: 50%;\n",
              "      cursor: pointer;\n",
              "      display: none;\n",
              "      fill: #1967D2;\n",
              "      height: 32px;\n",
              "      padding: 0 0 0 0;\n",
              "      width: 32px;\n",
              "    }\n",
              "\n",
              "    .colab-df-convert:hover {\n",
              "      background-color: #E2EBFA;\n",
              "      box-shadow: 0px 1px 2px rgba(60, 64, 67, 0.3), 0px 1px 3px 1px rgba(60, 64, 67, 0.15);\n",
              "      fill: #174EA6;\n",
              "    }\n",
              "\n",
              "    [theme=dark] .colab-df-convert {\n",
              "      background-color: #3B4455;\n",
              "      fill: #D2E3FC;\n",
              "    }\n",
              "\n",
              "    [theme=dark] .colab-df-convert:hover {\n",
              "      background-color: #434B5C;\n",
              "      box-shadow: 0px 1px 3px 1px rgba(0, 0, 0, 0.15);\n",
              "      filter: drop-shadow(0px 1px 2px rgba(0, 0, 0, 0.3));\n",
              "      fill: #FFFFFF;\n",
              "    }\n",
              "  </style>\n",
              "\n",
              "      <script>\n",
              "        const buttonEl =\n",
              "          document.querySelector('#df-289e762c-4e95-4ee0-9004-fa80d178ec6e button.colab-df-convert');\n",
              "        buttonEl.style.display =\n",
              "          google.colab.kernel.accessAllowed ? 'block' : 'none';\n",
              "\n",
              "        async function convertToInteractive(key) {\n",
              "          const element = document.querySelector('#df-289e762c-4e95-4ee0-9004-fa80d178ec6e');\n",
              "          const dataTable =\n",
              "            await google.colab.kernel.invokeFunction('convertToInteractive',\n",
              "                                                     [key], {});\n",
              "          if (!dataTable) return;\n",
              "\n",
              "          const docLinkHtml = 'Like what you see? Visit the ' +\n",
              "            '<a target=\"_blank\" href=https://colab.research.google.com/notebooks/data_table.ipynb>data table notebook</a>'\n",
              "            + ' to learn more about interactive tables.';\n",
              "          element.innerHTML = '';\n",
              "          dataTable['output_type'] = 'display_data';\n",
              "          await google.colab.output.renderOutput(dataTable, element);\n",
              "          const docLink = document.createElement('div');\n",
              "          docLink.innerHTML = docLinkHtml;\n",
              "          element.appendChild(docLink);\n",
              "        }\n",
              "      </script>\n",
              "    </div>\n",
              "  </div>\n"
            ]
          },
          "metadata": {},
          "execution_count": 61
        }
      ]
    },
    {
      "cell_type": "code",
      "source": [
        "negative = pd.read_csv('/drive/MyDrive/GB/negative.csv', sep=';', encoding='utf8', header=None)\n",
        "negative = negative.rename(columns={3:'text'})\n",
        "negative.head()"
      ],
      "metadata": {
        "colab": {
          "base_uri": "https://localhost:8080/",
          "height": 206
        },
        "id": "cUDtmZc6yWtW",
        "outputId": "aa3b0a15-a238-4624-b45e-627f4eba2070"
      },
      "execution_count": 62,
      "outputs": [
        {
          "output_type": "execute_result",
          "data": {
            "text/plain": [
              "                    0           1                2  \\\n",
              "0  408906762813579264  1386325944  dugarchikbellko   \n",
              "1  408906818262687744  1386325957     nugemycejela   \n",
              "2  408906858515398656  1386325966          4post21   \n",
              "3  408906914437685248  1386325980         Poliwake   \n",
              "4  408906914723295232  1386325980       capyvixowe   \n",
              "\n",
              "                                                text  4  5  6  7      8    9  \\\n",
              "0  на работе был полный пиддес :| и так каждое за... -1  0  0  0   8064  111   \n",
              "1  Коллеги сидят рубятся в Urban terror, а я из-з... -1  0  0  0     26   42   \n",
              "2  @elina_4post как говорят обещаного три года жд... -1  0  0  0    718   49   \n",
              "3  Желаю хорошего полёта и удачной посадки,я буду... -1  0  0  0  10628  207   \n",
              "4  Обновил за каким-то лешим surf, теперь не рабо... -1  0  0  0     35   17   \n",
              "\n",
              "    10  11  \n",
              "0   94   2  \n",
              "1   39   0  \n",
              "2  249   0  \n",
              "3  200   0  \n",
              "4   34   0  "
            ],
            "text/html": [
              "\n",
              "\n",
              "  <div id=\"df-fdc46737-a215-469c-9923-ba4b19bcf4fa\">\n",
              "    <div class=\"colab-df-container\">\n",
              "      <div>\n",
              "<style scoped>\n",
              "    .dataframe tbody tr th:only-of-type {\n",
              "        vertical-align: middle;\n",
              "    }\n",
              "\n",
              "    .dataframe tbody tr th {\n",
              "        vertical-align: top;\n",
              "    }\n",
              "\n",
              "    .dataframe thead th {\n",
              "        text-align: right;\n",
              "    }\n",
              "</style>\n",
              "<table border=\"1\" class=\"dataframe\">\n",
              "  <thead>\n",
              "    <tr style=\"text-align: right;\">\n",
              "      <th></th>\n",
              "      <th>0</th>\n",
              "      <th>1</th>\n",
              "      <th>2</th>\n",
              "      <th>text</th>\n",
              "      <th>4</th>\n",
              "      <th>5</th>\n",
              "      <th>6</th>\n",
              "      <th>7</th>\n",
              "      <th>8</th>\n",
              "      <th>9</th>\n",
              "      <th>10</th>\n",
              "      <th>11</th>\n",
              "    </tr>\n",
              "  </thead>\n",
              "  <tbody>\n",
              "    <tr>\n",
              "      <th>0</th>\n",
              "      <td>408906762813579264</td>\n",
              "      <td>1386325944</td>\n",
              "      <td>dugarchikbellko</td>\n",
              "      <td>на работе был полный пиддес :| и так каждое за...</td>\n",
              "      <td>-1</td>\n",
              "      <td>0</td>\n",
              "      <td>0</td>\n",
              "      <td>0</td>\n",
              "      <td>8064</td>\n",
              "      <td>111</td>\n",
              "      <td>94</td>\n",
              "      <td>2</td>\n",
              "    </tr>\n",
              "    <tr>\n",
              "      <th>1</th>\n",
              "      <td>408906818262687744</td>\n",
              "      <td>1386325957</td>\n",
              "      <td>nugemycejela</td>\n",
              "      <td>Коллеги сидят рубятся в Urban terror, а я из-з...</td>\n",
              "      <td>-1</td>\n",
              "      <td>0</td>\n",
              "      <td>0</td>\n",
              "      <td>0</td>\n",
              "      <td>26</td>\n",
              "      <td>42</td>\n",
              "      <td>39</td>\n",
              "      <td>0</td>\n",
              "    </tr>\n",
              "    <tr>\n",
              "      <th>2</th>\n",
              "      <td>408906858515398656</td>\n",
              "      <td>1386325966</td>\n",
              "      <td>4post21</td>\n",
              "      <td>@elina_4post как говорят обещаного три года жд...</td>\n",
              "      <td>-1</td>\n",
              "      <td>0</td>\n",
              "      <td>0</td>\n",
              "      <td>0</td>\n",
              "      <td>718</td>\n",
              "      <td>49</td>\n",
              "      <td>249</td>\n",
              "      <td>0</td>\n",
              "    </tr>\n",
              "    <tr>\n",
              "      <th>3</th>\n",
              "      <td>408906914437685248</td>\n",
              "      <td>1386325980</td>\n",
              "      <td>Poliwake</td>\n",
              "      <td>Желаю хорошего полёта и удачной посадки,я буду...</td>\n",
              "      <td>-1</td>\n",
              "      <td>0</td>\n",
              "      <td>0</td>\n",
              "      <td>0</td>\n",
              "      <td>10628</td>\n",
              "      <td>207</td>\n",
              "      <td>200</td>\n",
              "      <td>0</td>\n",
              "    </tr>\n",
              "    <tr>\n",
              "      <th>4</th>\n",
              "      <td>408906914723295232</td>\n",
              "      <td>1386325980</td>\n",
              "      <td>capyvixowe</td>\n",
              "      <td>Обновил за каким-то лешим surf, теперь не рабо...</td>\n",
              "      <td>-1</td>\n",
              "      <td>0</td>\n",
              "      <td>0</td>\n",
              "      <td>0</td>\n",
              "      <td>35</td>\n",
              "      <td>17</td>\n",
              "      <td>34</td>\n",
              "      <td>0</td>\n",
              "    </tr>\n",
              "  </tbody>\n",
              "</table>\n",
              "</div>\n",
              "      <button class=\"colab-df-convert\" onclick=\"convertToInteractive('df-fdc46737-a215-469c-9923-ba4b19bcf4fa')\"\n",
              "              title=\"Convert this dataframe to an interactive table.\"\n",
              "              style=\"display:none;\">\n",
              "\n",
              "  <svg xmlns=\"http://www.w3.org/2000/svg\" height=\"24px\"viewBox=\"0 0 24 24\"\n",
              "       width=\"24px\">\n",
              "    <path d=\"M0 0h24v24H0V0z\" fill=\"none\"/>\n",
              "    <path d=\"M18.56 5.44l.94 2.06.94-2.06 2.06-.94-2.06-.94-.94-2.06-.94 2.06-2.06.94zm-11 1L8.5 8.5l.94-2.06 2.06-.94-2.06-.94L8.5 2.5l-.94 2.06-2.06.94zm10 10l.94 2.06.94-2.06 2.06-.94-2.06-.94-.94-2.06-.94 2.06-2.06.94z\"/><path d=\"M17.41 7.96l-1.37-1.37c-.4-.4-.92-.59-1.43-.59-.52 0-1.04.2-1.43.59L10.3 9.45l-7.72 7.72c-.78.78-.78 2.05 0 2.83L4 21.41c.39.39.9.59 1.41.59.51 0 1.02-.2 1.41-.59l7.78-7.78 2.81-2.81c.8-.78.8-2.07 0-2.86zM5.41 20L4 18.59l7.72-7.72 1.47 1.35L5.41 20z\"/>\n",
              "  </svg>\n",
              "      </button>\n",
              "\n",
              "\n",
              "\n",
              "    <div id=\"df-5b9826a1-3bd0-4df2-86d5-2887d04e3d33\">\n",
              "      <button class=\"colab-df-quickchart\" onclick=\"quickchart('df-5b9826a1-3bd0-4df2-86d5-2887d04e3d33')\"\n",
              "              title=\"Suggest charts.\"\n",
              "              style=\"display:none;\">\n",
              "\n",
              "<svg xmlns=\"http://www.w3.org/2000/svg\" height=\"24px\"viewBox=\"0 0 24 24\"\n",
              "     width=\"24px\">\n",
              "    <g>\n",
              "        <path d=\"M19 3H5c-1.1 0-2 .9-2 2v14c0 1.1.9 2 2 2h14c1.1 0 2-.9 2-2V5c0-1.1-.9-2-2-2zM9 17H7v-7h2v7zm4 0h-2V7h2v10zm4 0h-2v-4h2v4z\"/>\n",
              "    </g>\n",
              "</svg>\n",
              "      </button>\n",
              "    </div>\n",
              "\n",
              "<style>\n",
              "  .colab-df-quickchart {\n",
              "    background-color: #E8F0FE;\n",
              "    border: none;\n",
              "    border-radius: 50%;\n",
              "    cursor: pointer;\n",
              "    display: none;\n",
              "    fill: #1967D2;\n",
              "    height: 32px;\n",
              "    padding: 0 0 0 0;\n",
              "    width: 32px;\n",
              "  }\n",
              "\n",
              "  .colab-df-quickchart:hover {\n",
              "    background-color: #E2EBFA;\n",
              "    box-shadow: 0px 1px 2px rgba(60, 64, 67, 0.3), 0px 1px 3px 1px rgba(60, 64, 67, 0.15);\n",
              "    fill: #174EA6;\n",
              "  }\n",
              "\n",
              "  [theme=dark] .colab-df-quickchart {\n",
              "    background-color: #3B4455;\n",
              "    fill: #D2E3FC;\n",
              "  }\n",
              "\n",
              "  [theme=dark] .colab-df-quickchart:hover {\n",
              "    background-color: #434B5C;\n",
              "    box-shadow: 0px 1px 3px 1px rgba(0, 0, 0, 0.15);\n",
              "    filter: drop-shadow(0px 1px 2px rgba(0, 0, 0, 0.3));\n",
              "    fill: #FFFFFF;\n",
              "  }\n",
              "</style>\n",
              "\n",
              "    <script>\n",
              "      async function quickchart(key) {\n",
              "        const containerElement = document.querySelector('#' + key);\n",
              "        const charts = await google.colab.kernel.invokeFunction(\n",
              "            'suggestCharts', [key], {});\n",
              "      }\n",
              "    </script>\n",
              "\n",
              "      <script>\n",
              "\n",
              "function displayQuickchartButton(domScope) {\n",
              "  let quickchartButtonEl =\n",
              "    domScope.querySelector('#df-5b9826a1-3bd0-4df2-86d5-2887d04e3d33 button.colab-df-quickchart');\n",
              "  quickchartButtonEl.style.display =\n",
              "    google.colab.kernel.accessAllowed ? 'block' : 'none';\n",
              "}\n",
              "\n",
              "        displayQuickchartButton(document);\n",
              "      </script>\n",
              "      <style>\n",
              "    .colab-df-container {\n",
              "      display:flex;\n",
              "      flex-wrap:wrap;\n",
              "      gap: 12px;\n",
              "    }\n",
              "\n",
              "    .colab-df-convert {\n",
              "      background-color: #E8F0FE;\n",
              "      border: none;\n",
              "      border-radius: 50%;\n",
              "      cursor: pointer;\n",
              "      display: none;\n",
              "      fill: #1967D2;\n",
              "      height: 32px;\n",
              "      padding: 0 0 0 0;\n",
              "      width: 32px;\n",
              "    }\n",
              "\n",
              "    .colab-df-convert:hover {\n",
              "      background-color: #E2EBFA;\n",
              "      box-shadow: 0px 1px 2px rgba(60, 64, 67, 0.3), 0px 1px 3px 1px rgba(60, 64, 67, 0.15);\n",
              "      fill: #174EA6;\n",
              "    }\n",
              "\n",
              "    [theme=dark] .colab-df-convert {\n",
              "      background-color: #3B4455;\n",
              "      fill: #D2E3FC;\n",
              "    }\n",
              "\n",
              "    [theme=dark] .colab-df-convert:hover {\n",
              "      background-color: #434B5C;\n",
              "      box-shadow: 0px 1px 3px 1px rgba(0, 0, 0, 0.15);\n",
              "      filter: drop-shadow(0px 1px 2px rgba(0, 0, 0, 0.3));\n",
              "      fill: #FFFFFF;\n",
              "    }\n",
              "  </style>\n",
              "\n",
              "      <script>\n",
              "        const buttonEl =\n",
              "          document.querySelector('#df-fdc46737-a215-469c-9923-ba4b19bcf4fa button.colab-df-convert');\n",
              "        buttonEl.style.display =\n",
              "          google.colab.kernel.accessAllowed ? 'block' : 'none';\n",
              "\n",
              "        async function convertToInteractive(key) {\n",
              "          const element = document.querySelector('#df-fdc46737-a215-469c-9923-ba4b19bcf4fa');\n",
              "          const dataTable =\n",
              "            await google.colab.kernel.invokeFunction('convertToInteractive',\n",
              "                                                     [key], {});\n",
              "          if (!dataTable) return;\n",
              "\n",
              "          const docLinkHtml = 'Like what you see? Visit the ' +\n",
              "            '<a target=\"_blank\" href=https://colab.research.google.com/notebooks/data_table.ipynb>data table notebook</a>'\n",
              "            + ' to learn more about interactive tables.';\n",
              "          element.innerHTML = '';\n",
              "          dataTable['output_type'] = 'display_data';\n",
              "          await google.colab.output.renderOutput(dataTable, element);\n",
              "          const docLink = document.createElement('div');\n",
              "          docLink.innerHTML = docLinkHtml;\n",
              "          element.appendChild(docLink);\n",
              "        }\n",
              "      </script>\n",
              "    </div>\n",
              "  </div>\n"
            ]
          },
          "metadata": {},
          "execution_count": 62
        }
      ]
    },
    {
      "cell_type": "code",
      "source": [
        "df = pd.concat([positive, negative], ignore_index=True)"
      ],
      "metadata": {
        "id": "WmHAgPwnyb8v"
      },
      "execution_count": 63,
      "outputs": []
    },
    {
      "cell_type": "markdown",
      "source": [
        "Предобработка"
      ],
      "metadata": {
        "id": "pU1Trd_Oyi4A"
      }
    },
    {
      "cell_type": "code",
      "source": [
        "def clean_text(text):\n",
        "    '''\n",
        "    очистка текста\n",
        "\n",
        "    на выходе очищеный текст\n",
        "\n",
        "    '''\n",
        "    if not isinstance(text, str):\n",
        "        text = str(text)\n",
        "\n",
        "    text = text.lower()\n",
        "    p_html = re.compile(r'<.*?>')\n",
        "    text = p_html.sub('', text)\n",
        "    text = text.strip('\\n').strip('\\r').strip('\\t')\n",
        "    text = re.sub(\",\", ' ', str(text))\n",
        "    text = re.sub(\"-\\s\\r\\n\\|-\\s\\r\\n|\\r\\n\", '', str(text))\n",
        "    text = re.sub(\"(?<!\\w)@\\w+\", '', str(text))\n",
        "\n",
        "    text = re.sub(\"[0-9]|[-—.,:;_%©«»?*!@#№$^•·&()]|[+=]|[[]|[]]|[/]|\", '', text)\n",
        "    text = re.sub(r\"\\r\\n\\t|\\n|\\\\s|\\r\\t|\\\\n\", ' ', text)\n",
        "    text = re.sub(r'[\\xad]|[\\s+]', ' ', text.strip())\n",
        "\n",
        "    return text\n",
        "\n",
        "cache = {}"
      ],
      "metadata": {
        "id": "28O5VdzZygR2"
      },
      "execution_count": 64,
      "outputs": []
    },
    {
      "cell_type": "code",
      "source": [
        "def lemmatization(text):\n",
        "    '''\n",
        "    лемматизация\n",
        "        [0] если зашел тип не `str` делаем его `str`\n",
        "        [1] токенизация предложения через razdel\n",
        "        [2] проверка есть ли в начале слова '-'\n",
        "        [3] проверка токена с одного символа\n",
        "        [4] проверка есть ли данное слово в кэше\n",
        "        [5] лемматизация слова\n",
        "        [6] проверка на стоп-слова\n",
        "\n",
        "    на выходе лист отлемматизированых токенов\n",
        "    '''\n",
        "\n",
        "    # [0]\n",
        "    if not isinstance(text, str):\n",
        "        text = str(text)\n",
        "\n",
        "    # [1]\n",
        "    tokens = list(tokenize(text))\n",
        "    words = [_.text for _ in tokens]\n",
        "\n",
        "    words_lem = []\n",
        "    for w in words:\n",
        "        if w[0] == '-': # [2]\n",
        "            w = w[1:]\n",
        "        if len(w)>2: # [3]\n",
        "            if w in cache: # [4]\n",
        "                words_lem.append(cache[w])\n",
        "            else: # [5]\n",
        "                temp_cach = cache[w] = morph.parse(w)[0].normal_form\n",
        "                words_lem.append(temp_cach)\n",
        "\n",
        "    words_lem_without_stopwords=[i for i in words_lem if not i in stopword_ru] # [6]\n",
        "\n",
        "    return words_lem_without_stopwords"
      ],
      "metadata": {
        "id": "QOLcpJRvyvJn"
      },
      "execution_count": 104,
      "outputs": []
    },
    {
      "cell_type": "code",
      "source": [
        "stopword_ru = set(get_stop_words(\"ru\"))\n",
        "len(stopword_ru)"
      ],
      "metadata": {
        "colab": {
          "base_uri": "https://localhost:8080/"
        },
        "id": "eBTjN3Ady03D",
        "outputId": "efb13ffb-87c5-495d-a63e-d3c527169528"
      },
      "execution_count": 27,
      "outputs": [
        {
          "output_type": "execute_result",
          "data": {
            "text/plain": [
              "421"
            ]
          },
          "metadata": {},
          "execution_count": 27
        }
      ]
    },
    {
      "cell_type": "code",
      "source": [
        "morph = pymorphy2.MorphAnalyzer()"
      ],
      "metadata": {
        "id": "DHb6C7snzFvE"
      },
      "execution_count": 28,
      "outputs": []
    },
    {
      "cell_type": "code",
      "source": [
        "def preprocess_text(line):\n",
        "    clean_line = clean_text(line)\n",
        "    lemmatize_line = lemmatization(clean_line)\n",
        "    return lemmatize_line"
      ],
      "metadata": {
        "id": "_KfCVicLzNXt"
      },
      "execution_count": 105,
      "outputs": []
    },
    {
      "cell_type": "markdown",
      "source": [
        "Посмотрим на результат очистки:"
      ],
      "metadata": {
        "id": "LNRn0WO-zcGn"
      }
    },
    {
      "cell_type": "code",
      "source": [
        "# ДО\n",
        "df['text'].values[70]"
      ],
      "metadata": {
        "colab": {
          "base_uri": "https://localhost:8080/",
          "height": 35
        },
        "id": "Vr9r6VDIziMw",
        "outputId": "f4794b6a-307a-48a8-e8ef-1222ceb628f5"
      },
      "execution_count": 106,
      "outputs": [
        {
          "output_type": "execute_result",
          "data": {
            "text/plain": [
              "'@Alen_gate ахахаха, я тоже сегодня полдня играла в Обломова :D\\nПримерно до полчетвертого'"
            ],
            "application/vnd.google.colaboratory.intrinsic+json": {
              "type": "string"
            }
          },
          "metadata": {},
          "execution_count": 106
        }
      ]
    },
    {
      "cell_type": "code",
      "source": [
        "# ПОСЛЕ\n",
        "preprocess_text(df['text'].values[70])"
      ],
      "metadata": {
        "colab": {
          "base_uri": "https://localhost:8080/"
        },
        "id": "rEZ-vOPBzTnk",
        "outputId": "c3bbe5d7-bfab-48ce-b044-98a539162549"
      },
      "execution_count": 107,
      "outputs": [
        {
          "output_type": "execute_result",
          "data": {
            "text/plain": [
              "['ахахах', 'полдень', 'играть', 'обломов', 'примерно', 'полчетвёртого']"
            ]
          },
          "metadata": {},
          "execution_count": 107
        }
      ]
    },
    {
      "cell_type": "markdown",
      "source": [
        "Возьмем только 100000 записей для ускорения"
      ],
      "metadata": {
        "id": "qTg0AxuT4dsB"
      }
    },
    {
      "cell_type": "code",
      "source": [
        "data = df.sample(100000)"
      ],
      "metadata": {
        "id": "Oann1T_R2zkf"
      },
      "execution_count": 108,
      "outputs": []
    },
    {
      "cell_type": "code",
      "source": [
        "preprocessed_text = list(tqdm(map(preprocess_text, data['text']), total=len(data)))"
      ],
      "metadata": {
        "colab": {
          "base_uri": "https://localhost:8080/",
          "height": 49,
          "referenced_widgets": [
            "4aeb140d161d4088b7b9885c4b976a18",
            "f4d98c919e59462e8d533b28c08e4076",
            "4d2aa0293faa48058d9571c38eb3c55b",
            "09ea31c3748e496e8b6c1a06f3346efe",
            "6dac5e0de26740859db096a97cdc1ec1",
            "84890873f8764aa7ae3c8eabe0f3bb84",
            "f48103b198754bd986c127ea8eab94c2",
            "b89bb18f859e4f1ea343f01bf1ffd3a8",
            "1baff89ce0f54e5794dbaff3872ee8f4",
            "82198094f7b54a65ab7a5b064645d949",
            "fed01fb6367541d888da598896b9a776"
          ]
        },
        "id": "AZp42dUa3R7Z",
        "outputId": "26ca77b1-819c-4741-9e5f-5b7ed15eb208"
      },
      "execution_count": 109,
      "outputs": [
        {
          "output_type": "display_data",
          "data": {
            "text/plain": [
              "  0%|          | 0/100000 [00:00<?, ?it/s]"
            ],
            "application/vnd.jupyter.widget-view+json": {
              "version_major": 2,
              "version_minor": 0,
              "model_id": "4aeb140d161d4088b7b9885c4b976a18"
            }
          },
          "metadata": {}
        }
      ]
    },
    {
      "cell_type": "code",
      "source": [
        "data['text'] = preprocessed_text\n",
        "data.head(3)"
      ],
      "metadata": {
        "colab": {
          "base_uri": "https://localhost:8080/",
          "height": 143
        },
        "id": "Ttlq2eeZ3roS",
        "outputId": "bf3b6289-8bd2-4b22-ff56-c4dc8b0ef390"
      },
      "execution_count": 110,
      "outputs": [
        {
          "output_type": "execute_result",
          "data": {
            "text/plain": [
              "                         0           1              2  \\\n",
              "144830  412817349491036160  1387258300  TRETYAKOVA_CR   \n",
              "42865   409946122463895552  1386573746        _LizaB_   \n",
              "155102  413925178716848129  1387522427  arsonist_dale   \n",
              "\n",
              "                                                     text  4  5  6  7      8  \\\n",
              "144830  [пара, смочь, поехать, сильно, болеть, желудок... -1  0  0  0   1981   \n",
              "42865                         [большой, полянин, скучать]  1  0  0  0    287   \n",
              "155102              [наверное, нужный, старый, приставка] -1  0  0  0  43353   \n",
              "\n",
              "          9  10  11  \n",
              "144830   61  58   0  \n",
              "42865    22  19   0  \n",
              "155102  149  75   1  "
            ],
            "text/html": [
              "\n",
              "\n",
              "  <div id=\"df-f203e85a-3ceb-4231-ad9c-b3c60b9109a6\">\n",
              "    <div class=\"colab-df-container\">\n",
              "      <div>\n",
              "<style scoped>\n",
              "    .dataframe tbody tr th:only-of-type {\n",
              "        vertical-align: middle;\n",
              "    }\n",
              "\n",
              "    .dataframe tbody tr th {\n",
              "        vertical-align: top;\n",
              "    }\n",
              "\n",
              "    .dataframe thead th {\n",
              "        text-align: right;\n",
              "    }\n",
              "</style>\n",
              "<table border=\"1\" class=\"dataframe\">\n",
              "  <thead>\n",
              "    <tr style=\"text-align: right;\">\n",
              "      <th></th>\n",
              "      <th>0</th>\n",
              "      <th>1</th>\n",
              "      <th>2</th>\n",
              "      <th>text</th>\n",
              "      <th>4</th>\n",
              "      <th>5</th>\n",
              "      <th>6</th>\n",
              "      <th>7</th>\n",
              "      <th>8</th>\n",
              "      <th>9</th>\n",
              "      <th>10</th>\n",
              "      <th>11</th>\n",
              "    </tr>\n",
              "  </thead>\n",
              "  <tbody>\n",
              "    <tr>\n",
              "      <th>144830</th>\n",
              "      <td>412817349491036160</td>\n",
              "      <td>1387258300</td>\n",
              "      <td>TRETYAKOVA_CR</td>\n",
              "      <td>[пара, смочь, поехать, сильно, болеть, желудок...</td>\n",
              "      <td>-1</td>\n",
              "      <td>0</td>\n",
              "      <td>0</td>\n",
              "      <td>0</td>\n",
              "      <td>1981</td>\n",
              "      <td>61</td>\n",
              "      <td>58</td>\n",
              "      <td>0</td>\n",
              "    </tr>\n",
              "    <tr>\n",
              "      <th>42865</th>\n",
              "      <td>409946122463895552</td>\n",
              "      <td>1386573746</td>\n",
              "      <td>_LizaB_</td>\n",
              "      <td>[большой, полянин, скучать]</td>\n",
              "      <td>1</td>\n",
              "      <td>0</td>\n",
              "      <td>0</td>\n",
              "      <td>0</td>\n",
              "      <td>287</td>\n",
              "      <td>22</td>\n",
              "      <td>19</td>\n",
              "      <td>0</td>\n",
              "    </tr>\n",
              "    <tr>\n",
              "      <th>155102</th>\n",
              "      <td>413925178716848129</td>\n",
              "      <td>1387522427</td>\n",
              "      <td>arsonist_dale</td>\n",
              "      <td>[наверное, нужный, старый, приставка]</td>\n",
              "      <td>-1</td>\n",
              "      <td>0</td>\n",
              "      <td>0</td>\n",
              "      <td>0</td>\n",
              "      <td>43353</td>\n",
              "      <td>149</td>\n",
              "      <td>75</td>\n",
              "      <td>1</td>\n",
              "    </tr>\n",
              "  </tbody>\n",
              "</table>\n",
              "</div>\n",
              "      <button class=\"colab-df-convert\" onclick=\"convertToInteractive('df-f203e85a-3ceb-4231-ad9c-b3c60b9109a6')\"\n",
              "              title=\"Convert this dataframe to an interactive table.\"\n",
              "              style=\"display:none;\">\n",
              "\n",
              "  <svg xmlns=\"http://www.w3.org/2000/svg\" height=\"24px\"viewBox=\"0 0 24 24\"\n",
              "       width=\"24px\">\n",
              "    <path d=\"M0 0h24v24H0V0z\" fill=\"none\"/>\n",
              "    <path d=\"M18.56 5.44l.94 2.06.94-2.06 2.06-.94-2.06-.94-.94-2.06-.94 2.06-2.06.94zm-11 1L8.5 8.5l.94-2.06 2.06-.94-2.06-.94L8.5 2.5l-.94 2.06-2.06.94zm10 10l.94 2.06.94-2.06 2.06-.94-2.06-.94-.94-2.06-.94 2.06-2.06.94z\"/><path d=\"M17.41 7.96l-1.37-1.37c-.4-.4-.92-.59-1.43-.59-.52 0-1.04.2-1.43.59L10.3 9.45l-7.72 7.72c-.78.78-.78 2.05 0 2.83L4 21.41c.39.39.9.59 1.41.59.51 0 1.02-.2 1.41-.59l7.78-7.78 2.81-2.81c.8-.78.8-2.07 0-2.86zM5.41 20L4 18.59l7.72-7.72 1.47 1.35L5.41 20z\"/>\n",
              "  </svg>\n",
              "      </button>\n",
              "\n",
              "\n",
              "\n",
              "    <div id=\"df-7ff4d0c9-5b16-40ca-9b33-d61582cc9e83\">\n",
              "      <button class=\"colab-df-quickchart\" onclick=\"quickchart('df-7ff4d0c9-5b16-40ca-9b33-d61582cc9e83')\"\n",
              "              title=\"Suggest charts.\"\n",
              "              style=\"display:none;\">\n",
              "\n",
              "<svg xmlns=\"http://www.w3.org/2000/svg\" height=\"24px\"viewBox=\"0 0 24 24\"\n",
              "     width=\"24px\">\n",
              "    <g>\n",
              "        <path d=\"M19 3H5c-1.1 0-2 .9-2 2v14c0 1.1.9 2 2 2h14c1.1 0 2-.9 2-2V5c0-1.1-.9-2-2-2zM9 17H7v-7h2v7zm4 0h-2V7h2v10zm4 0h-2v-4h2v4z\"/>\n",
              "    </g>\n",
              "</svg>\n",
              "      </button>\n",
              "    </div>\n",
              "\n",
              "<style>\n",
              "  .colab-df-quickchart {\n",
              "    background-color: #E8F0FE;\n",
              "    border: none;\n",
              "    border-radius: 50%;\n",
              "    cursor: pointer;\n",
              "    display: none;\n",
              "    fill: #1967D2;\n",
              "    height: 32px;\n",
              "    padding: 0 0 0 0;\n",
              "    width: 32px;\n",
              "  }\n",
              "\n",
              "  .colab-df-quickchart:hover {\n",
              "    background-color: #E2EBFA;\n",
              "    box-shadow: 0px 1px 2px rgba(60, 64, 67, 0.3), 0px 1px 3px 1px rgba(60, 64, 67, 0.15);\n",
              "    fill: #174EA6;\n",
              "  }\n",
              "\n",
              "  [theme=dark] .colab-df-quickchart {\n",
              "    background-color: #3B4455;\n",
              "    fill: #D2E3FC;\n",
              "  }\n",
              "\n",
              "  [theme=dark] .colab-df-quickchart:hover {\n",
              "    background-color: #434B5C;\n",
              "    box-shadow: 0px 1px 3px 1px rgba(0, 0, 0, 0.15);\n",
              "    filter: drop-shadow(0px 1px 2px rgba(0, 0, 0, 0.3));\n",
              "    fill: #FFFFFF;\n",
              "  }\n",
              "</style>\n",
              "\n",
              "    <script>\n",
              "      async function quickchart(key) {\n",
              "        const containerElement = document.querySelector('#' + key);\n",
              "        const charts = await google.colab.kernel.invokeFunction(\n",
              "            'suggestCharts', [key], {});\n",
              "      }\n",
              "    </script>\n",
              "\n",
              "      <script>\n",
              "\n",
              "function displayQuickchartButton(domScope) {\n",
              "  let quickchartButtonEl =\n",
              "    domScope.querySelector('#df-7ff4d0c9-5b16-40ca-9b33-d61582cc9e83 button.colab-df-quickchart');\n",
              "  quickchartButtonEl.style.display =\n",
              "    google.colab.kernel.accessAllowed ? 'block' : 'none';\n",
              "}\n",
              "\n",
              "        displayQuickchartButton(document);\n",
              "      </script>\n",
              "      <style>\n",
              "    .colab-df-container {\n",
              "      display:flex;\n",
              "      flex-wrap:wrap;\n",
              "      gap: 12px;\n",
              "    }\n",
              "\n",
              "    .colab-df-convert {\n",
              "      background-color: #E8F0FE;\n",
              "      border: none;\n",
              "      border-radius: 50%;\n",
              "      cursor: pointer;\n",
              "      display: none;\n",
              "      fill: #1967D2;\n",
              "      height: 32px;\n",
              "      padding: 0 0 0 0;\n",
              "      width: 32px;\n",
              "    }\n",
              "\n",
              "    .colab-df-convert:hover {\n",
              "      background-color: #E2EBFA;\n",
              "      box-shadow: 0px 1px 2px rgba(60, 64, 67, 0.3), 0px 1px 3px 1px rgba(60, 64, 67, 0.15);\n",
              "      fill: #174EA6;\n",
              "    }\n",
              "\n",
              "    [theme=dark] .colab-df-convert {\n",
              "      background-color: #3B4455;\n",
              "      fill: #D2E3FC;\n",
              "    }\n",
              "\n",
              "    [theme=dark] .colab-df-convert:hover {\n",
              "      background-color: #434B5C;\n",
              "      box-shadow: 0px 1px 3px 1px rgba(0, 0, 0, 0.15);\n",
              "      filter: drop-shadow(0px 1px 2px rgba(0, 0, 0, 0.3));\n",
              "      fill: #FFFFFF;\n",
              "    }\n",
              "  </style>\n",
              "\n",
              "      <script>\n",
              "        const buttonEl =\n",
              "          document.querySelector('#df-f203e85a-3ceb-4231-ad9c-b3c60b9109a6 button.colab-df-convert');\n",
              "        buttonEl.style.display =\n",
              "          google.colab.kernel.accessAllowed ? 'block' : 'none';\n",
              "\n",
              "        async function convertToInteractive(key) {\n",
              "          const element = document.querySelector('#df-f203e85a-3ceb-4231-ad9c-b3c60b9109a6');\n",
              "          const dataTable =\n",
              "            await google.colab.kernel.invokeFunction('convertToInteractive',\n",
              "                                                     [key], {});\n",
              "          if (!dataTable) return;\n",
              "\n",
              "          const docLinkHtml = 'Like what you see? Visit the ' +\n",
              "            '<a target=\"_blank\" href=https://colab.research.google.com/notebooks/data_table.ipynb>data table notebook</a>'\n",
              "            + ' to learn more about interactive tables.';\n",
              "          element.innerHTML = '';\n",
              "          dataTable['output_type'] = 'display_data';\n",
              "          await google.colab.output.renderOutput(dataTable, element);\n",
              "          const docLink = document.createElement('div');\n",
              "          docLink.innerHTML = docLinkHtml;\n",
              "          element.appendChild(docLink);\n",
              "        }\n",
              "      </script>\n",
              "    </div>\n",
              "  </div>\n"
            ]
          },
          "metadata": {},
          "execution_count": 110
        }
      ]
    },
    {
      "cell_type": "markdown",
      "source": [
        "Модель LDA"
      ],
      "metadata": {
        "id": "UDWwbHGH4owD"
      }
    },
    {
      "cell_type": "code",
      "source": [
        "dictionary = corpora.Dictionary(data['text'])\n",
        "\n",
        "dictionary.filter_extremes(no_below = 10, no_above = 0.9, keep_n=None) # игнорируем слова, которые встречаются реже 10 раз или составляют более 0.9 словаря\n",
        "dictionary.save('/drive/MyDrive/GB/tweets.dict')"
      ],
      "metadata": {
        "id": "mZ2atIi04ZGv"
      },
      "execution_count": 111,
      "outputs": []
    },
    {
      "cell_type": "code",
      "source": [
        "corpus = [dictionary.doc2bow(text) for text in data['text']]\n",
        "corpora.MmCorpus.serialize('tweets.model', corpus)"
      ],
      "metadata": {
        "id": "IB2nUAda41rE"
      },
      "execution_count": 112,
      "outputs": []
    },
    {
      "cell_type": "markdown",
      "source": [
        "Возьмем 10 тем\n",
        "\n"
      ],
      "metadata": {
        "id": "hlJrl5z4EQny"
      }
    },
    {
      "cell_type": "code",
      "source": [
        "%time\n",
        "lda = ldamodel.LdaModel(corpus, id2word=dictionary, num_topics=10, chunksize=50, update_every=1, passes=2)"
      ],
      "metadata": {
        "colab": {
          "base_uri": "https://localhost:8080/"
        },
        "id": "2AEZL5Gw49ZS",
        "outputId": "484c0881-34ca-49cc-ca49-d9916c0f3e77"
      },
      "execution_count": 113,
      "outputs": [
        {
          "output_type": "stream",
          "name": "stdout",
          "text": [
            "CPU times: user 4 µs, sys: 0 ns, total: 4 µs\n",
            "Wall time: 8.34 µs\n"
          ]
        }
      ]
    },
    {
      "cell_type": "code",
      "source": [
        "lda.show_topics(num_topics=10, num_words=10, formatted=True)"
      ],
      "metadata": {
        "colab": {
          "base_uri": "https://localhost:8080/"
        },
        "id": "FVnqEZP45FMS",
        "outputId": "34addf43-ddb0-4862-ed43-40edfbb29b01"
      },
      "execution_count": 115,
      "outputs": [
        {
          "output_type": "execute_result",
          "data": {
            "text/plain": [
              "[(0,\n",
              "  '0.045*\"дом\" + 0.037*\"утро\" + 0.034*\"добрый\" + 0.028*\"купить\" + 0.024*\"стать\" + 0.023*\"урок\" + 0.020*\"жаль\" + 0.017*\"ребёнок\" + 0.016*\"мир\" + 0.016*\"еда\"'),\n",
              " (1,\n",
              "  '0.038*\"пойти\" + 0.034*\"говорить\" + 0.032*\"мама\" + 0.029*\"болеть\" + 0.021*\"видеть\" + 0.021*\"плохо\" + 0.020*\"жить\" + 0.018*\"надеяться\" + 0.017*\"пройти\" + 0.016*\"сходить\"'),\n",
              " (2,\n",
              "  '0.069*\"знать\" + 0.033*\"друг\" + 0.032*\"думать\" + 0.031*\"идти\" + 0.028*\"ждать\" + 0.024*\"настроение\" + 0.020*\"чтоть\" + 0.020*\"вчера\" + 0.017*\"ходить\" + 0.015*\"пара\"'),\n",
              " (3,\n",
              "  '0.029*\"твиттер\" + 0.025*\"лента\" + 0.023*\"нормально\" + 0.021*\"приехать\" + 0.019*\"ктоть\" + 0.018*\"приходить\" + 0.017*\"учёба\" + 0.015*\"норма\" + 0.012*\"пить\" + 0.012*\"заметить\"'),\n",
              " (4,\n",
              "  '0.061*\"новый\" + 0.057*\"делать\" + 0.029*\"никто\" + 0.022*\"нужный\" + 0.017*\"улица\" + 0.016*\"лицо\" + 0.014*\"ладный\" + 0.011*\"минута\" + 0.011*\"ужасно\" + 0.011*\"москва\"'),\n",
              " (5,\n",
              "  '0.046*\"вообще\" + 0.045*\"смотреть\" + 0.029*\"блин\" + 0.023*\"забыть\" + 0.015*\"както\" + 0.014*\"правда\" + 0.014*\"ненавидеть\" + 0.014*\"слово\" + 0.013*\"изз\" + 0.012*\"парень\"'),\n",
              " (6,\n",
              "  '0.062*\"хороший\" + 0.045*\"завтра\" + 0.027*\"сделать\" + 0.026*\"спать\" + 0.023*\"школа\" + 0.019*\"прийти\" + 0.019*\"читать\" + 0.018*\"любимый\" + 0.018*\"домой\" + 0.017*\"посмотреть\"'),\n",
              " (7,\n",
              "  '0.047*\"любить\" + 0.037*\"самый\" + 0.031*\"сидеть\" + 0.030*\"хотеться\" + 0.024*\"понять\" + 0.021*\"нравиться\" + 0.020*\"ночь\" + 0.017*\"ахах\" + 0.017*\"выходной\" + 0.017*\"ранний\"'),\n",
              " (8,\n",
              "  '0.048*\"написать\" + 0.026*\"ехать\" + 0.023*\"столько\" + 0.017*\"интересно\" + 0.017*\"праздник\" + 0.017*\"подарок\" + 0.016*\"стоить\" + 0.015*\"полный\" + 0.014*\"поход\" + 0.014*\"вопрос\"'),\n",
              " (9,\n",
              "  '0.048*\"свой\" + 0.032*\"большой\" + 0.032*\"писать\" + 0.029*\"час\" + 0.024*\"неделя\" + 0.022*\"последний\" + 0.021*\"давать\" + 0.017*\"понимать\" + 0.017*\"работа\" + 0.017*\"девушка\"')]"
            ]
          },
          "metadata": {},
          "execution_count": 115
        }
      ]
    },
    {
      "cell_type": "markdown",
      "source": [
        "Посмотрим на распределение по темам"
      ],
      "metadata": {
        "id": "i-Te4n78EVM1"
      }
    },
    {
      "cell_type": "code",
      "source": [
        "%time\n",
        "vis_data = gensimvis.prepare(lda, corpus, dictionary)\n",
        "pyLDAvis.display(vis_data)"
      ],
      "metadata": {
        "colab": {
          "base_uri": "https://localhost:8080/",
          "height": 896
        },
        "id": "jgvsY_ll5d6F",
        "outputId": "808f8f0d-9460-43b6-c065-65600802d29a"
      },
      "execution_count": 116,
      "outputs": [
        {
          "output_type": "stream",
          "name": "stdout",
          "text": [
            "CPU times: user 5 µs, sys: 0 ns, total: 5 µs\n",
            "Wall time: 8.11 µs\n"
          ]
        },
        {
          "output_type": "execute_result",
          "data": {
            "text/plain": [
              "<IPython.core.display.HTML object>"
            ],
            "text/html": [
              "\n",
              "<link rel=\"stylesheet\" type=\"text/css\" href=\"https://cdn.jsdelivr.net/gh/bmabey/pyLDAvis@3.4.0/pyLDAvis/js/ldavis.v1.0.0.css\">\n",
              "\n",
              "\n",
              "<div id=\"ldavis_el6141345624271014563253108330\" style=\"background-color:white;\"></div>\n",
              "<script type=\"text/javascript\">\n",
              "\n",
              "var ldavis_el6141345624271014563253108330_data = {\"mdsDat\": {\"x\": [0.4465835019682349, -0.11012693031204454, -0.08190185717946585, -0.06796868580552594, -0.07051486269824582, -0.02409733566245067, -0.03615931772923023, -0.019870699076712378, -0.024487317784529644, -0.011456495720029903], \"y\": [0.025865155452598734, 0.36688676720556906, -0.30615405764724246, -0.016194987677093597, -0.020204781029822177, -0.01320706635867495, -0.014563694799814826, -0.008960330393998241, -0.005823528219989759, -0.007643476531531711], \"topics\": [1, 2, 3, 4, 5, 6, 7, 8, 9, 10], \"cluster\": [1, 1, 1, 1, 1, 1, 1, 1, 1, 1], \"Freq\": [12.39757700611054, 12.06564460962769, 11.607889838805214, 10.633775927217327, 10.462937773274978, 10.272571503495627, 9.21945471471773, 9.039450536216494, 7.166075059984939, 7.134623030549463]}, \"tinfo\": {\"Term\": [\"\\u0437\\u043d\\u0430\\u0442\\u044c\", \"\\u0445\\u043e\\u0440\\u043e\\u0448\\u0438\\u0439\", \"\\u043d\\u043e\\u0432\\u044b\\u0439\", \"\\u0434\\u0435\\u043b\\u0430\\u0442\\u044c\", \"\\u0441\\u0432\\u043e\\u0439\", \"\\u0437\\u0430\\u0432\\u0442\\u0440\\u0430\", \"\\u043b\\u044e\\u0431\\u0438\\u0442\\u044c\", \"\\u0432\\u043e\\u043e\\u0431\\u0449\\u0435\", \"\\u0441\\u043c\\u043e\\u0442\\u0440\\u0435\\u0442\\u044c\", \"\\u0434\\u043e\\u043c\", \"\\u043d\\u0430\\u043f\\u0438\\u0441\\u0430\\u0442\\u044c\", \"\\u043f\\u043e\\u0439\\u0442\\u0438\", \"\\u0441\\u0430\\u043c\\u044b\\u0439\", \"\\u0434\\u0440\\u0443\\u0433\", \"\\u0431\\u043e\\u043b\\u044c\\u0448\\u043e\\u0439\", \"\\u043f\\u0438\\u0441\\u0430\\u0442\\u044c\", \"\\u0434\\u0443\\u043c\\u0430\\u0442\\u044c\", \"\\u0443\\u0442\\u0440\\u043e\", \"\\u0433\\u043e\\u0432\\u043e\\u0440\\u0438\\u0442\\u044c\", \"\\u0438\\u0434\\u0442\\u0438\", \"\\u0434\\u043e\\u0431\\u0440\\u044b\\u0439\", \"\\u043c\\u0430\\u043c\\u0430\", \"\\u0447\\u0430\\u0441\", \"\\u0441\\u0438\\u0434\\u0435\\u0442\\u044c\", \"\\u0445\\u043e\\u0442\\u0435\\u0442\\u044c\\u0441\\u044f\", \"\\u0436\\u0434\\u0430\\u0442\\u044c\", \"\\u0441\\u0434\\u0435\\u043b\\u0430\\u0442\\u044c\", \"\\u0431\\u043b\\u0438\\u043d\", \"\\u0441\\u043f\\u0430\\u0442\\u044c\", \"\\u0431\\u043e\\u043b\\u0435\\u0442\\u044c\", \"\\u0445\\u043e\\u0440\\u043e\\u0448\\u0438\\u0439\", \"\\u0437\\u0430\\u0432\\u0442\\u0440\\u0430\", \"\\u0441\\u0434\\u0435\\u043b\\u0430\\u0442\\u044c\", \"\\u0441\\u043f\\u0430\\u0442\\u044c\", \"\\u0448\\u043a\\u043e\\u043b\\u0430\", \"\\u043f\\u0440\\u0438\\u0439\\u0442\\u0438\", \"\\u0447\\u0438\\u0442\\u0430\\u0442\\u044c\", \"\\u043b\\u044e\\u0431\\u0438\\u043c\\u044b\\u0439\", \"\\u0434\\u043e\\u043c\\u043e\\u0439\", \"\\u043f\\u043e\\u0441\\u043c\\u043e\\u0442\\u0440\\u0435\\u0442\\u044c\", \"\\u043f\\u0440\\u043e\\u0441\\u0442\\u0438\\u0442\\u044c\", \"\\u0444\\u0438\\u043b\\u044c\\u043c\", \"\\u0434\\u0430\\u0442\\u044c\", \"\\u043d\\u0430\\u0439\\u0442\\u0438\", \"\\u0441\\u043a\\u043e\\u0440\\u043e\", \"\\u0440\\u0435\\u0448\\u0438\\u0442\\u044c\", \"\\u043f\\u043e\\u043d\\u0440\\u0430\\u0432\\u0438\\u0442\\u044c\\u0441\\u044f\", \"\\u0437\\u0438\\u043c\\u0430\", \"\\u0431\\u043e\\u0433\", \"\\u0447\\u0443\\u0432\\u0441\\u0442\\u0432\\u043e\", \"\\u0454\\u0432\\u0440\\u043e\\u043c\\u0430\\u0439\\u0434\\u0430\\u043d\", \"\\u043f\\u0440\\u043e\\u0441\\u043d\\u0443\\u0442\\u044c\\u0441\\u044f\", \"\\u0431\\u043e\\u044f\\u0442\\u044c\\u0441\\u044f\", \"\\u0443\\u0442\\u0440\\u043e\\u043c\", \"\\u043e\\u0442\\u0432\\u0435\\u0442\\u0438\\u0442\\u044c\", \"\\u0434\\u0435\\u043d\\u044c\\u0433\\u0430\", \"\\u0432\\u0438\\u0434\\u0435\\u043e\", \"\\u043a\\u0441\\u0442\\u0430\\u0442\\u0438\", \"\\u0441\\u0435\\u0437\\u043e\\u043d\", \"\\u0433\\u043b\\u0430\\u0432\\u043d\\u043e\\u0435\", \"\\u0441\\u0432\\u043e\\u0439\", \"\\u0431\\u043e\\u043b\\u044c\\u0448\\u043e\\u0439\", \"\\u043f\\u0438\\u0441\\u0430\\u0442\\u044c\", \"\\u0447\\u0430\\u0441\", \"\\u043d\\u0435\\u0434\\u0435\\u043b\\u044f\", \"\\u043f\\u043e\\u0441\\u043b\\u0435\\u0434\\u043d\\u0438\\u0439\", \"\\u0434\\u0430\\u0432\\u0430\\u0442\\u044c\", \"\\u043f\\u043e\\u043d\\u0438\\u043c\\u0430\\u0442\\u044c\", \"\\u0440\\u0430\\u0431\\u043e\\u0442\\u0430\", \"\\u0434\\u0435\\u0432\\u0443\\u0448\\u043a\\u0430\", \"\\u043e\\u0441\\u0442\\u0430\\u0442\\u044c\\u0441\\u044f\", \"\\u0434\\u043e\\u043b\\u0436\\u043d\\u044b\\u0439\", \"\\u0441\\u043a\\u0443\\u0447\\u0430\\u0442\\u044c\", \"\\u0434\\u0435\\u043b\\u043e\", \"\\u043f\\u043e\\u043c\\u043d\\u0438\\u0442\\u044c\", \"\\u043a\\u0430\\u0437\\u0430\\u0442\\u044c\\u0441\\u044f\", \"\\u0438\\u0433\\u0440\\u0430\\u0442\\u044c\", \"\\u0433\\u043e\\u0440\\u043e\\u0434\", \"\\u043c\\u0435\\u0441\\u044f\\u0446\", \"\\u0442\\u0435\\u043b\\u0435\\u0444\\u043e\\u043d\", \"\\u0447\\u0443\\u0432\\u0441\\u0442\\u0432\\u043e\\u0432\\u0430\\u0442\\u044c\", \"\\u0441\\u0435\\u0440\\u0438\\u044f\", \"\\u0444\\u043e\\u0442\\u043a\\u0430\", \"\\u0440\\u0443\\u043a\\u0430\", \"\\u043d\\u0435\\u0442\\u0443\", \"\\u044d\\u043a\\u0437\\u0430\\u043c\\u0435\\u043d\", \"\\u0431\\u044b\\u0441\\u0442\\u0440\\u043e\", \"\\u043d\\u0430\\u0447\\u0438\\u043d\\u0430\\u0442\\u044c\", \"\\u0441\\u043b\\u0443\\u0447\\u0430\\u0439\", \"\\u0440\\u043e\\u0434\\u043d\\u044b\\u0439\", \"\\u0437\\u043d\\u0430\\u0442\\u044c\", \"\\u0434\\u0440\\u0443\\u0433\", \"\\u0434\\u0443\\u043c\\u0430\\u0442\\u044c\", \"\\u0438\\u0434\\u0442\\u0438\", \"\\u0436\\u0434\\u0430\\u0442\\u044c\", \"\\u043d\\u0430\\u0441\\u0442\\u0440\\u043e\\u0435\\u043d\\u0438\\u0435\", \"\\u0447\\u0442\\u043e\\u0442\\u044c\", \"\\u0432\\u0447\\u0435\\u0440\\u0430\", \"\\u0445\\u043e\\u0434\\u0438\\u0442\\u044c\", \"\\u043f\\u0430\\u0440\\u0430\", \"\\u0440\\u0430\\u0431\\u043e\\u0442\\u0430\\u0442\\u044c\", \"\\u0432\\u0435\\u0447\\u0435\\u0440\", \"\\u0433\\u043e\\u043b\\u043e\\u0432\\u0430\", \"\\u043a\\u043e\\u043d\\u0435\\u0446\", \"\\u0437\\u0430\\u043a\\u043e\\u043d\\u0447\\u0438\\u0442\\u044c\\u0441\\u044f\", \"\\u0441\\u043d\\u0435\\u0433\", \"\\u0437\\u0430\\u0445\\u043e\\u0434\\u0438\\u0442\\u044c\", \"\\u043f\\u0440\\u0438\\u0439\\u0442\\u0438\\u0441\\u044c\", \"\\u0432\\u044b\\u0439\\u0442\\u0438\", \"\\u043f\\u043e\\u043d\\u0435\\u0434\\u0435\\u043b\\u044c\\u043d\\u0438\\u043a\", \"\\u0431\\u044b\\u0432\\u0430\\u0442\\u044c\", \"\\u043b\\u0435\\u0442\\u043e\", \"\\u043f\\u0440\\u0435\\u043a\\u0440\\u0430\\u0441\\u043d\\u044b\\u0439\", \"\\u043a\\u043b\\u0430\\u0441\\u0441\\u043d\\u044b\\u0439\", \"\\u043b\\u0438\\u0431\\u043e\", \"\\u0432\\u0440\\u043e\\u0434\\u0435\", \"\\u0430\\u043d\\u0433\\u043b\\u0438\\u0439\\u0441\\u043a\\u0438\\u0439\", \"\\u043f\\u0440\\u0438\\u044f\\u0442\\u043d\\u043e\", \"\\u0437\\u0430\\u0439\\u0442\\u0438\", \"\\u043f\\u043e\\u0441\\u0442\\u0430\\u0432\\u0438\\u0442\\u044c\", \"\\u0432\\u043e\\u043e\\u0431\\u0449\\u0435\", \"\\u0441\\u043c\\u043e\\u0442\\u0440\\u0435\\u0442\\u044c\", \"\\u0431\\u043b\\u0438\\u043d\", \"\\u0437\\u0430\\u0431\\u044b\\u0442\\u044c\", \"\\u043a\\u0430\\u043a\\u0442\\u043e\", \"\\u043f\\u0440\\u0430\\u0432\\u0434\\u0430\", \"\\u043d\\u0435\\u043d\\u0430\\u0432\\u0438\\u0434\\u0435\\u0442\\u044c\", \"\\u0441\\u043b\\u043e\\u0432\\u043e\", \"\\u0438\\u0437\\u0437\", \"\\u043f\\u0430\\u0440\\u0435\\u043d\\u044c\", \"\\u043c\\u0430\\u043b\\u0435\\u043d\\u044c\\u043a\\u0438\\u0439\", \"\\u0442\\u0432\\u0438\\u0442\", \"\\u043f\\u0440\\u0438\\u0432\\u0435\\u0442\", \"\\u0432\\u0437\\u044f\\u0442\\u044c\", \"\\u0438\\u0433\\u0440\\u0430\", \"\\u043f\\u043e\\u043b\\u0443\\u0447\\u0438\\u0442\\u044c\", \"\\u043b\\u044e\\u0431\\u043e\\u0432\\u044c\", \"\\u0442\\u0438\\u043f\", \"\\u0442\\u043e\\u0447\\u043d\\u043e\", \"\\u0432\\u043c\\u0435\\u0441\\u0442\\u0435\", \"\\u043a\\u0432\\u0430\\u0440\\u0442\\u0438\\u0440\\u0430\", \"ddd\", \"\\u0434\\u0435\\u0432\\u043e\\u0447\\u043a\\u0430\", \"\\u0442\\u0430\\u043a\\u0438\", \"\\u043a\\u0440\\u0443\\u0442\\u043e\\u0439\", \"\\u043f\\u0440\\u0438\\u0434\\u0443\\u043c\\u0430\\u0442\\u044c\", \"\\u0433\\u0440\\u0443\\u043f\\u043f\\u0430\", \"\\u043a\\u043e\\u043c\\u043f\", \"\\u043c\\u043e\\u043b\\u043e\\u0434\\u0435\\u0446\", \"\\u0441\\u0435\\u0441\\u0442\\u0440\\u0430\", \"\\u043b\\u044e\\u0431\\u0438\\u0442\\u044c\", \"\\u0441\\u0430\\u043c\\u044b\\u0439\", \"\\u0441\\u0438\\u0434\\u0435\\u0442\\u044c\", \"\\u0445\\u043e\\u0442\\u0435\\u0442\\u044c\\u0441\\u044f\", \"\\u043f\\u043e\\u043d\\u044f\\u0442\\u044c\", \"\\u043d\\u0440\\u0430\\u0432\\u0438\\u0442\\u044c\\u0441\\u044f\", \"\\u043d\\u043e\\u0447\\u044c\", \"\\u0430\\u0445\\u0430\\u0445\", \"\\u0432\\u044b\\u0445\\u043e\\u0434\\u043d\\u043e\\u0439\", \"\\u0440\\u0430\\u043d\\u043d\\u0438\\u0439\", \"\\u0440\\u0430\\u0432\\u043d\\u043e\", \"\\u0441\\u0440\\u0430\\u0437\\u0443\", \"\\u0438\\u043d\\u0442\\u0435\\u0440\\u043d\\u0435\\u0442\", \"\\u043c\\u043e\\u043c\\u0435\\u043d\\u0442\", \"\\u043d\\u0430\\u0447\\u0430\\u0442\\u044c\", \"\\u0431\\u043b\\u044f\", \"\\u0433\\u0440\\u0443\\u0441\\u0442\\u043d\\u043e\", \"\\u0432\\u044b\\u0445\\u043e\\u0434\\u0438\\u0442\\u044c\", \"\\u0441\\u043e\\u043d\", \"\\u0432\\u043c\\u0435\\u0441\\u0442\\u043e\", \"\\u043f\\u043e\\u044d\\u0442\\u043e\\u043c\\u0443\", \"\\u0440\\u043e\\u0436\\u0434\\u0435\\u043d\\u0438\\u0435\", \"\\u0432\\u0441\\u0442\\u0430\\u0442\\u044c\", \"\\u0442\\u0435\\u043c\\u0430\", \"\\u0434\\u0430\\u043b\\u0451\\u043a\\u0438\\u0439\", \"\\u043f\\u043e\\u043c\\u043e\\u0447\\u044c\", \"\\u0440\\u0430\\u0441\\u0441\\u043a\\u0430\\u0437\\u0430\\u0442\\u044c\", \"\\u0431\\u043e\\u043b\\u044c\\u043d\\u043e\", \"\\u043a\\u0430\\u043f\\u0435\\u0446\", \"\\u0451\\u043b\\u043a\\u0430\", \"\\u043f\\u043e\\u0439\\u0442\\u0438\", \"\\u0433\\u043e\\u0432\\u043e\\u0440\\u0438\\u0442\\u044c\", \"\\u043c\\u0430\\u043c\\u0430\", \"\\u0431\\u043e\\u043b\\u0435\\u0442\\u044c\", \"\\u0432\\u0438\\u0434\\u0435\\u0442\\u044c\", \"\\u043f\\u043b\\u043e\\u0445\\u043e\", \"\\u0436\\u0438\\u0442\\u044c\", \"\\u043d\\u0430\\u0434\\u0435\\u044f\\u0442\\u044c\\u0441\\u044f\", \"\\u043f\\u0440\\u043e\\u0439\\u0442\\u0438\", \"\\u0441\\u0445\\u043e\\u0434\\u0438\\u0442\\u044c\", \"\\u043c\\u0435\\u0441\\u0442\\u043e\", \"\\u043f\\u043e\\u0434\\u0440\\u0443\\u0433\\u0430\", \"\\u0441\\u043b\\u0443\\u0448\\u0430\\u0442\\u044c\", \"\\u0446\\u0435\\u043b\\u044b\\u0439\", \"\\u0443\\u0447\\u0438\\u0442\\u044c\", \"\\u043d\\u043e\\u0432\\u043e\\u0433\\u043e\\u0434\\u043d\\u0438\\u0439\", \"\\u0434\\u0435\\u043a\\u0430\\u0431\\u0440\\u044c\", \"\\u043a\\u0440\\u0443\\u0442\\u043e\", \"\\u0431\\u043e\\u043b\\u044c\", \"\\u0438\\u0431\\u043e\", \"\\u043f\\u043e\\u0434\\u0430\\u0440\\u0438\\u0442\\u044c\", \"\\u043f\\u0440\\u043e\\u0431\\u043b\\u0435\\u043c\\u0430\", \"\\u043f\\u043e\\u0433\\u043e\\u0434\\u0430\", \"\\u0441\\u043c\\u043e\\u0447\\u044c\", \"\\u0441\\u0438\\u043b\\u044c\\u043d\\u043e\", \"\\u0433\\u0443\\u043b\\u044f\\u0442\\u044c\", \"\\u0434\\u043e\\u0440\\u043e\\u0433\\u0430\", \"\\u043a\\u043e\\u043c\\u0430\\u043d\\u0434\\u0430\", \"\\u043f\\u043e\\u0435\\u0445\\u0430\\u0442\\u044c\", \"\\u0432\\u044b\\u0441\\u043f\\u0430\\u0442\\u044c\\u0441\\u044f\", \"\\u043d\\u043e\\u0432\\u044b\\u0439\", \"\\u0434\\u0435\\u043b\\u0430\\u0442\\u044c\", \"\\u043d\\u0438\\u043a\\u0442\\u043e\", \"\\u043d\\u0443\\u0436\\u043d\\u044b\\u0439\", \"\\u0443\\u043b\\u0438\\u0446\\u0430\", \"\\u043b\\u0438\\u0446\\u043e\", \"\\u043b\\u0430\\u0434\\u043d\\u044b\\u0439\", \"\\u043c\\u0438\\u043d\\u0443\\u0442\\u0430\", \"\\u0443\\u0436\\u0430\\u0441\\u043d\\u043e\", \"\\u043c\\u043e\\u0441\\u043a\\u0432\\u0430\", \"\\u043f\\u043b\\u043e\\u0445\\u043e\\u0439\", \"\\u043a\\u043b\\u0430\\u0441\\u0441\", \"\\u0433\\u043b\\u0430\\u0437\", \"\\u0441\\u0442\\u0430\\u0440\\u044b\\u0439\", \"\\u043d\\u0430\\u0432\\u0435\\u0440\\u043d\\u043e\\u0435\", \"\\u043e\\u0431\\u0440\\u0430\\u0442\\u043d\\u043e\", \"\\u043e\\u0431\\u0449\\u0430\\u0442\\u044c\\u0441\\u044f\", \"\\u043d\\u0430\\u0447\\u0430\\u043b\\u043e\", \"\\u0444\\u043e\\u0442\\u043e\", \"\\u0443\\u0439\\u0442\\u0438\", \"\\u0437\\u0430\\u043d\\u0438\\u043c\\u0430\\u0442\\u044c\\u0441\\u044f\", \"\\u043a\\u0430\\u043a\\u043e\\u0439\\u0442\\u044b\\u0439\", \"\\u043d\\u0438\\u043a\\u0430\\u043a\", \"\\u043f\\u0440\\u0438\\u044f\\u0442\\u043d\\u044b\\u0439\", \"\\u043d\\u0430\\u0447\\u0430\\u0442\\u044c\\u0441\\u044f\", \"\\u0447\\u0430\\u0441\\u0442\\u044c\", \"\\u043d\\u0430\\u0434\\u043e\\u0435\\u0441\\u0442\\u044c\", \"\\u0430\\u0430\\u0430\", \"\\u043c\\u043e\\u0437\\u0433\", \"\\u0436\\u043e\\u043f\\u0430\", \"\\u0434\\u043e\\u043c\", \"\\u0443\\u0442\\u0440\\u043e\", \"\\u0434\\u043e\\u0431\\u0440\\u044b\\u0439\", \"\\u043a\\u0443\\u043f\\u0438\\u0442\\u044c\", \"\\u0441\\u0442\\u0430\\u0442\\u044c\", \"\\u0443\\u0440\\u043e\\u043a\", \"\\u0436\\u0430\\u043b\\u044c\", \"\\u0440\\u0435\\u0431\\u0451\\u043d\\u043e\\u043a\", \"\\u043c\\u0438\\u0440\", \"\\u0435\\u0434\\u0430\", \"\\u0443\\u0432\\u0438\\u0434\\u0435\\u0442\\u044c\", \"\\u043f\\u043e\\u0437\\u0432\\u043e\\u043d\\u0438\\u0442\\u044c\", \"\\u043f\\u0435\\u0441\\u043d\\u044f\", \"\\u0436\\u0435\\u043b\\u0430\\u043d\\u0438\\u0435\", \"\\u0430\\u0445\\u0438\", \"\\u0430\\u0445\\u0430\\u0445\\u0438\", \"\\u043f\\u043e\\u0433\\u0443\\u043b\\u044f\\u0442\\u044c\", \"\\u0441\\u043a\\u0443\\u0447\\u043d\\u043e\", \"\\u0436\\u0430\\u043b\\u043a\\u043e\", \"\\u043f\\u0440\\u044f\\u043c\", \"\\u043d\\u043e\\u0433\\u0430\", \"\\u0440\\u043e\\u0434\\u0438\\u0442\\u0435\\u043b\\u044c\", \"\\u0440\\u043e\\u0441\\u0441\\u0438\\u044f\", \"\\u0438\\u0441\\u0442\\u043e\\u0440\\u0438\\u044f\", \"\\u043f\\u043e\\u043b\\u0443\\u0447\\u0438\\u0442\\u044c\\u0441\\u044f\", \"\\u0443\\u0441\\u043f\\u0435\\u0442\\u044c\", \"\\u0441\\u0443\\u0431\\u0431\\u043e\\u0442\\u0430\", \"\\u0441\\u0442\\u043e\\u0440\\u043e\\u043d\\u0430\", \"\\u043d\\u0430\\u0432\\u0435\\u0440\\u043d\\u043e\", \"\\u0443\\u0431\\u0438\\u0442\\u044c\", \"\\u0442\\u0432\\u0438\\u0442\\u0442\\u0435\\u0440\", \"\\u043b\\u0435\\u043d\\u0442\\u0430\", \"\\u043d\\u043e\\u0440\\u043c\\u0430\\u043b\\u044c\\u043d\\u043e\", \"\\u043f\\u0440\\u0438\\u0435\\u0445\\u0430\\u0442\\u044c\", \"\\u043a\\u0442\\u043e\\u0442\\u044c\", \"\\u043f\\u0440\\u0438\\u0445\\u043e\\u0434\\u0438\\u0442\\u044c\", \"\\u0443\\u0447\\u0451\\u0431\\u0430\", \"\\u043d\\u043e\\u0440\\u043c\\u0430\", \"\\u043f\\u0438\\u0442\\u044c\", \"\\u0437\\u0430\\u043c\\u0435\\u0442\\u0438\\u0442\\u044c\", \"\\u043c\\u0438\\u043b\\u044b\\u0439\", \"\\u0432\\u0441\\u043f\\u043e\\u043c\\u043d\\u0438\\u0442\\u044c\", \"\\u0430\\u0433\\u0430\", \"\\u0447\\u0430\\u0439\", \"\\u0437\\u043d\\u0430\\u043a\\u043e\\u043c\\u044b\\u0439\", \"\\u0441\\u043b\\u0435\\u0437\\u0430\", \"\\u0437\\u0440\\u044f\", \"\\u0441\\u0432\\u0435\\u0442\", \"\\u0441\\u043c\\u0435\\u0448\\u043d\\u043e\", \"\\u0441\\u043e\\u043e\\u0431\\u0449\\u0435\\u043d\\u0438\\u0435\", \"\\u0432\\u043a\\u0443\\u0441\\u043d\\u044b\\u0439\", \"\\u043b\\u043e\\u0445\", \"\\u0447\\u0435\\u0440\\u0442\\u0430\", \"\\u0441\\u0441\\u044b\\u043b\\u043a\\u0430\", \"\\u0441\\u043a\\u043e\\u0440\\u0435\\u0435\", \"\\u0441\\u0430\\u0448\\u0430\", \"\\u0436\\u0435\\u043d\\u0449\\u0438\\u043d\\u0430\", \"\\u0445\\u0432\\u0430\\u0442\\u0430\\u0442\\u044c\", \"\\u0432\\u0441\\u0442\\u0440\\u0435\\u0442\\u0438\\u0442\\u044c\", \"\\u043c\\u0430\\u0440\\u0442\", \"\\u043d\\u0430\\u043f\\u0438\\u0441\\u0430\\u0442\\u044c\", \"\\u0435\\u0445\\u0430\\u0442\\u044c\", \"\\u0441\\u0442\\u043e\\u043b\\u044c\\u043a\\u043e\", \"\\u0438\\u043d\\u0442\\u0435\\u0440\\u0435\\u0441\\u043d\\u043e\", \"\\u043f\\u0440\\u0430\\u0437\\u0434\\u043d\\u0438\\u043a\", \"\\u043f\\u043e\\u0434\\u0430\\u0440\\u043e\\u043a\", \"\\u0441\\u0442\\u043e\\u0438\\u0442\\u044c\", \"\\u043f\\u043e\\u043b\\u043d\\u044b\\u0439\", \"\\u043f\\u043e\\u0445\\u043e\\u0434\", \"\\u0432\\u043e\\u043f\\u0440\\u043e\\u0441\", \"\\u0441\\u0443\\u043a\\u0430\", \"\\u043a\\u043d\\u0438\\u0433\\u0430\", \"\\u0441\\u0435\\u0439\", \"\\u043d\\u0430\\u0447\\u0438\\u043d\\u0430\\u0442\\u044c\\u0441\\u044f\", \"\\u043e\\u0431\\u043e\\u0436\\u0430\\u0442\\u044c\", \"\\u0441\\u043e\\u0441\\u043a\\u0443\\u0447\\u0438\\u0442\\u044c\\u0441\\u044f\", \"\\u0436\\u0435\\u043b\\u0430\\u0442\\u044c\", \"\\u043d\\u0438\\u0431\\u044b\\u0442\\u044c\", \"\\u0446\\u0432\\u0435\\u0442\", \"\\u0431\\u043b\\u0438\\u0438\\u043d\\u0430\", \"\\u043e\\u0442\\u043f\\u0440\\u0430\\u0432\\u0438\\u0442\\u044c\", \"\\u0432\\u044b\\u043f\\u0438\\u0442\\u044c\", \"\\u043f\\u0438\\u0441\\u044c\\u043c\\u043e\", \"\\u0437\\u0430\\u0432\\u0438\\u0434\\u043e\\u0432\\u0430\\u0442\\u044c\", \"\\u0441\\u043b\\u043e\\u043c\\u0430\\u0442\\u044c\\u0441\\u044f\", \"\\u0443\\u0433\\u0430\\u0434\\u0430\\u0442\\u044c\", \"\\u043f\\u0440\\u0438\\u0441\\u043b\\u0430\\u0442\\u044c\", \"\\u043f\\u0440\\u044f\\u043c\\u043e\", \"\\u0442\\u0432\\u0438\", \"\\u0430\\u043d\\u0434\\u0440\\u0435\\u0439\"], \"Freq\": [3393.0, 3270.0, 2406.0, 2249.0, 2468.0, 2374.0, 2113.0, 2078.0, 2019.0, 1742.0, 1462.0, 1642.0, 1653.0, 1644.0, 1645.0, 1633.0, 1594.0, 1423.0, 1504.0, 1555.0, 1325.0, 1393.0, 1489.0, 1360.0, 1334.0, 1398.0, 1432.0, 1315.0, 1390.0, 1256.0, 3269.532733237552, 2373.202651331087, 1431.7107243171981, 1389.1746969645035, 1189.1324379310643, 1020.7362538978724, 985.0045801634916, 971.0394501936194, 943.3432031950514, 905.8635058408751, 822.4597512029031, 790.4472818852261, 760.2793100363099, 697.0618241144442, 637.1888959463199, 634.4336440815991, 633.7124971484733, 575.91125155678, 558.9344575574219, 552.2587029903254, 509.57349484368603, 498.15706249469594, 475.1575790107227, 458.0997843102731, 446.3002073472661, 445.33163741147314, 437.76816624636217, 435.06783177631723, 411.4426436649918, 392.99860227836643, 2467.2581096225686, 1644.1496330986422, 1632.0788251739395, 1488.0904018424912, 1212.4474869827652, 1127.883755855243, 1093.6234397216413, 898.1617901124599, 897.1816727875429, 872.960125411103, 823.7715448731898, 723.5818694935439, 689.5857767749659, 680.3943682550569, 675.7830075506622, 671.8606738194424, 624.4568323358228, 609.1171500357822, 598.0501233749212, 580.7949049763487, 532.8290568947521, 484.57603854826533, 455.4739830408733, 452.18918928844056, 419.11771120166543, 410.391358839048, 362.25063663909475, 324.89588999507674, 317.5618138451323, 315.9642111320926, 3392.3127480974986, 1643.5758347852318, 1593.485131562162, 1554.5950111417064, 1397.7407676781158, 1162.1832190664654, 987.667494557132, 982.2879659198665, 853.4030768775399, 748.819246986231, 742.734933224763, 665.4090497475945, 653.2333394193123, 610.6583665213069, 602.7956247265149, 600.2453548794108, 557.1915107524055, 552.9502901172287, 545.0844208499461, 490.28015666113595, 464.89487638521973, 456.4475731881429, 419.1660314494269, 409.12638483221593, 407.21181976106624, 395.1643358048981, 394.1759625133874, 379.64786396139453, 373.4853403915406, 364.7414102264043, 2077.29537463061, 2018.9226054803255, 1314.7186977341312, 1028.7468507881906, 679.9283367402558, 655.9639575135664, 646.8798624758564, 618.8779110578013, 590.0993284365381, 547.1132779711135, 541.6656522628072, 540.3156799098535, 525.3755252201548, 510.71546841137217, 500.2962738474179, 497.7979338888308, 494.82897218989564, 465.87098872974235, 411.1847425012997, 404.16240886591123, 387.39428686853654, 368.72358063401794, 345.7261247403739, 339.37475361304655, 325.47325309909166, 318.14012794466316, 310.07229357732604, 307.57873567491885, 306.90581399846684, 281.0082832944704, 2112.6687754727163, 1652.9579863956246, 1359.8838744363522, 1333.7971700356886, 1084.3881682603328, 949.5254292461236, 900.6026500123638, 756.3121234784252, 754.581511047577, 740.065442740172, 662.2320751991585, 595.655730877371, 548.8958233523891, 534.4257709458667, 514.7403758271597, 453.3452146659104, 444.077612228172, 420.24829868404504, 419.63251472755053, 411.07393026530184, 409.35753716238406, 379.19220716863384, 373.4343742952344, 366.6583877951012, 364.4702695244878, 341.33942346326086, 338.78100155784284, 333.43490735792557, 327.9061175947747, 322.20194921118826, 1641.375988340185, 1503.24875213998, 1392.8745705419283, 1255.2206928583619, 925.069286001179, 923.6387908656875, 887.1393896048605, 784.2769965806444, 758.9141786292303, 696.9297734954974, 683.4854147868255, 575.0252622174432, 565.613934351131, 558.9026222989396, 534.755843247061, 529.0539692491382, 516.6772110470371, 511.94301535806284, 502.790874682976, 490.0153638250275, 458.8550640377212, 451.75834942370295, 415.271443525267, 410.95126355695004, 383.7103967083116, 352.796870152852, 348.88647294855167, 340.443840928842, 337.96634024889653, 332.8427532504918, 2405.210653056109, 2248.2991743727293, 1131.6599281390595, 858.41027272899, 670.2632275771193, 641.3042149454659, 558.8884510804311, 441.5198307353822, 440.71305354529846, 426.7540839929732, 419.9867407784973, 412.16331066089214, 402.01879798261, 393.01862601943037, 390.89490908213577, 379.85558457517067, 378.7594620023715, 377.3218307838196, 348.20256588679916, 340.659860332528, 335.42647503452343, 325.10110779370825, 323.1647110334828, 320.21430865795645, 314.8835738529532, 307.2347518567191, 303.565972218665, 301.1393759428039, 293.0252854022387, 290.28656797720294, 1741.4614959233354, 1422.7505510871113, 1324.8595329208488, 1089.3257322454765, 909.997281316337, 896.6179716068735, 787.7934973023524, 649.7515847273836, 620.8626479791953, 600.0992171571928, 568.6590928891555, 560.0460995862284, 533.1491241511121, 516.840305772691, 514.5255734479963, 496.97284028876516, 488.1827025757753, 483.9465658502252, 478.3054869949687, 473.30644022519203, 458.0203747326886, 436.69746699406886, 429.27380535813535, 421.2937827707434, 416.6737018325221, 383.85596280737803, 382.53081803829025, 362.76395883173325, 346.8494712165126, 345.1508046009744, 870.550768147872, 757.678694946115, 694.0554586635726, 648.7360550548213, 569.5737916394771, 548.2601210571858, 507.3219416084729, 448.60488932871607, 374.3930179574337, 373.9880473134236, 366.4019247159395, 353.2971507692531, 335.47483651036544, 307.42138456011077, 303.23996257506354, 300.41368599402085, 294.7342445756164, 292.471031364227, 291.3865288949981, 286.17602775258547, 280.15916285150445, 273.87997419104533, 270.77416763802756, 268.90652695782717, 266.8201459115429, 264.01703809201683, 258.1161873570597, 252.7697400992772, 247.13953229909566, 236.77175286165155, 1461.7599900136142, 798.3624921346396, 702.3011913953368, 523.4438532387009, 518.5724039403408, 510.91939350240955, 489.266309072962, 444.6039885228761, 433.9469440681969, 426.01269059913085, 387.4415756596406, 366.85879212926056, 364.72488995906593, 312.80842711551657, 285.8488981356132, 283.72203481502675, 282.77227068194156, 276.1832290052776, 271.3159917092936, 263.67776568238685, 263.4782185362636, 258.99384942941305, 258.5659212953978, 244.12997572914375, 240.5071731217327, 239.002018312931, 236.54995448674867, 231.28229428031904, 225.7132921589335, 225.32968898951967], \"Total\": [3393.0, 3270.0, 2406.0, 2249.0, 2468.0, 2374.0, 2113.0, 2078.0, 2019.0, 1742.0, 1462.0, 1642.0, 1653.0, 1644.0, 1645.0, 1633.0, 1594.0, 1423.0, 1504.0, 1555.0, 1325.0, 1393.0, 1489.0, 1360.0, 1334.0, 1398.0, 1432.0, 1315.0, 1390.0, 1256.0, 3270.5102786820758, 2374.180167305074, 1432.6882718417564, 1390.1522087481749, 1190.1099560761127, 1021.7137653019663, 985.9821607215207, 972.0169496568342, 944.3207145456977, 906.8410365251956, 823.4372409190726, 791.424807317261, 761.2568411162684, 698.0393354690727, 638.1664330414847, 635.411190364925, 634.6900203940781, 576.8888357350208, 559.9120155938059, 553.2362742076529, 510.5510562455803, 499.1346225294667, 476.135133815606, 459.07744097332096, 447.27785247611746, 446.3091381624976, 438.74570190917854, 436.0453698371207, 412.42018107291966, 393.9761698871471, 2468.233248044905, 1645.1247563500294, 1633.0539578285404, 1489.0655288102103, 1213.4226442297545, 1128.8588842672893, 1094.5986333116805, 899.1369083739288, 898.1568129094679, 873.9353239111101, 824.7467112859292, 724.5570091621526, 690.5609054438664, 681.3695113638097, 676.7581827326126, 672.8358288861924, 625.4320052881924, 610.0923150972599, 599.0252565750842, 581.7700098683869, 533.8042080870053, 485.55118451419963, 456.44907965145995, 453.1642921873505, 420.0928364202129, 411.36647646567235, 363.22578112128224, 325.8710624169324, 318.5370314823989, 316.9394024807065, 3393.2897702110045, 1644.552831570628, 1594.4621749669157, 1555.5720228102616, 1398.717762953284, 1163.1602075156518, 988.6445163569167, 983.2650165757909, 854.3801048848338, 749.796320385465, 743.7119325386984, 666.3860833543093, 654.2103585640102, 611.635381002401, 603.7726489834686, 601.2223485078399, 558.1686228000672, 553.92737648532, 546.0614356752416, 491.2571968734332, 465.87185335712195, 457.42456995131823, 420.14308916615755, 410.1034123761855, 408.1888175242536, 396.1412939408771, 395.1530294790898, 380.62490879769865, 374.46237084919517, 365.71838292317796, 2078.268724547433, 2019.89595841029, 1315.6920045204693, 1029.7201966724251, 680.9016837175199, 656.9372771632125, 647.853208554057, 619.8512474143796, 591.0726652305638, 548.086608540238, 542.6389965828884, 541.2890015104865, 526.3488256167972, 511.68877005684504, 501.269602601998, 498.7712807972439, 495.80229416788654, 466.8443476950511, 412.15802735756756, 405.13572605687483, 388.3677329179119, 369.696905440416, 346.6994334361765, 340.34813558629816, 326.44657140068443, 319.11351844226425, 311.0456636245437, 308.5522083010276, 307.87919066662226, 281.98163970816813, 2113.643222675611, 1653.9324625584663, 1360.8583301634635, 1334.771650727245, 1085.3626273364935, 950.499901678302, 901.5770881374401, 757.2865706111083, 755.5560065657688, 741.0399500149612, 663.2065363903143, 596.6301973518131, 549.8702704451631, 535.4002684529779, 515.7148679796123, 454.31971620383933, 445.0521025576148, 421.22279714519823, 420.6069752697647, 412.0485140120439, 410.3320139154321, 380.1666437228871, 374.4089284906451, 367.6328764282015, 365.444766679191, 342.31388404041786, 339.7554581756693, 334.4093787483558, 328.8805967407733, 323.1764088547577, 1642.3493592312193, 1504.2221173745922, 1393.8479433115097, 1256.19404720809, 926.042638175716, 924.6121391738353, 888.1127621173292, 785.250343395014, 759.8875995963518, 697.9031929585475, 684.4588093648197, 575.9986890472007, 566.5873291661038, 559.8760244809373, 535.7292086839811, 530.0273931927557, 517.6506649101109, 512.9163772635151, 503.7642373409954, 490.98876585326246, 459.8284337541685, 452.7316861325686, 416.24479525189935, 411.9246490651006, 384.6837826711673, 353.7702254418801, 349.8598686941984, 341.41736810129026, 338.93972992279504, 333.81610270379116, 2406.1817464800065, 2249.270260771584, 1132.6310179449047, 859.3813448707635, 671.2343185705921, 642.2753419634761, 559.8595242709331, 442.49091460606, 441.6841460743244, 427.7252516910584, 420.957809042362, 413.13438647972754, 402.98987895835126, 393.98975798622564, 391.8659826097737, 380.8267339800909, 379.7305918002475, 378.2929007114827, 349.17364521021057, 341.63093971509164, 336.39761438055785, 326.0722468686663, 324.1358136428568, 321.18537491559493, 315.85467715201816, 308.2058854229772, 304.537081552401, 302.1104746363836, 293.9963615754207, 291.2576511950093, 1742.431637417496, 1423.7206499215106, 1325.829639350864, 1090.2958877661351, 910.9673926292945, 897.5880913260688, 788.7636299042432, 650.7217549578279, 621.8327751615778, 601.0693669179554, 569.6292026210255, 561.016269871252, 534.1192866930106, 517.8104313857785, 515.4956971234958, 497.94304174621095, 489.1528890055331, 484.91667235747076, 479.27562894281425, 474.276564936928, 458.9905261987139, 437.66762422213276, 430.2439270491166, 422.2639350437298, 417.6438353491147, 384.8260655302132, 383.5009564112798, 363.7341014827776, 347.81960430227576, 346.1209461835153, 871.5091087401864, 758.6370375867723, 695.0138126522861, 649.6944057899931, 570.5321406457085, 549.2184850730517, 508.28029120520955, 449.5632377883732, 375.3513451986317, 374.9463976968451, 367.3602533650897, 354.25549228809325, 336.4331747598318, 308.3796991386862, 304.1983237477214, 301.37206949844494, 295.6925783006699, 293.429374208828, 292.344907872677, 287.1343874857297, 281.11749782473015, 274.83835978326687, 271.73250351384735, 269.8649062995405, 267.7784765773273, 264.9754007192661, 259.07450556371396, 253.728048894258, 248.09787490828847, 237.73018284583642, 1462.7234054200464, 799.3259383465926, 703.264640058662, 524.4072893722654, 519.5358587820267, 511.8828314165423, 490.22974492956905, 445.56738969815467, 434.9103307303181, 426.97610936515986, 388.40500047896296, 367.82219382815316, 365.6883339039898, 313.7718734098193, 286.81231066126423, 284.6854389376769, 283.7357526118676, 277.14663194058704, 272.27944483644404, 264.64120888757833, 264.44166158714626, 259.9572584766701, 259.52933645284514, 245.09338449646157, 241.47067118267108, 239.96550488094954, 237.5134324631279, 232.24574819442697, 226.67669674917988, 226.2931220612248], \"Category\": [\"Default\", \"Default\", \"Default\", \"Default\", \"Default\", \"Default\", \"Default\", \"Default\", \"Default\", \"Default\", \"Default\", \"Default\", \"Default\", \"Default\", \"Default\", \"Default\", \"Default\", \"Default\", \"Default\", \"Default\", \"Default\", \"Default\", \"Default\", \"Default\", \"Default\", \"Default\", \"Default\", \"Default\", \"Default\", \"Default\", \"Topic1\", \"Topic1\", \"Topic1\", \"Topic1\", \"Topic1\", \"Topic1\", \"Topic1\", \"Topic1\", \"Topic1\", \"Topic1\", \"Topic1\", \"Topic1\", \"Topic1\", \"Topic1\", \"Topic1\", \"Topic1\", \"Topic1\", \"Topic1\", \"Topic1\", \"Topic1\", \"Topic1\", \"Topic1\", \"Topic1\", \"Topic1\", \"Topic1\", \"Topic1\", \"Topic1\", \"Topic1\", \"Topic1\", \"Topic1\", \"Topic2\", \"Topic2\", \"Topic2\", \"Topic2\", \"Topic2\", \"Topic2\", \"Topic2\", \"Topic2\", \"Topic2\", \"Topic2\", \"Topic2\", \"Topic2\", \"Topic2\", \"Topic2\", \"Topic2\", \"Topic2\", \"Topic2\", \"Topic2\", \"Topic2\", \"Topic2\", \"Topic2\", \"Topic2\", \"Topic2\", \"Topic2\", \"Topic2\", \"Topic2\", \"Topic2\", \"Topic2\", \"Topic2\", \"Topic2\", \"Topic3\", \"Topic3\", \"Topic3\", \"Topic3\", \"Topic3\", \"Topic3\", \"Topic3\", \"Topic3\", \"Topic3\", \"Topic3\", \"Topic3\", \"Topic3\", \"Topic3\", \"Topic3\", \"Topic3\", \"Topic3\", \"Topic3\", \"Topic3\", \"Topic3\", \"Topic3\", \"Topic3\", \"Topic3\", \"Topic3\", \"Topic3\", \"Topic3\", \"Topic3\", \"Topic3\", \"Topic3\", \"Topic3\", \"Topic3\", \"Topic4\", \"Topic4\", \"Topic4\", \"Topic4\", \"Topic4\", \"Topic4\", \"Topic4\", \"Topic4\", \"Topic4\", \"Topic4\", \"Topic4\", \"Topic4\", \"Topic4\", \"Topic4\", \"Topic4\", \"Topic4\", \"Topic4\", \"Topic4\", \"Topic4\", \"Topic4\", \"Topic4\", \"Topic4\", \"Topic4\", \"Topic4\", \"Topic4\", \"Topic4\", \"Topic4\", \"Topic4\", \"Topic4\", \"Topic4\", \"Topic5\", \"Topic5\", \"Topic5\", \"Topic5\", \"Topic5\", \"Topic5\", \"Topic5\", \"Topic5\", \"Topic5\", \"Topic5\", \"Topic5\", \"Topic5\", \"Topic5\", \"Topic5\", \"Topic5\", \"Topic5\", \"Topic5\", \"Topic5\", \"Topic5\", \"Topic5\", \"Topic5\", \"Topic5\", \"Topic5\", \"Topic5\", \"Topic5\", \"Topic5\", \"Topic5\", \"Topic5\", \"Topic5\", \"Topic5\", \"Topic6\", \"Topic6\", \"Topic6\", \"Topic6\", \"Topic6\", \"Topic6\", \"Topic6\", \"Topic6\", \"Topic6\", \"Topic6\", \"Topic6\", \"Topic6\", \"Topic6\", \"Topic6\", \"Topic6\", \"Topic6\", \"Topic6\", \"Topic6\", \"Topic6\", \"Topic6\", \"Topic6\", \"Topic6\", \"Topic6\", \"Topic6\", \"Topic6\", \"Topic6\", \"Topic6\", \"Topic6\", \"Topic6\", \"Topic6\", \"Topic7\", \"Topic7\", \"Topic7\", \"Topic7\", \"Topic7\", \"Topic7\", \"Topic7\", \"Topic7\", \"Topic7\", \"Topic7\", \"Topic7\", \"Topic7\", \"Topic7\", \"Topic7\", \"Topic7\", \"Topic7\", \"Topic7\", \"Topic7\", \"Topic7\", \"Topic7\", \"Topic7\", \"Topic7\", \"Topic7\", \"Topic7\", \"Topic7\", \"Topic7\", \"Topic7\", \"Topic7\", \"Topic7\", \"Topic7\", \"Topic8\", \"Topic8\", \"Topic8\", \"Topic8\", \"Topic8\", \"Topic8\", \"Topic8\", \"Topic8\", \"Topic8\", \"Topic8\", \"Topic8\", \"Topic8\", \"Topic8\", \"Topic8\", \"Topic8\", \"Topic8\", \"Topic8\", \"Topic8\", \"Topic8\", \"Topic8\", \"Topic8\", \"Topic8\", \"Topic8\", \"Topic8\", \"Topic8\", \"Topic8\", \"Topic8\", \"Topic8\", \"Topic8\", \"Topic8\", \"Topic9\", \"Topic9\", \"Topic9\", \"Topic9\", \"Topic9\", \"Topic9\", \"Topic9\", \"Topic9\", \"Topic9\", \"Topic9\", \"Topic9\", \"Topic9\", \"Topic9\", \"Topic9\", \"Topic9\", \"Topic9\", \"Topic9\", \"Topic9\", \"Topic9\", \"Topic9\", \"Topic9\", \"Topic9\", \"Topic9\", \"Topic9\", \"Topic9\", \"Topic9\", \"Topic9\", \"Topic9\", \"Topic9\", \"Topic9\", \"Topic10\", \"Topic10\", \"Topic10\", \"Topic10\", \"Topic10\", \"Topic10\", \"Topic10\", \"Topic10\", \"Topic10\", \"Topic10\", \"Topic10\", \"Topic10\", \"Topic10\", \"Topic10\", \"Topic10\", \"Topic10\", \"Topic10\", \"Topic10\", \"Topic10\", \"Topic10\", \"Topic10\", \"Topic10\", \"Topic10\", \"Topic10\", \"Topic10\", \"Topic10\", \"Topic10\", \"Topic10\", \"Topic10\", \"Topic10\"], \"logprob\": [30.0, 29.0, 28.0, 27.0, 26.0, 25.0, 24.0, 23.0, 22.0, 21.0, 20.0, 19.0, 18.0, 17.0, 16.0, 15.0, 14.0, 13.0, 12.0, 11.0, 10.0, 9.0, 8.0, 7.0, 6.0, 5.0, 4.0, 3.0, 2.0, 1.0, -2.7808, -3.1012, -3.6066, -3.6367, -3.7922, -3.9449, -3.9805, -3.9948, -4.0238, -4.0643, -4.1609, -4.2006, -4.2395, -4.3263, -4.4161, -4.4205, -4.4216, -4.5172, -4.5472, -4.5592, -4.6396, -4.6623, -4.7095, -4.7461, -4.7722, -4.7744, -4.7915, -4.7977, -4.8535, -4.8994, -3.0352, -3.4411, -3.4484, -3.5408, -3.7457, -3.818, -3.8488, -4.0457, -4.0468, -4.0742, -4.1322, -4.2618, -4.31, -4.3234, -4.3302, -4.336, -4.4092, -4.434, -4.4524, -4.4817, -4.5679, -4.6628, -4.7247, -4.732, -4.8079, -4.8289, -4.9537, -5.0625, -5.0854, -5.0904, -2.6781, -3.4027, -3.4337, -3.4584, -3.5648, -3.7493, -3.912, -3.9175, -4.0581, -4.1889, -4.197, -4.307, -4.3254, -4.3928, -4.4058, -4.41, -4.4845, -4.4921, -4.5064, -4.6124, -4.6656, -4.6839, -4.7691, -4.7934, -4.798, -4.8281, -4.8306, -4.8681, -4.8845, -4.9082, -3.0809, -3.1094, -3.5383, -3.7836, -4.1977, -4.2336, -4.2476, -4.2918, -4.3394, -4.4151, -4.4251, -4.4276, -4.4556, -4.4839, -4.5045, -4.5095, -4.5155, -4.5758, -4.7007, -4.7179, -4.7603, -4.8097, -4.8741, -4.8926, -4.9344, -4.9572, -4.9829, -4.991, -4.9932, -5.0813, -3.0478, -3.2932, -3.4884, -3.5077, -3.7148, -3.8476, -3.9005, -4.0751, -4.0774, -4.0968, -4.2079, -4.3139, -4.3956, -4.4223, -4.4599, -4.5869, -4.6075, -4.6627, -4.6642, -4.6848, -4.6889, -4.7655, -4.7808, -4.7991, -4.8051, -4.8707, -4.8782, -4.8941, -4.9108, -4.9284, -3.2819, -3.3698, -3.446, -3.5501, -3.8553, -3.8568, -3.8972, -4.0204, -4.0533, -4.1385, -4.158, -4.3308, -4.3473, -4.3592, -4.4034, -4.4141, -4.4378, -4.447, -4.465, -4.4907, -4.5564, -4.572, -4.6562, -4.6667, -4.7353, -4.8193, -4.8304, -4.8549, -4.8622, -4.8775, -2.7916, -2.8591, -3.5456, -3.8219, -4.0693, -4.1135, -4.2511, -4.4868, -4.4886, -4.5208, -4.5368, -4.5556, -4.5805, -4.6032, -4.6086, -4.6372, -4.6401, -4.6439, -4.7242, -4.7461, -4.7616, -4.7929, -4.7988, -4.808, -4.8248, -4.8494, -4.8614, -4.8694, -4.8967, -4.9061, -3.0948, -3.2969, -3.3682, -3.564, -3.7438, -3.7587, -3.8881, -4.0807, -4.1262, -4.1602, -4.214, -4.2293, -4.2785, -4.3096, -4.314, -4.3488, -4.3666, -4.3753, -4.387, -4.3975, -4.4304, -4.4781, -4.4952, -4.514, -4.525, -4.607, -4.6105, -4.6635, -4.7084, -4.7133, -3.5559, -3.6948, -3.7825, -3.85, -3.9802, -4.0183, -4.0959, -4.2189, -4.3997, -4.4008, -4.4213, -4.4577, -4.5095, -4.5968, -4.6105, -4.6199, -4.639, -4.6467, -4.6504, -4.6684, -4.6897, -4.7124, -4.7238, -4.7307, -4.7385, -4.749, -4.7716, -4.7926, -4.8151, -4.858, -3.0333, -3.6381, -3.7663, -4.0602, -4.0696, -4.0844, -4.1277, -4.2235, -4.2477, -4.2662, -4.3611, -4.4157, -4.4215, -4.5751, -4.6652, -4.6727, -4.676, -4.6996, -4.7174, -4.7459, -4.7467, -4.7638, -4.7655, -4.823, -4.8379, -4.8442, -4.8545, -4.877, -4.9014, -4.9031], \"loglift\": [30.0, 29.0, 28.0, 27.0, 26.0, 25.0, 24.0, 23.0, 22.0, 21.0, 20.0, 19.0, 18.0, 17.0, 16.0, 15.0, 14.0, 13.0, 12.0, 11.0, 10.0, 9.0, 8.0, 7.0, 6.0, 5.0, 4.0, 3.0, 2.0, 1.0, 2.0874, 2.0873, 2.087, 2.087, 2.0868, 2.0867, 2.0867, 2.0867, 2.0866, 2.0866, 2.0865, 2.0864, 2.0864, 2.0863, 2.0861, 2.0861, 2.0861, 2.086, 2.0859, 2.0859, 2.0858, 2.0857, 2.0856, 2.0855, 2.0855, 2.0855, 2.0854, 2.0854, 2.0853, 2.0852, 2.1144, 2.1142, 2.1142, 2.1142, 2.114, 2.1139, 2.1139, 2.1137, 2.1137, 2.1137, 2.1136, 2.1135, 2.1134, 2.1134, 2.1134, 2.1134, 2.1132, 2.1132, 2.1132, 2.1131, 2.113, 2.1128, 2.1127, 2.1127, 2.1125, 2.1124, 2.1121, 2.1118, 2.1117, 2.1117, 2.1532, 2.1529, 2.1529, 2.1529, 2.1528, 2.1526, 2.1525, 2.1525, 2.1523, 2.1522, 2.1522, 2.152, 2.152, 2.1519, 2.1519, 2.1519, 2.1517, 2.1517, 2.1517, 2.1515, 2.1514, 2.1513, 2.1512, 2.1511, 2.1511, 2.151, 2.151, 2.1509, 2.1509, 2.1508, 2.2407, 2.2407, 2.2404, 2.2402, 2.2397, 2.2397, 2.2396, 2.2396, 2.2395, 2.2394, 2.2393, 2.2393, 2.2393, 2.2392, 2.2392, 2.2392, 2.2392, 2.239, 2.2388, 2.2387, 2.2386, 2.2385, 2.2383, 2.2383, 2.2381, 2.2381, 2.238, 2.238, 2.238, 2.2377, 2.2569, 2.2567, 2.2566, 2.2566, 2.2564, 2.2563, 2.2562, 2.256, 2.256, 2.256, 2.2559, 2.2557, 2.2556, 2.2555, 2.2554, 2.2552, 2.2551, 2.255, 2.255, 2.255, 2.255, 2.2548, 2.2547, 2.2547, 2.2547, 2.2545, 2.2545, 2.2544, 2.2544, 2.2543, 2.2751, 2.275, 2.275, 2.2749, 2.2746, 2.2746, 2.2746, 2.2745, 2.2744, 2.2743, 2.2743, 2.274, 2.274, 2.274, 2.2739, 2.2739, 2.2738, 2.2738, 2.2738, 2.2737, 2.2736, 2.2735, 2.2734, 2.2733, 2.2732, 2.2729, 2.2729, 2.2728, 2.2728, 2.2728, 2.3835, 2.3834, 2.383, 2.3827, 2.3824, 2.3823, 2.3821, 2.3817, 2.3817, 2.3816, 2.3815, 2.3815, 2.3814, 2.3814, 2.3814, 2.3813, 2.3813, 2.3813, 2.3811, 2.381, 2.381, 2.3809, 2.3809, 2.3808, 2.3808, 2.3807, 2.3807, 2.3806, 2.3805, 2.3805, 2.403, 2.4029, 2.4028, 2.4027, 2.4025, 2.4025, 2.4023, 2.4021, 2.402, 2.402, 2.4019, 2.4018, 2.4018, 2.4017, 2.4017, 2.4016, 2.4016, 2.4016, 2.4015, 2.4015, 2.4015, 2.4014, 2.4013, 2.4013, 2.4012, 2.401, 2.401, 2.4009, 2.4008, 2.4008, 2.6347, 2.6345, 2.6344, 2.6343, 2.6341, 2.6341, 2.6339, 2.6337, 2.6333, 2.6333, 2.6332, 2.6331, 2.633, 2.6327, 2.6327, 2.6326, 2.6326, 2.6325, 2.6325, 2.6325, 2.6324, 2.6323, 2.6323, 2.6323, 2.6322, 2.6322, 2.6321, 2.632, 2.6319, 2.6318, 2.6396, 2.639, 2.6388, 2.6384, 2.6384, 2.6383, 2.6382, 2.638, 2.638, 2.638, 2.6377, 2.6376, 2.6376, 2.6371, 2.6368, 2.6368, 2.6368, 2.6367, 2.6367, 2.6366, 2.6366, 2.6365, 2.6365, 2.6363, 2.6362, 2.6362, 2.6361, 2.6361, 2.636, 2.6359]}, \"token.table\": {\"Topic\": [4, 7, 9, 3, 10, 5, 8, 8, 10, 4, 5, 1, 6, 6, 5, 2, 1, 3, 2, 3, 4, 1, 6, 9, 4, 5, 4, 10, 3, 9, 5, 9, 3, 3, 10, 6, 5, 5, 1, 7, 6, 3, 2, 4, 5, 6, 2, 5, 1, 4, 2, 6, 7, 2, 1, 8, 2, 8, 1, 6, 3, 3, 8, 10, 8, 8, 3, 8, 10, 9, 6, 7, 4, 10, 1, 3, 3, 9, 7, 3, 1, 9, 3, 9, 6, 4, 2, 3, 4, 10, 5, 8, 2, 7, 4, 5, 4, 7, 3, 10, 6, 4, 3, 6, 4, 1, 9, 8, 7, 9, 3, 3, 7, 9, 1, 5, 4, 4, 6, 9, 6, 2, 9, 7, 8, 7, 4, 5, 7, 8, 7, 6, 7, 1, 10, 3, 7, 5, 7, 2, 10, 2, 4, 2, 10, 7, 7, 6, 7, 8, 9, 9, 5, 5, 7, 10, 7, 7, 2, 1, 10, 3, 4, 8, 2, 10, 9, 6, 7, 6, 8, 6, 10, 6, 6, 8, 6, 10, 4, 8, 2, 5, 3, 2, 1, 5, 2, 1, 3, 10, 5, 4, 10, 3, 4, 4, 9, 1, 3, 10, 9, 3, 7, 6, 6, 1, 1, 8, 10, 2, 3, 5, 5, 5, 8, 1, 8, 2, 5, 8, 2, 5, 9, 9, 2, 1, 1, 10, 2, 4, 5, 6, 9, 1, 2, 8, 9, 4, 10, 2, 6, 9, 4, 6, 3, 5, 9, 10, 1, 5, 9, 7, 8, 10, 10, 8, 8, 10, 6, 4, 10, 4, 9, 2, 5, 4, 4, 8, 8, 10, 7, 7, 7, 8, 8, 8, 1, 6, 9, 1, 2, 7, 9, 3, 1, 5, 10, 6, 9, 2, 7, 9, 1, 3, 1, 2, 1, 2, 5, 1], \"Freq\": [0.9981149275794294, 0.9963242762842959, 0.995740090849082, 0.9970820684821529, 0.9942856325042219, 0.9983010782693926, 0.9981061252650427, 0.9990384068649616, 0.9975770633369094, 0.999474037602956, 0.9970951817480728, 0.998371144807745, 0.9990494723241653, 0.9984829464174962, 0.9957854688357399, 0.9993163093888849, 0.9976159419144112, 0.9981285554153159, 0.996625291526669, 0.9979199995484114, 0.9986539277444597, 0.9983003778591251, 0.998874092689976, 0.9960248016100838, 0.9971966775975827, 0.9974553627148545, 0.9993895281527131, 0.9977139016826698, 0.9971189725526381, 0.996455969447406, 0.996236926036126, 0.9955748314704658, 0.9987134530828765, 0.9980561973325784, 0.9963176312818516, 0.9975552326649882, 0.9970970299957989, 0.9992641093963424, 0.9975222615940789, 0.9975436629800483, 0.9991875419457831, 0.998149893916894, 0.9982095904665088, 0.9966382311447174, 0.997636001376988, 0.9978228087428272, 0.9994531024491878, 0.9960465525547961, 0.9983489920242615, 0.9979825942337306, 0.9989297561438251, 0.9987430424527246, 0.9994352564946337, 0.9979900606925184, 0.9970667457809905, 0.9993742489032978, 0.9992312417724084, 0.9991783680996416, 0.998601413137132, 0.9975422482795534, 0.9996638407961026, 0.9990829666643262, 0.9982208926676155, 0.9983411793825492, 0.9973384230998183, 0.9990318647116933, 0.9994868421833949, 0.9984348878727498, 0.9974069090514861, 0.9958525229590771, 0.9987470486127501, 0.9956819977437528, 0.9993005899323404, 0.9955389065326757, 0.9995029158606722, 0.9960947455257552, 0.9987202981374372, 0.9974759120166017, 0.9958453499049587, 0.9979063265967822, 0.9984592599475627, 0.9960607154800918, 0.9996199056672592, 0.9976577758405365, 0.9979861741815128, 0.9974672260288522, 0.9977103741476541, 0.9996322749433175, 0.9981852227422066, 0.9973164191253902, 0.9984173167891791, 0.9970067653454731, 0.9987577521138016, 0.9967116279322656, 0.998675750495142, 0.9973224424015887, 0.9964782529495029, 0.9972541949620957, 0.9973094289321023, 0.9977646976121911, 0.9958485764530006, 0.9982103245863376, 0.9989611768348657, 0.9982133983157175, 0.99556873458809, 0.9976026122292936, 0.9990672906786526, 0.9988114347851111, 0.9984647501137854, 0.9991602867310583, 0.9968856724257951, 0.997087579391655, 0.9980143376521706, 0.9969496260131665, 0.9989537737410925, 0.9996956805818927, 0.9983818264309707, 0.9988224278260275, 0.9993916529305951, 0.9969285227601498, 0.9978686674130567, 0.9982884585185171, 0.9962972222698848, 0.9988905656820162, 0.9986607731293008, 0.9966109731083693, 0.9971443647597013, 0.99738463251611, 0.9983043982365056, 0.9976435937131264, 0.9977901051680822, 0.9984077136603237, 0.9982364001465333, 0.9985110646116034, 0.9995054393623799, 0.9990025385083197, 0.9965822760378241, 0.9986138309674628, 0.9972940810637203, 0.9973269721758298, 0.9975400172060318, 0.9988275773189831, 0.9986830217975438, 0.997398583538045, 0.9958627246069768, 0.9964958711902527, 0.9994428742150735, 0.9980616224633846, 0.9995088706488048, 0.9978419463100529, 0.9987471444703885, 0.9985413057498567, 0.9993599125964566, 0.9994740644607966, 0.9983926287450756, 0.9971677970886557, 0.9978291072912593, 0.998076025961501, 0.9990946174434998, 0.9971430454938841, 0.9945482811653293, 0.9989379510624223, 0.998017451031814, 0.9979044256200882, 0.9993546093051684, 0.9979603983885601, 0.9963997859181334, 0.9993379503167866, 0.9977246911168107, 0.9970094635029706, 0.9976430906748257, 0.9981983851076696, 0.9982753252065533, 0.9982661609024619, 0.9972274424039663, 0.9981885197884096, 0.9991783969569965, 0.998726590609472, 0.9984536383169235, 0.9984584105052658, 0.998879684425017, 0.9961617564998833, 0.9974408581056227, 0.9987355558832693, 0.9989128229972015, 0.9987445418681521, 0.999239157099918, 0.9990725645495507, 0.998035693701159, 0.9979068542042001, 0.9967538143009562, 0.9985732623253474, 0.9989685817196854, 0.997279286044128, 0.9974373921795749, 0.9965105883081988, 0.9989311809001207, 0.9993014038508571, 0.9983258157572853, 0.9978383013634077, 0.9977814201339388, 0.9983582030937687, 0.9963093745600763, 0.9983838415666927, 0.9988319330426982, 0.9977268206246308, 0.9982545835339335, 0.9973083954989473, 0.9946360774993216, 0.9987120145470805, 0.9990427307838557, 0.998180753167963, 0.9985966343448283, 0.9977764649323789, 0.9988908393605579, 0.9977790911045893, 0.9984745862266615, 0.9970360186415644, 0.9969312307059283, 0.9971087865024656, 0.9974307503759163, 0.9994362148518302, 0.996318900861671, 0.9951287282921759, 0.9995003519031753, 0.9995195941397136, 0.9965564704684794, 0.9981177034097825, 0.9988648271659535, 0.9965187814739142, 0.9993692729474931, 0.9982224811599302, 0.9970928336463872, 0.9981722118540057, 0.9991877538397487, 0.9981096291183096, 0.995447257269964, 0.9986266908102057, 0.9980508142857853, 0.9983140689172003, 0.9989633916329046, 0.9953995850912417, 0.9995564333863042, 0.9977552956172951, 0.9979668944262075, 0.9985569063152712, 0.9960492802841803, 0.9975922936549384, 0.9991711636028602, 0.9989437387604412, 0.9967950397426611, 0.9974878585898158, 0.9989380600918082, 0.9974914926271033, 0.9982017579348841, 0.9979817633821383, 0.9986937283912728, 0.9963826406013558, 0.9987058477914126, 0.9960389511640021, 0.9970147052657616, 0.9976186445560699, 0.9994158308443587, 0.9986764359535119, 0.9982785097068839, 0.9981913721367306, 0.9971903316672202, 0.9967614032150457, 0.9988954171974851, 0.9959764846975463, 0.9984510513216173, 0.9981531540567788, 0.9981611211816157, 0.9993448093487961, 0.9978534054623481, 0.9994938263194045, 0.9976530300181238, 0.9986388483730942, 0.9974811315186474, 0.9981996933832656, 0.9968253202469671, 0.9966387921130072, 0.9971305935728004, 0.9983846710884965, 0.9998439758207146, 0.9994218855885765, 0.9953009863186235, 0.9984353241742233, 0.9955259728751934, 0.9992844312156889, 0.9960874029990626, 0.9973043213293399, 0.9990038757691093, 0.999348080785102, 0.9977653775334536, 0.998493439963901, 0.9990673499785077, 0.9966782016915606, 0.9963598554147979, 0.9989206637831042], \"Term\": [\"ddd\", \"\\u0430\\u0430\\u0430\", \"\\u0430\\u0433\\u0430\", \"\\u0430\\u043d\\u0433\\u043b\\u0438\\u0439\\u0441\\u043a\\u0438\\u0439\", \"\\u0430\\u043d\\u0434\\u0440\\u0435\\u0439\", \"\\u0430\\u0445\\u0430\\u0445\", \"\\u0430\\u0445\\u0430\\u0445\\u0438\", \"\\u0430\\u0445\\u0438\", \"\\u0431\\u043b\\u0438\\u0438\\u043d\\u0430\", \"\\u0431\\u043b\\u0438\\u043d\", \"\\u0431\\u043b\\u044f\", \"\\u0431\\u043e\\u0433\", \"\\u0431\\u043e\\u043b\\u0435\\u0442\\u044c\", \"\\u0431\\u043e\\u043b\\u044c\", \"\\u0431\\u043e\\u043b\\u044c\\u043d\\u043e\", \"\\u0431\\u043e\\u043b\\u044c\\u0448\\u043e\\u0439\", \"\\u0431\\u043e\\u044f\\u0442\\u044c\\u0441\\u044f\", \"\\u0431\\u044b\\u0432\\u0430\\u0442\\u044c\", \"\\u0431\\u044b\\u0441\\u0442\\u0440\\u043e\", \"\\u0432\\u0435\\u0447\\u0435\\u0440\", \"\\u0432\\u0437\\u044f\\u0442\\u044c\", \"\\u0432\\u0438\\u0434\\u0435\\u043e\", \"\\u0432\\u0438\\u0434\\u0435\\u0442\\u044c\", \"\\u0432\\u043a\\u0443\\u0441\\u043d\\u044b\\u0439\", \"\\u0432\\u043c\\u0435\\u0441\\u0442\\u0435\", \"\\u0432\\u043c\\u0435\\u0441\\u0442\\u043e\", \"\\u0432\\u043e\\u043e\\u0431\\u0449\\u0435\", \"\\u0432\\u043e\\u043f\\u0440\\u043e\\u0441\", \"\\u0432\\u0440\\u043e\\u0434\\u0435\", \"\\u0432\\u0441\\u043f\\u043e\\u043c\\u043d\\u0438\\u0442\\u044c\", \"\\u0432\\u0441\\u0442\\u0430\\u0442\\u044c\", \"\\u0432\\u0441\\u0442\\u0440\\u0435\\u0442\\u0438\\u0442\\u044c\", \"\\u0432\\u0447\\u0435\\u0440\\u0430\", \"\\u0432\\u044b\\u0439\\u0442\\u0438\", \"\\u0432\\u044b\\u043f\\u0438\\u0442\\u044c\", \"\\u0432\\u044b\\u0441\\u043f\\u0430\\u0442\\u044c\\u0441\\u044f\", \"\\u0432\\u044b\\u0445\\u043e\\u0434\\u0438\\u0442\\u044c\", \"\\u0432\\u044b\\u0445\\u043e\\u0434\\u043d\\u043e\\u0439\", \"\\u0433\\u043b\\u0430\\u0432\\u043d\\u043e\\u0435\", \"\\u0433\\u043b\\u0430\\u0437\", \"\\u0433\\u043e\\u0432\\u043e\\u0440\\u0438\\u0442\\u044c\", \"\\u0433\\u043e\\u043b\\u043e\\u0432\\u0430\", \"\\u0433\\u043e\\u0440\\u043e\\u0434\", \"\\u0433\\u0440\\u0443\\u043f\\u043f\\u0430\", \"\\u0433\\u0440\\u0443\\u0441\\u0442\\u043d\\u043e\", \"\\u0433\\u0443\\u043b\\u044f\\u0442\\u044c\", \"\\u0434\\u0430\\u0432\\u0430\\u0442\\u044c\", \"\\u0434\\u0430\\u043b\\u0451\\u043a\\u0438\\u0439\", \"\\u0434\\u0430\\u0442\\u044c\", \"\\u0434\\u0435\\u0432\\u043e\\u0447\\u043a\\u0430\", \"\\u0434\\u0435\\u0432\\u0443\\u0448\\u043a\\u0430\", \"\\u0434\\u0435\\u043a\\u0430\\u0431\\u0440\\u044c\", \"\\u0434\\u0435\\u043b\\u0430\\u0442\\u044c\", \"\\u0434\\u0435\\u043b\\u043e\", \"\\u0434\\u0435\\u043d\\u044c\\u0433\\u0430\", \"\\u0434\\u043e\\u0431\\u0440\\u044b\\u0439\", \"\\u0434\\u043e\\u043b\\u0436\\u043d\\u044b\\u0439\", \"\\u0434\\u043e\\u043c\", \"\\u0434\\u043e\\u043c\\u043e\\u0439\", \"\\u0434\\u043e\\u0440\\u043e\\u0433\\u0430\", \"\\u0434\\u0440\\u0443\\u0433\", \"\\u0434\\u0443\\u043c\\u0430\\u0442\\u044c\", \"\\u0435\\u0434\\u0430\", \"\\u0435\\u0445\\u0430\\u0442\\u044c\", \"\\u0436\\u0430\\u043b\\u043a\\u043e\", \"\\u0436\\u0430\\u043b\\u044c\", \"\\u0436\\u0434\\u0430\\u0442\\u044c\", \"\\u0436\\u0435\\u043b\\u0430\\u043d\\u0438\\u0435\", \"\\u0436\\u0435\\u043b\\u0430\\u0442\\u044c\", \"\\u0436\\u0435\\u043d\\u0449\\u0438\\u043d\\u0430\", \"\\u0436\\u0438\\u0442\\u044c\", \"\\u0436\\u043e\\u043f\\u0430\", \"\\u0437\\u0430\\u0431\\u044b\\u0442\\u044c\", \"\\u0437\\u0430\\u0432\\u0438\\u0434\\u043e\\u0432\\u0430\\u0442\\u044c\", \"\\u0437\\u0430\\u0432\\u0442\\u0440\\u0430\", \"\\u0437\\u0430\\u0439\\u0442\\u0438\", \"\\u0437\\u0430\\u043a\\u043e\\u043d\\u0447\\u0438\\u0442\\u044c\\u0441\\u044f\", \"\\u0437\\u0430\\u043c\\u0435\\u0442\\u0438\\u0442\\u044c\", \"\\u0437\\u0430\\u043d\\u0438\\u043c\\u0430\\u0442\\u044c\\u0441\\u044f\", \"\\u0437\\u0430\\u0445\\u043e\\u0434\\u0438\\u0442\\u044c\", \"\\u0437\\u0438\\u043c\\u0430\", \"\\u0437\\u043d\\u0430\\u043a\\u043e\\u043c\\u044b\\u0439\", \"\\u0437\\u043d\\u0430\\u0442\\u044c\", \"\\u0437\\u0440\\u044f\", \"\\u0438\\u0431\\u043e\", \"\\u0438\\u0433\\u0440\\u0430\", \"\\u0438\\u0433\\u0440\\u0430\\u0442\\u044c\", \"\\u0438\\u0434\\u0442\\u0438\", \"\\u0438\\u0437\\u0437\", \"\\u0438\\u043d\\u0442\\u0435\\u0440\\u0435\\u0441\\u043d\\u043e\", \"\\u0438\\u043d\\u0442\\u0435\\u0440\\u043d\\u0435\\u0442\", \"\\u0438\\u0441\\u0442\\u043e\\u0440\\u0438\\u044f\", \"\\u043a\\u0430\\u0437\\u0430\\u0442\\u044c\\u0441\\u044f\", \"\\u043a\\u0430\\u043a\\u043e\\u0439\\u0442\\u044b\\u0439\", \"\\u043a\\u0430\\u043a\\u0442\\u043e\", \"\\u043a\\u0430\\u043f\\u0435\\u0446\", \"\\u043a\\u0432\\u0430\\u0440\\u0442\\u0438\\u0440\\u0430\", \"\\u043a\\u043b\\u0430\\u0441\\u0441\", \"\\u043a\\u043b\\u0430\\u0441\\u0441\\u043d\\u044b\\u0439\", \"\\u043a\\u043d\\u0438\\u0433\\u0430\", \"\\u043a\\u043e\\u043c\\u0430\\u043d\\u0434\\u0430\", \"\\u043a\\u043e\\u043c\\u043f\", \"\\u043a\\u043e\\u043d\\u0435\\u0446\", \"\\u043a\\u0440\\u0443\\u0442\\u043e\", \"\\u043a\\u0440\\u0443\\u0442\\u043e\\u0439\", \"\\u043a\\u0441\\u0442\\u0430\\u0442\\u0438\", \"\\u043a\\u0442\\u043e\\u0442\\u044c\", \"\\u043a\\u0443\\u043f\\u0438\\u0442\\u044c\", \"\\u043b\\u0430\\u0434\\u043d\\u044b\\u0439\", \"\\u043b\\u0435\\u043d\\u0442\\u0430\", \"\\u043b\\u0435\\u0442\\u043e\", \"\\u043b\\u0438\\u0431\\u043e\", \"\\u043b\\u0438\\u0446\\u043e\", \"\\u043b\\u043e\\u0445\", \"\\u043b\\u044e\\u0431\\u0438\\u043c\\u044b\\u0439\", \"\\u043b\\u044e\\u0431\\u0438\\u0442\\u044c\", \"\\u043b\\u044e\\u0431\\u043e\\u0432\\u044c\", \"\\u043c\\u0430\\u043b\\u0435\\u043d\\u044c\\u043a\\u0438\\u0439\", \"\\u043c\\u0430\\u043c\\u0430\", \"\\u043c\\u0430\\u0440\\u0442\", \"\\u043c\\u0435\\u0441\\u0442\\u043e\", \"\\u043c\\u0435\\u0441\\u044f\\u0446\", \"\\u043c\\u0438\\u043b\\u044b\\u0439\", \"\\u043c\\u0438\\u043d\\u0443\\u0442\\u0430\", \"\\u043c\\u0438\\u0440\", \"\\u043c\\u043e\\u0437\\u0433\", \"\\u043c\\u043e\\u043b\\u043e\\u0434\\u0435\\u0446\", \"\\u043c\\u043e\\u043c\\u0435\\u043d\\u0442\", \"\\u043c\\u043e\\u0441\\u043a\\u0432\\u0430\", \"\\u043d\\u0430\\u0432\\u0435\\u0440\\u043d\\u043e\", \"\\u043d\\u0430\\u0432\\u0435\\u0440\\u043d\\u043e\\u0435\", \"\\u043d\\u0430\\u0434\\u0435\\u044f\\u0442\\u044c\\u0441\\u044f\", \"\\u043d\\u0430\\u0434\\u043e\\u0435\\u0441\\u0442\\u044c\", \"\\u043d\\u0430\\u0439\\u0442\\u0438\", \"\\u043d\\u0430\\u043f\\u0438\\u0441\\u0430\\u0442\\u044c\", \"\\u043d\\u0430\\u0441\\u0442\\u0440\\u043e\\u0435\\u043d\\u0438\\u0435\", \"\\u043d\\u0430\\u0447\\u0430\\u043b\\u043e\", \"\\u043d\\u0430\\u0447\\u0430\\u0442\\u044c\", \"\\u043d\\u0430\\u0447\\u0430\\u0442\\u044c\\u0441\\u044f\", \"\\u043d\\u0430\\u0447\\u0438\\u043d\\u0430\\u0442\\u044c\", \"\\u043d\\u0430\\u0447\\u0438\\u043d\\u0430\\u0442\\u044c\\u0441\\u044f\", \"\\u043d\\u0435\\u0434\\u0435\\u043b\\u044f\", \"\\u043d\\u0435\\u043d\\u0430\\u0432\\u0438\\u0434\\u0435\\u0442\\u044c\", \"\\u043d\\u0435\\u0442\\u0443\", \"\\u043d\\u0438\\u0431\\u044b\\u0442\\u044c\", \"\\u043d\\u0438\\u043a\\u0430\\u043a\", \"\\u043d\\u0438\\u043a\\u0442\\u043e\", \"\\u043d\\u043e\\u0432\\u043e\\u0433\\u043e\\u0434\\u043d\\u0438\\u0439\", \"\\u043d\\u043e\\u0432\\u044b\\u0439\", \"\\u043d\\u043e\\u0433\\u0430\", \"\\u043d\\u043e\\u0440\\u043c\\u0430\", \"\\u043d\\u043e\\u0440\\u043c\\u0430\\u043b\\u044c\\u043d\\u043e\", \"\\u043d\\u043e\\u0447\\u044c\", \"\\u043d\\u0440\\u0430\\u0432\\u0438\\u0442\\u044c\\u0441\\u044f\", \"\\u043d\\u0443\\u0436\\u043d\\u044b\\u0439\", \"\\u043e\\u0431\\u043e\\u0436\\u0430\\u0442\\u044c\", \"\\u043e\\u0431\\u0440\\u0430\\u0442\\u043d\\u043e\", \"\\u043e\\u0431\\u0449\\u0430\\u0442\\u044c\\u0441\\u044f\", \"\\u043e\\u0441\\u0442\\u0430\\u0442\\u044c\\u0441\\u044f\", \"\\u043e\\u0442\\u0432\\u0435\\u0442\\u0438\\u0442\\u044c\", \"\\u043e\\u0442\\u043f\\u0440\\u0430\\u0432\\u0438\\u0442\\u044c\", \"\\u043f\\u0430\\u0440\\u0430\", \"\\u043f\\u0430\\u0440\\u0435\\u043d\\u044c\", \"\\u043f\\u0435\\u0441\\u043d\\u044f\", \"\\u043f\\u0438\\u0441\\u0430\\u0442\\u044c\", \"\\u043f\\u0438\\u0441\\u044c\\u043c\\u043e\", \"\\u043f\\u0438\\u0442\\u044c\", \"\\u043f\\u043b\\u043e\\u0445\\u043e\", \"\\u043f\\u043b\\u043e\\u0445\\u043e\\u0439\", \"\\u043f\\u043e\\u0433\\u043e\\u0434\\u0430\", \"\\u043f\\u043e\\u0433\\u0443\\u043b\\u044f\\u0442\\u044c\", \"\\u043f\\u043e\\u0434\\u0430\\u0440\\u0438\\u0442\\u044c\", \"\\u043f\\u043e\\u0434\\u0430\\u0440\\u043e\\u043a\", \"\\u043f\\u043e\\u0434\\u0440\\u0443\\u0433\\u0430\", \"\\u043f\\u043e\\u0435\\u0445\\u0430\\u0442\\u044c\", \"\\u043f\\u043e\\u0437\\u0432\\u043e\\u043d\\u0438\\u0442\\u044c\", \"\\u043f\\u043e\\u0439\\u0442\\u0438\", \"\\u043f\\u043e\\u043b\\u043d\\u044b\\u0439\", \"\\u043f\\u043e\\u043b\\u0443\\u0447\\u0438\\u0442\\u044c\", \"\\u043f\\u043e\\u043b\\u0443\\u0447\\u0438\\u0442\\u044c\\u0441\\u044f\", \"\\u043f\\u043e\\u043c\\u043d\\u0438\\u0442\\u044c\", \"\\u043f\\u043e\\u043c\\u043e\\u0447\\u044c\", \"\\u043f\\u043e\\u043d\\u0435\\u0434\\u0435\\u043b\\u044c\\u043d\\u0438\\u043a\", \"\\u043f\\u043e\\u043d\\u0438\\u043c\\u0430\\u0442\\u044c\", \"\\u043f\\u043e\\u043d\\u0440\\u0430\\u0432\\u0438\\u0442\\u044c\\u0441\\u044f\", \"\\u043f\\u043e\\u043d\\u044f\\u0442\\u044c\", \"\\u043f\\u043e\\u0441\\u043b\\u0435\\u0434\\u043d\\u0438\\u0439\", \"\\u043f\\u043e\\u0441\\u043c\\u043e\\u0442\\u0440\\u0435\\u0442\\u044c\", \"\\u043f\\u043e\\u0441\\u0442\\u0430\\u0432\\u0438\\u0442\\u044c\", \"\\u043f\\u043e\\u0445\\u043e\\u0434\", \"\\u043f\\u043e\\u044d\\u0442\\u043e\\u043c\\u0443\", \"\\u043f\\u0440\\u0430\\u0432\\u0434\\u0430\", \"\\u043f\\u0440\\u0430\\u0437\\u0434\\u043d\\u0438\\u043a\", \"\\u043f\\u0440\\u0435\\u043a\\u0440\\u0430\\u0441\\u043d\\u044b\\u0439\", \"\\u043f\\u0440\\u0438\\u0432\\u0435\\u0442\", \"\\u043f\\u0440\\u0438\\u0434\\u0443\\u043c\\u0430\\u0442\\u044c\", \"\\u043f\\u0440\\u0438\\u0435\\u0445\\u0430\\u0442\\u044c\", \"\\u043f\\u0440\\u0438\\u0439\\u0442\\u0438\", \"\\u043f\\u0440\\u0438\\u0439\\u0442\\u0438\\u0441\\u044c\", \"\\u043f\\u0440\\u0438\\u0441\\u043b\\u0430\\u0442\\u044c\", \"\\u043f\\u0440\\u0438\\u0445\\u043e\\u0434\\u0438\\u0442\\u044c\", \"\\u043f\\u0440\\u0438\\u044f\\u0442\\u043d\\u043e\", \"\\u043f\\u0440\\u0438\\u044f\\u0442\\u043d\\u044b\\u0439\", \"\\u043f\\u0440\\u043e\\u0431\\u043b\\u0435\\u043c\\u0430\", \"\\u043f\\u0440\\u043e\\u0439\\u0442\\u0438\", \"\\u043f\\u0440\\u043e\\u0441\\u043d\\u0443\\u0442\\u044c\\u0441\\u044f\", \"\\u043f\\u0440\\u043e\\u0441\\u0442\\u0438\\u0442\\u044c\", \"\\u043f\\u0440\\u044f\\u043c\", \"\\u043f\\u0440\\u044f\\u043c\\u043e\", \"\\u0440\\u0430\\u0431\\u043e\\u0442\\u0430\", \"\\u0440\\u0430\\u0431\\u043e\\u0442\\u0430\\u0442\\u044c\", \"\\u0440\\u0430\\u0432\\u043d\\u043e\", \"\\u0440\\u0430\\u043d\\u043d\\u0438\\u0439\", \"\\u0440\\u0430\\u0441\\u0441\\u043a\\u0430\\u0437\\u0430\\u0442\\u044c\", \"\\u0440\\u0435\\u0431\\u0451\\u043d\\u043e\\u043a\", \"\\u0440\\u0435\\u0448\\u0438\\u0442\\u044c\", \"\\u0440\\u043e\\u0434\\u0438\\u0442\\u0435\\u043b\\u044c\", \"\\u0440\\u043e\\u0434\\u043d\\u044b\\u0439\", \"\\u0440\\u043e\\u0436\\u0434\\u0435\\u043d\\u0438\\u0435\", \"\\u0440\\u043e\\u0441\\u0441\\u0438\\u044f\", \"\\u0440\\u0443\\u043a\\u0430\", \"\\u0441\\u0430\\u043c\\u044b\\u0439\", \"\\u0441\\u0430\\u0448\\u0430\", \"\\u0441\\u0432\\u0435\\u0442\", \"\\u0441\\u0432\\u043e\\u0439\", \"\\u0441\\u0434\\u0435\\u043b\\u0430\\u0442\\u044c\", \"\\u0441\\u0435\\u0437\\u043e\\u043d\", \"\\u0441\\u0435\\u0439\", \"\\u0441\\u0435\\u0440\\u0438\\u044f\", \"\\u0441\\u0435\\u0441\\u0442\\u0440\\u0430\", \"\\u0441\\u0438\\u0434\\u0435\\u0442\\u044c\", \"\\u0441\\u0438\\u043b\\u044c\\u043d\\u043e\", \"\\u0441\\u043a\\u043e\\u0440\\u0435\\u0435\", \"\\u0441\\u043a\\u043e\\u0440\\u043e\", \"\\u0441\\u043a\\u0443\\u0447\\u0430\\u0442\\u044c\", \"\\u0441\\u043a\\u0443\\u0447\\u043d\\u043e\", \"\\u0441\\u043b\\u0435\\u0437\\u0430\", \"\\u0441\\u043b\\u043e\\u0432\\u043e\", \"\\u0441\\u043b\\u043e\\u043c\\u0430\\u0442\\u044c\\u0441\\u044f\", \"\\u0441\\u043b\\u0443\\u0447\\u0430\\u0439\", \"\\u0441\\u043b\\u0443\\u0448\\u0430\\u0442\\u044c\", \"\\u0441\\u043c\\u0435\\u0448\\u043d\\u043e\", \"\\u0441\\u043c\\u043e\\u0442\\u0440\\u0435\\u0442\\u044c\", \"\\u0441\\u043c\\u043e\\u0447\\u044c\", \"\\u0441\\u043d\\u0435\\u0433\", \"\\u0441\\u043e\\u043d\", \"\\u0441\\u043e\\u043e\\u0431\\u0449\\u0435\\u043d\\u0438\\u0435\", \"\\u0441\\u043e\\u0441\\u043a\\u0443\\u0447\\u0438\\u0442\\u044c\\u0441\\u044f\", \"\\u0441\\u043f\\u0430\\u0442\\u044c\", \"\\u0441\\u0440\\u0430\\u0437\\u0443\", \"\\u0441\\u0441\\u044b\\u043b\\u043a\\u0430\", \"\\u0441\\u0442\\u0430\\u0440\\u044b\\u0439\", \"\\u0441\\u0442\\u0430\\u0442\\u044c\", \"\\u0441\\u0442\\u043e\\u0438\\u0442\\u044c\", \"\\u0441\\u0442\\u043e\\u043b\\u044c\\u043a\\u043e\", \"\\u0441\\u0442\\u043e\\u0440\\u043e\\u043d\\u0430\", \"\\u0441\\u0443\\u0431\\u0431\\u043e\\u0442\\u0430\", \"\\u0441\\u0443\\u043a\\u0430\", \"\\u0441\\u0445\\u043e\\u0434\\u0438\\u0442\\u044c\", \"\\u0442\\u0430\\u043a\\u0438\", \"\\u0442\\u0432\\u0438\", \"\\u0442\\u0432\\u0438\\u0442\", \"\\u0442\\u0432\\u0438\\u0442\\u0442\\u0435\\u0440\", \"\\u0442\\u0435\\u043b\\u0435\\u0444\\u043e\\u043d\", \"\\u0442\\u0435\\u043c\\u0430\", \"\\u0442\\u0438\\u043f\", \"\\u0442\\u043e\\u0447\\u043d\\u043e\", \"\\u0443\\u0431\\u0438\\u0442\\u044c\", \"\\u0443\\u0432\\u0438\\u0434\\u0435\\u0442\\u044c\", \"\\u0443\\u0433\\u0430\\u0434\\u0430\\u0442\\u044c\", \"\\u0443\\u0436\\u0430\\u0441\\u043d\\u043e\", \"\\u0443\\u0439\\u0442\\u0438\", \"\\u0443\\u043b\\u0438\\u0446\\u0430\", \"\\u0443\\u0440\\u043e\\u043a\", \"\\u0443\\u0441\\u043f\\u0435\\u0442\\u044c\", \"\\u0443\\u0442\\u0440\\u043e\", \"\\u0443\\u0442\\u0440\\u043e\\u043c\", \"\\u0443\\u0447\\u0438\\u0442\\u044c\", \"\\u0443\\u0447\\u0451\\u0431\\u0430\", \"\\u0444\\u0438\\u043b\\u044c\\u043c\", \"\\u0444\\u043e\\u0442\\u043a\\u0430\", \"\\u0444\\u043e\\u0442\\u043e\", \"\\u0445\\u0432\\u0430\\u0442\\u0430\\u0442\\u044c\", \"\\u0445\\u043e\\u0434\\u0438\\u0442\\u044c\", \"\\u0445\\u043e\\u0440\\u043e\\u0448\\u0438\\u0439\", \"\\u0445\\u043e\\u0442\\u0435\\u0442\\u044c\\u0441\\u044f\", \"\\u0446\\u0432\\u0435\\u0442\", \"\\u0446\\u0435\\u043b\\u044b\\u0439\", \"\\u0447\\u0430\\u0439\", \"\\u0447\\u0430\\u0441\", \"\\u0447\\u0430\\u0441\\u0442\\u044c\", \"\\u0447\\u0435\\u0440\\u0442\\u0430\", \"\\u0447\\u0438\\u0442\\u0430\\u0442\\u044c\", \"\\u0447\\u0442\\u043e\\u0442\\u044c\", \"\\u0447\\u0443\\u0432\\u0441\\u0442\\u0432\\u043e\", \"\\u0447\\u0443\\u0432\\u0441\\u0442\\u0432\\u043e\\u0432\\u0430\\u0442\\u044c\", \"\\u0448\\u043a\\u043e\\u043b\\u0430\", \"\\u044d\\u043a\\u0437\\u0430\\u043c\\u0435\\u043d\", \"\\u0451\\u043b\\u043a\\u0430\", \"\\u0454\\u0432\\u0440\\u043e\\u043c\\u0430\\u0439\\u0434\\u0430\\u043d\"]}, \"R\": 30, \"lambda.step\": 0.01, \"plot.opts\": {\"xlab\": \"PC1\", \"ylab\": \"PC2\"}, \"topic.order\": [7, 10, 3, 6, 8, 2, 5, 1, 4, 9]};\n",
              "\n",
              "function LDAvis_load_lib(url, callback){\n",
              "  var s = document.createElement('script');\n",
              "  s.src = url;\n",
              "  s.async = true;\n",
              "  s.onreadystatechange = s.onload = callback;\n",
              "  s.onerror = function(){console.warn(\"failed to load library \" + url);};\n",
              "  document.getElementsByTagName(\"head\")[0].appendChild(s);\n",
              "}\n",
              "\n",
              "if(typeof(LDAvis) !== \"undefined\"){\n",
              "   // already loaded: just create the visualization\n",
              "   !function(LDAvis){\n",
              "       new LDAvis(\"#\" + \"ldavis_el6141345624271014563253108330\", ldavis_el6141345624271014563253108330_data);\n",
              "   }(LDAvis);\n",
              "}else if(typeof define === \"function\" && define.amd){\n",
              "   // require.js is available: use it to load d3/LDAvis\n",
              "   require.config({paths: {d3: \"https://d3js.org/d3.v5\"}});\n",
              "   require([\"d3\"], function(d3){\n",
              "      window.d3 = d3;\n",
              "      LDAvis_load_lib(\"https://cdn.jsdelivr.net/gh/bmabey/pyLDAvis@3.4.0/pyLDAvis/js/ldavis.v3.0.0.js\", function(){\n",
              "        new LDAvis(\"#\" + \"ldavis_el6141345624271014563253108330\", ldavis_el6141345624271014563253108330_data);\n",
              "      });\n",
              "    });\n",
              "}else{\n",
              "    // require.js not available: dynamically load d3 & LDAvis\n",
              "    LDAvis_load_lib(\"https://d3js.org/d3.v5.js\", function(){\n",
              "         LDAvis_load_lib(\"https://cdn.jsdelivr.net/gh/bmabey/pyLDAvis@3.4.0/pyLDAvis/js/ldavis.v3.0.0.js\", function(){\n",
              "                 new LDAvis(\"#\" + \"ldavis_el6141345624271014563253108330\", ldavis_el6141345624271014563253108330_data);\n",
              "            })\n",
              "         });\n",
              "}\n",
              "</script>"
            ]
          },
          "metadata": {},
          "execution_count": 116
        }
      ]
    },
    {
      "cell_type": "code",
      "source": [
        "print(lda.log_perplexity(corpus))"
      ],
      "metadata": {
        "colab": {
          "base_uri": "https://localhost:8080/"
        },
        "id": "ZpFfDtT19FwA",
        "outputId": "e1eaa295-1c44-4c09-a5f1-0c84a5f81325"
      },
      "execution_count": 117,
      "outputs": [
        {
          "output_type": "stream",
          "name": "stdout",
          "text": [
            "-9.07370936771346\n"
          ]
        }
      ]
    },
    {
      "cell_type": "code",
      "source": [
        "print('Персплексия: ', np.exp(lda.log_perplexity(corpus)))"
      ],
      "metadata": {
        "colab": {
          "base_uri": "https://localhost:8080/"
        },
        "id": "M21c9Gfe_740",
        "outputId": "524fd306-12e8-482c-c9df-e07c495bb45a"
      },
      "execution_count": 118,
      "outputs": [
        {
          "output_type": "stream",
          "name": "stdout",
          "text": [
            "Персплексия:  0.00011464874004470399\n"
          ]
        }
      ]
    },
    {
      "cell_type": "code",
      "source": [
        "coherence_model_lda = CoherenceModel(model=lda, texts=data['text'], dictionary=dictionary, coherence='c_v')\n",
        "coherence_lda = coherence_model_lda.get_coherence()\n",
        "print('Средняя когерентность: ', coherence_lda)"
      ],
      "metadata": {
        "colab": {
          "base_uri": "https://localhost:8080/"
        },
        "id": "0IQ31-Y7AIly",
        "outputId": "6eed2a83-9493-4224-f0b5-258599919981"
      },
      "execution_count": 119,
      "outputs": [
        {
          "output_type": "stream",
          "name": "stdout",
          "text": [
            "Средняя когерентность:  0.2437644572232321\n"
          ]
        }
      ]
    },
    {
      "cell_type": "markdown",
      "source": [
        "Теперь можно подобрать оптимальное количество тем, опираясь на значение метрик:"
      ],
      "metadata": {
        "id": "FVhWjc_1FCMQ"
      }
    },
    {
      "cell_type": "code",
      "source": [
        "topics_list = [5, 10, 15]\n",
        "coherences = []\n",
        "\n",
        "for num in tqdm(topics_list):\n",
        "    lda = ldamodel.LdaModel(corpus, id2word=dictionary, num_topics=num, chunksize=50, update_every=1, passes=2)\n",
        "    coherences.append(CoherenceModel(model=lda, texts=data['text'], dictionary=dictionary, coherence='c_v').get_coherence())\n",
        "\n",
        "plt.plot(topics_list, coherences)\n",
        "plt.xlabel(\"Число тем\")\n",
        "plt.ylabel(\"Средняя когерентность\")\n",
        "plt.show()"
      ],
      "metadata": {
        "colab": {
          "base_uri": "https://localhost:8080/",
          "height": 481,
          "referenced_widgets": [
            "1c623906bb854de5acc175d015e41f69",
            "26aae47f058b44cdba954a7d1f2eb0e5",
            "ad5ca754c86f4933b20563ea8d5a051d",
            "d1ded224df254d728560c2cb6a710fa0",
            "84c3f926d9f4450d8a608e3e62bb4861",
            "1c41d8e19942425b996ab0282e3fe935",
            "8a742e93ce5c4c4c868cf8596bcfef49",
            "aafa3f32e6cd4d7caff40762c135d943",
            "58c5ec2bcdbb40b5b046f966edb8945a",
            "ef0f03e2e9264f6fb4a6012ec3ecbd7c",
            "9edf6240425e4afe9287ebfc5e521cf8"
          ]
        },
        "id": "uomlx1yYB0xo",
        "outputId": "2ecb524a-4327-4591-8979-a0cde954bcf7"
      },
      "execution_count": 120,
      "outputs": [
        {
          "output_type": "display_data",
          "data": {
            "text/plain": [
              "  0%|          | 0/3 [00:00<?, ?it/s]"
            ],
            "application/vnd.jupyter.widget-view+json": {
              "version_major": 2,
              "version_minor": 0,
              "model_id": "1c623906bb854de5acc175d015e41f69"
            }
          },
          "metadata": {}
        },
        {
          "output_type": "display_data",
          "data": {
            "text/plain": [
              "<Figure size 640x480 with 1 Axes>"
            ],
            "image/png": "[encoded data removed]"
          },
          "metadata": {}
        }
      ]
    },
    {
      "cell_type": "markdown",
      "source": [
        "Из графика выше выходит, что 10 - оптимальное число тем. В этом месте наблюдается наибольший перегиб. При увеличении количества тем, когерентность увеличивается незначительно."
      ],
      "metadata": {
        "id": "ytqVTaXfFHlL"
      }
    }
  ]
}