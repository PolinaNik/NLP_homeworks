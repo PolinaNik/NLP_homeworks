{
 "cells": [
  {
   "cell_type": "markdown",
   "metadata": {},
   "source": [
    "## Домашняя работа по теме \"Машинный перевод. Модель seq2seq и механизм внимания\" "
   ]
  },
  {
   "cell_type": "code",
   "execution_count": 1,
   "metadata": {},
   "outputs": [],
   "source": [
    "import tensorflow as tf\n",
    "\n",
    "import matplotlib.pyplot as plt\n",
    "import matplotlib.ticker as ticker\n",
    "from sklearn.model_selection import train_test_split\n",
    "\n",
    "import unicodedata\n",
    "import re\n",
    "import numpy as np\n",
    "import os\n",
    "import io\n",
    "import time\n"
   ]
  },
  {
   "cell_type": "markdown",
   "metadata": {},
   "source": [
    "## Download and prepare the dataset\n",
    "\n",
    "We'll use a language dataset provided by http://www.manythings.org/anki/"
   ]
  },
  {
   "cell_type": "code",
   "execution_count": 2,
   "metadata": {},
   "outputs": [],
   "source": [
    "path_to_file = \"./rus-eng/rus.txt\""
   ]
  },
  {
   "cell_type": "code",
   "execution_count": 3,
   "metadata": {},
   "outputs": [],
   "source": [
    "def preprocess_sentence(w):\n",
    "  w = w.lower().strip()\n",
    "\n",
    "  # creating a space between a word and the punctuation following it\n",
    "  # eg: \"he is a boy.\" => \"he is a boy .\"\n",
    "  # Reference:- https://stackoverflow.com/questions/3645931/python-padding-punctuation-with-white-spaces-keeping-punctuation\n",
    "  w = re.sub(r\"([?.!,])\", r\" \\1 \", w)\n",
    "  w = re.sub(r'[\" \"]+', \" \", w)\n",
    "\n",
    "  # replacing everything with space except (a-z, A-Z, \".\", \"?\", \"!\", \",\")\n",
    "  w = re.sub(r\"[^a-zA-Zа-яА-Я?.!,']+\", \" \", w)\n",
    "\n",
    "  w = w.strip()\n",
    "\n",
    "  # adding a start and an end token to the sentence\n",
    "  # so that the model know when to start and stop predicting.\n",
    "  w = '<start> ' + w + ' <end>'\n",
    "  return w"
   ]
  },
  {
   "cell_type": "code",
   "execution_count": 4,
   "metadata": {},
   "outputs": [
    {
     "data": {
      "text/plain": [
       "\"<start> i can't go . <end>\""
      ]
     },
     "execution_count": 4,
     "metadata": {},
     "output_type": "execute_result"
    }
   ],
   "source": [
    "preprocess_sentence(\"I can't go.\")"
   ]
  },
  {
   "cell_type": "code",
   "execution_count": 5,
   "metadata": {},
   "outputs": [],
   "source": [
    "# 1. Remove the accents\n",
    "# 2. Clean the sentences\n",
    "# 3. Return word pairs in the format: [ENG, RUS]\n",
    "def create_dataset(path, num_examples):\n",
    "  lines = io.open(path, encoding='UTF-8').read().strip().split('\\n')\n",
    "\n",
    "  word_pairs = [[preprocess_sentence(w) for w in l.split('\\t')[:2]]  for l in lines[:num_examples]]\n",
    "\n",
    "  return zip(*word_pairs)"
   ]
  },
  {
   "cell_type": "code",
   "execution_count": 6,
   "metadata": {},
   "outputs": [
    {
     "name": "stdout",
     "output_type": "stream",
     "text": [
      "<start> go . <end>\n",
      "<start> марш ! <end>\n"
     ]
    }
   ],
   "source": [
    "en, ru = create_dataset(path_to_file, None)\n",
    "print(en[0])\n",
    "print(ru[0])"
   ]
  },
  {
   "cell_type": "code",
   "execution_count": 7,
   "metadata": {},
   "outputs": [],
   "source": [
    "def tokenize(lang):\n",
    "  lang_tokenizer = tf.keras.preprocessing.text.Tokenizer(\n",
    "      filters='')\n",
    "  lang_tokenizer.fit_on_texts(lang)\n",
    "\n",
    "  tensor = lang_tokenizer.texts_to_sequences(lang)\n",
    "\n",
    "  tensor = tf.keras.preprocessing.sequence.pad_sequences(tensor,\n",
    "                                                         padding='post')\n",
    "\n",
    "  return tensor, lang_tokenizer"
   ]
  },
  {
   "cell_type": "code",
   "execution_count": 8,
   "metadata": {},
   "outputs": [],
   "source": [
    "def load_dataset(path, num_examples=None):\n",
    "  # creating cleaned input, output pairs\n",
    "  targ_lang, inp_lang = create_dataset(path, num_examples)\n",
    "\n",
    "  input_tensor, inp_lang_tokenizer = tokenize(inp_lang)\n",
    "  target_tensor, targ_lang_tokenizer = tokenize(targ_lang)\n",
    "\n",
    "  return input_tensor, target_tensor, inp_lang_tokenizer, targ_lang_tokenizer"
   ]
  },
  {
   "cell_type": "markdown",
   "metadata": {},
   "source": [
    "### Limit the size of the dataset to experiment faster (optional)\n"
   ]
  },
  {
   "cell_type": "code",
   "execution_count": 9,
   "metadata": {},
   "outputs": [
    {
     "data": {
      "text/plain": [
       "(479223, 479223)"
      ]
     },
     "execution_count": 9,
     "metadata": {},
     "output_type": "execute_result"
    }
   ],
   "source": [
    "len(en), len(ru)"
   ]
  },
  {
   "cell_type": "code",
   "execution_count": 12,
   "metadata": {},
   "outputs": [],
   "source": [
    "# Try experimenting with the size of that dataset\n",
    "num_examples = 50000\n",
    "input_tensor, target_tensor, inp_lang, targ_lang = load_dataset(path_to_file, num_examples)\n",
    "\n",
    "# Calculate max_length of the target tensors\n",
    "max_length_targ, max_length_inp = target_tensor.shape[1], input_tensor.shape[1]"
   ]
  },
  {
   "cell_type": "code",
   "execution_count": 13,
   "metadata": {},
   "outputs": [
    {
     "name": "stdout",
     "output_type": "stream",
     "text": [
      "40000 40000 10000 10000\n"
     ]
    }
   ],
   "source": [
    "# Creating training and validation sets using an 80-20 split\n",
    "input_tensor_train, input_tensor_val, target_tensor_train, target_tensor_val = train_test_split(input_tensor, target_tensor, test_size=0.2)\n",
    "\n",
    "# Show length\n",
    "print(len(input_tensor_train), len(target_tensor_train), len(input_tensor_val), len(target_tensor_val))"
   ]
  },
  {
   "cell_type": "code",
   "execution_count": 14,
   "metadata": {},
   "outputs": [],
   "source": [
    "def convert(lang, tensor):\n",
    "  for t in tensor:\n",
    "    if t!=0:\n",
    "      print (\"%d ----> %s\" % (t, lang.index_word[t]))"
   ]
  },
  {
   "cell_type": "code",
   "execution_count": 15,
   "metadata": {},
   "outputs": [
    {
     "name": "stdout",
     "output_type": "stream",
     "text": [
      "Input Language; index to word mapping\n",
      "1 ----> <start>\n",
      "297 ----> никому\n",
      "542 ----> ни\n",
      "1413 ----> слова\n",
      "3 ----> .\n",
      "2 ----> <end>\n",
      "\n",
      "Target Language; index to word mapping\n",
      "1 ----> <start>\n",
      "22 ----> don't\n",
      "96 ----> tell\n",
      "10 ----> a\n",
      "2325 ----> soul\n",
      "3 ----> .\n",
      "2 ----> <end>\n"
     ]
    }
   ],
   "source": [
    "print (\"Input Language; index to word mapping\")\n",
    "convert(inp_lang, input_tensor_train[0])\n",
    "print ()\n",
    "print (\"Target Language; index to word mapping\")\n",
    "convert(targ_lang, target_tensor_train[0])"
   ]
  },
  {
   "cell_type": "markdown",
   "metadata": {},
   "source": [
    "### Create a tf.data dataset"
   ]
  },
  {
   "cell_type": "code",
   "execution_count": 16,
   "metadata": {},
   "outputs": [],
   "source": [
    "BUFFER_SIZE = len(input_tensor_train)\n",
    "BATCH_SIZE = 64\n",
    "steps_per_epoch = len(input_tensor_train)//BATCH_SIZE\n",
    "embedding_dim = 300\n",
    "units = 1024\n",
    "vocab_inp_size = len(inp_lang.word_index)+1\n",
    "vocab_tar_size = len(targ_lang.word_index)+1\n",
    "\n",
    "dataset = tf.data.Dataset.from_tensor_slices((input_tensor_train, target_tensor_train)).shuffle(BUFFER_SIZE)\n",
    "dataset = dataset.batch(BATCH_SIZE, drop_remainder=True)"
   ]
  },
  {
   "cell_type": "code",
   "execution_count": 17,
   "metadata": {},
   "outputs": [
    {
     "data": {
      "text/plain": [
       "(TensorShape([64, 12]), TensorShape([64, 9]))"
      ]
     },
     "execution_count": 17,
     "metadata": {},
     "output_type": "execute_result"
    }
   ],
   "source": [
    "example_input_batch, example_target_batch = next(iter(dataset))\n",
    "example_input_batch.shape, example_target_batch.shape"
   ]
  },
  {
   "cell_type": "code",
   "execution_count": 18,
   "metadata": {},
   "outputs": [],
   "source": [
    "class Encoder(tf.keras.Model):\n",
    "  def __init__(self, vocab_size, embedding_dim, enc_units, batch_sz):\n",
    "    super(Encoder, self).__init__()\n",
    "    self.batch_sz = batch_sz\n",
    "    self.enc_units = enc_units\n",
    "    self.embedding = tf.keras.layers.Embedding(vocab_size, embedding_dim)\n",
    "    self.gru = tf.keras.layers.GRU(self.enc_units,\n",
    "                                   return_sequences=False,\n",
    "                                   return_state=True,\n",
    "                                   recurrent_initializer='glorot_uniform')\n",
    "    \n",
    "\n",
    "  def call(self, x, hidden):\n",
    "    x = self.embedding(x)\n",
    "    output, state = self.gru(x, initial_state = hidden)\n",
    "    return state\n",
    "\n",
    "  def initialize_hidden_state(self):\n",
    "    return tf.zeros((self.batch_sz, self.enc_units))"
   ]
  },
  {
   "cell_type": "code",
   "execution_count": 19,
   "metadata": {},
   "outputs": [
    {
     "name": "stdout",
     "output_type": "stream",
     "text": [
      "Encoder Hidden state shape: (batch size, units) (64, 1024)\n"
     ]
    }
   ],
   "source": [
    "encoder = Encoder(vocab_inp_size, embedding_dim, units, BATCH_SIZE)\n",
    "\n",
    "# sample input\n",
    "sample_hidden = encoder.initialize_hidden_state()\n",
    "sample_hidden = encoder(example_input_batch, sample_hidden)\n",
    "# print ('Encoder output shape: (batch size, sequence length, units) {}'.format(sample_output.shape))\n",
    "print ('Encoder Hidden state shape: (batch size, units) {}'.format(sample_hidden.shape))"
   ]
  },
  {
   "cell_type": "code",
   "execution_count": 20,
   "metadata": {},
   "outputs": [],
   "source": [
    "class Decoder(tf.keras.Model):\n",
    "  def __init__(self, vocab_size, embedding_dim, dec_units, batch_sz):\n",
    "    super(Decoder, self).__init__()\n",
    "    self.batch_sz = batch_sz\n",
    "    self.dec_units = dec_units\n",
    "    self.embedding = tf.keras.layers.Embedding(vocab_size, embedding_dim)\n",
    "    self.gru = tf.keras.layers.GRU(self.dec_units,\n",
    "                                   return_sequences=True,\n",
    "                                   return_state=True,\n",
    "                                   recurrent_initializer='glorot_uniform')\n",
    "    self.fc = tf.keras.layers.Dense(vocab_size)\n",
    "\n",
    "  def call(self, x, hidden):\n",
    "    # enc_output shape == (batch_size, max_length, hidden_size)\n",
    "\n",
    "    # x shape after passing through embedding == (batch_size, 1, embedding_dim)\n",
    "    x = self.embedding(x)\n",
    "\n",
    "    # x shape after concatenation == (batch_size, 1, embedding_dim + hidden_size)\n",
    "\n",
    "    # passing the concatenated vector to the GRU\n",
    "    output, state = self.gru(x, initial_state=hidden)\n",
    "\n",
    "    # output shape == (batch_size * 1, hidden_size)\n",
    "    output = tf.reshape(output, (-1, output.shape[2]))\n",
    "\n",
    "    # output shape == (batch_size, vocab)\n",
    "    x = self.fc(output)\n",
    "\n",
    "    return x, state"
   ]
  },
  {
   "cell_type": "code",
   "execution_count": 21,
   "metadata": {},
   "outputs": [],
   "source": [
    "decoder = Decoder(vocab_tar_size, embedding_dim, units, BATCH_SIZE)\n",
    "\n",
    "decoder_sample_x, decoder_sample_h = decoder(tf.random.uniform((BATCH_SIZE, 1)),\n",
    "                                      sample_hidden)"
   ]
  },
  {
   "cell_type": "code",
   "execution_count": 23,
   "metadata": {},
   "outputs": [
    {
     "data": {
      "text/plain": [
       "TensorShape([64, 5017])"
      ]
     },
     "execution_count": 23,
     "metadata": {},
     "output_type": "execute_result"
    }
   ],
   "source": [
    "decoder_sample_x.shape"
   ]
  },
  {
   "cell_type": "code",
   "execution_count": 24,
   "metadata": {},
   "outputs": [
    {
     "data": {
      "text/plain": [
       "TensorShape([64, 1024])"
      ]
     },
     "execution_count": 24,
     "metadata": {},
     "output_type": "execute_result"
    }
   ],
   "source": [
    "decoder_sample_h.shape"
   ]
  },
  {
   "cell_type": "markdown",
   "metadata": {},
   "source": [
    "## Define the optimizer and the loss function"
   ]
  },
  {
   "cell_type": "code",
   "execution_count": 25,
   "metadata": {},
   "outputs": [],
   "source": [
    "optimizer = tf.keras.optimizers.Adam()\n",
    "\n",
    "loss_object = tf.keras.losses.SparseCategoricalCrossentropy(\n",
    "    from_logits=True, reduction='none')\n",
    "\n",
    "def loss_function(real, pred):\n",
    "  mask = tf.math.logical_not(tf.math.equal(real, 0))\n",
    "  loss_ = loss_object(real, pred)\n",
    "\n",
    "  mask = tf.cast(mask, dtype=loss_.dtype)\n",
    "  loss_ *= mask\n",
    "\n",
    "  return tf.reduce_mean(loss_)"
   ]
  },
  {
   "cell_type": "markdown",
   "metadata": {},
   "source": [
    "## Checkpoints (Object-based saving)"
   ]
  },
  {
   "cell_type": "code",
   "execution_count": 26,
   "metadata": {},
   "outputs": [],
   "source": [
    "checkpoint_dir = 'f:/models/training_nmt_checkpoints'\n",
    "\n",
    "checkpoint_prefix = os.path.join(checkpoint_dir, \"ckpt\")\n",
    "\n",
    "checkpoint = tf.train.Checkpoint(optimizer=optimizer,\n",
    "                                 encoder=encoder,\n",
    "                                 decoder=decoder)"
   ]
  },
  {
   "cell_type": "code",
   "execution_count": 27,
   "metadata": {},
   "outputs": [],
   "source": [
    "@tf.function\n",
    "def train_step(inp, targ, enc_hidden):\n",
    "  loss = 0\n",
    "\n",
    "  with tf.GradientTape() as tape:\n",
    "    enc_hidden = encoder(inp, enc_hidden)\n",
    "\n",
    "    dec_hidden = enc_hidden\n",
    "\n",
    "    dec_input = tf.expand_dims([targ_lang.word_index['<start>']] * BATCH_SIZE, 1)\n",
    "\n",
    "    # Teacher forcing - feeding the target as the next input\n",
    "    for t in range(1, targ.shape[1]):\n",
    "      # passing enc_output to the decoder\n",
    "      predictions, dec_hidden = decoder(dec_input, dec_hidden)\n",
    "\n",
    "      loss += loss_function(targ[:, t], predictions)\n",
    "\n",
    "      # using teacher forcing\n",
    "      dec_input = tf.expand_dims(targ[:, t], 1)\n",
    "\n",
    "  batch_loss = (loss / int(targ.shape[1]))\n",
    "\n",
    "  variables = encoder.trainable_variables + decoder.trainable_variables\n",
    "\n",
    "  gradients = tape.gradient(loss, variables)\n",
    "\n",
    "  optimizer.apply_gradients(zip(gradients, variables))\n",
    "\n",
    "  return batch_loss"
   ]
  },
  {
   "cell_type": "code",
   "execution_count": 28,
   "metadata": {},
   "outputs": [
    {
     "name": "stdout",
     "output_type": "stream",
     "text": [
      "Epoch 1 Batch 0 Loss 4.9849\n",
      "Epoch 1 Batch 100 Loss 2.0941\n",
      "Epoch 1 Batch 200 Loss 1.8431\n",
      "Epoch 1 Batch 300 Loss 1.7149\n",
      "Epoch 1 Batch 400 Loss 1.4570\n",
      "Epoch 1 Batch 500 Loss 1.3682\n",
      "Epoch 1 Batch 600 Loss 1.2525\n",
      "Epoch 1 Loss 1.7223\n",
      "Time taken for 1 epoch 634.3851935863495 sec\n",
      "\n",
      "Epoch 2 Batch 0 Loss 1.1815\n",
      "Epoch 2 Batch 100 Loss 1.0724\n",
      "Epoch 2 Batch 200 Loss 1.0439\n",
      "Epoch 2 Batch 300 Loss 0.9564\n",
      "Epoch 2 Batch 400 Loss 0.9144\n",
      "Epoch 2 Batch 500 Loss 1.0162\n",
      "Epoch 2 Batch 600 Loss 0.8307\n",
      "Epoch 2 Loss 1.0057\n",
      "Time taken for 1 epoch 581.5346710681915 sec\n",
      "\n",
      "Epoch 3 Batch 0 Loss 0.7609\n",
      "Epoch 3 Batch 100 Loss 0.5723\n",
      "Epoch 3 Batch 200 Loss 0.6378\n",
      "Epoch 3 Batch 300 Loss 0.6560\n",
      "Epoch 3 Batch 400 Loss 0.6397\n",
      "Epoch 3 Batch 500 Loss 0.5335\n",
      "Epoch 3 Batch 600 Loss 0.6326\n",
      "Epoch 3 Loss 0.6254\n",
      "Time taken for 1 epoch 676.09752368927 sec\n",
      "\n",
      "Epoch 4 Batch 0 Loss 0.4073\n",
      "Epoch 4 Batch 100 Loss 0.3299\n",
      "Epoch 4 Batch 200 Loss 0.4149\n",
      "Epoch 4 Batch 300 Loss 0.3887\n",
      "Epoch 4 Batch 400 Loss 0.3902\n",
      "Epoch 4 Batch 500 Loss 0.4712\n",
      "Epoch 4 Batch 600 Loss 0.3672\n",
      "Epoch 4 Loss 0.3844\n",
      "Time taken for 1 epoch 660.1142914295197 sec\n",
      "\n",
      "Epoch 5 Batch 0 Loss 0.2373\n",
      "Epoch 5 Batch 100 Loss 0.2503\n",
      "Epoch 5 Batch 200 Loss 0.2767\n",
      "Epoch 5 Batch 300 Loss 0.2127\n",
      "Epoch 5 Batch 400 Loss 0.2540\n",
      "Epoch 5 Batch 500 Loss 0.2706\n",
      "Epoch 5 Batch 600 Loss 0.3043\n",
      "Epoch 5 Loss 0.2428\n",
      "Time taken for 1 epoch 627.6735324859619 sec\n",
      "\n",
      "Epoch 6 Batch 0 Loss 0.1703\n",
      "Epoch 6 Batch 100 Loss 0.1520\n",
      "Epoch 6 Batch 200 Loss 0.1380\n",
      "Epoch 6 Batch 300 Loss 0.1420\n",
      "Epoch 6 Batch 400 Loss 0.1295\n",
      "Epoch 6 Batch 500 Loss 0.1975\n",
      "Epoch 6 Batch 600 Loss 0.1238\n",
      "Epoch 6 Loss 0.1659\n",
      "Time taken for 1 epoch 619.5882575511932 sec\n",
      "\n",
      "Epoch 7 Batch 0 Loss 0.0936\n",
      "Epoch 7 Batch 100 Loss 0.1017\n",
      "Epoch 7 Batch 200 Loss 0.1724\n",
      "Epoch 7 Batch 300 Loss 0.1011\n",
      "Epoch 7 Batch 400 Loss 0.1267\n",
      "Epoch 7 Batch 500 Loss 0.1578\n",
      "Epoch 7 Batch 600 Loss 0.1315\n",
      "Epoch 7 Loss 0.1272\n",
      "Time taken for 1 epoch 581.3636333942413 sec\n",
      "\n",
      "Epoch 8 Batch 0 Loss 0.0798\n",
      "Epoch 8 Batch 100 Loss 0.0865\n",
      "Epoch 8 Batch 200 Loss 0.1271\n",
      "Epoch 8 Batch 300 Loss 0.0951\n",
      "Epoch 8 Batch 400 Loss 0.1145\n",
      "Epoch 8 Batch 500 Loss 0.1201\n",
      "Epoch 8 Batch 600 Loss 0.0703\n",
      "Epoch 8 Loss 0.1069\n",
      "Time taken for 1 epoch 615.7701680660248 sec\n",
      "\n",
      "Epoch 9 Batch 0 Loss 0.1066\n",
      "Epoch 9 Batch 100 Loss 0.0763\n",
      "Epoch 9 Batch 200 Loss 0.0686\n",
      "Epoch 9 Batch 300 Loss 0.1349\n",
      "Epoch 9 Batch 400 Loss 0.1245\n",
      "Epoch 9 Batch 500 Loss 0.1056\n",
      "Epoch 9 Batch 600 Loss 0.1051\n",
      "Epoch 9 Loss 0.0975\n",
      "Time taken for 1 epoch 621.7165141105652 sec\n",
      "\n",
      "Epoch 10 Batch 0 Loss 0.0898\n",
      "Epoch 10 Batch 100 Loss 0.0462\n",
      "Epoch 10 Batch 200 Loss 0.0523\n",
      "Epoch 10 Batch 300 Loss 0.1089\n",
      "Epoch 10 Batch 400 Loss 0.0994\n",
      "Epoch 10 Batch 500 Loss 0.1143\n",
      "Epoch 10 Batch 600 Loss 0.1669\n",
      "Epoch 10 Loss 0.0919\n",
      "Time taken for 1 epoch 584.7352151870728 sec\n",
      "\n",
      "Epoch 11 Batch 0 Loss 0.0380\n",
      "Epoch 11 Batch 100 Loss 0.0626\n",
      "Epoch 11 Batch 200 Loss 0.1110\n",
      "Epoch 11 Batch 300 Loss 0.1183\n",
      "Epoch 11 Batch 400 Loss 0.0887\n",
      "Epoch 11 Batch 500 Loss 0.0704\n",
      "Epoch 11 Batch 600 Loss 0.0985\n",
      "Epoch 11 Loss 0.0889\n",
      "Time taken for 1 epoch 578.7565524578094 sec\n",
      "\n",
      "Epoch 12 Batch 0 Loss 0.1148\n",
      "Epoch 12 Batch 100 Loss 0.0896\n",
      "Epoch 12 Batch 200 Loss 0.0899\n",
      "Epoch 12 Batch 300 Loss 0.1164\n",
      "Epoch 12 Batch 400 Loss 0.0552\n",
      "Epoch 12 Batch 500 Loss 0.0961\n",
      "Epoch 12 Batch 600 Loss 0.0673\n",
      "Epoch 12 Loss 0.0872\n",
      "Time taken for 1 epoch 592.9385099411011 sec\n",
      "\n",
      "Epoch 13 Batch 0 Loss 0.0472\n",
      "Epoch 13 Batch 100 Loss 0.0696\n",
      "Epoch 13 Batch 200 Loss 0.0409\n",
      "Epoch 13 Batch 300 Loss 0.0568\n",
      "Epoch 13 Batch 400 Loss 0.0875\n",
      "Epoch 13 Batch 500 Loss 0.1017\n",
      "Epoch 13 Batch 600 Loss 0.0945\n",
      "Epoch 13 Loss 0.0847\n",
      "Time taken for 1 epoch 565.0214195251465 sec\n",
      "\n",
      "Epoch 14 Batch 0 Loss 0.1320\n",
      "Epoch 14 Batch 100 Loss 0.0453\n",
      "Epoch 14 Batch 200 Loss 0.0315\n",
      "Epoch 14 Batch 300 Loss 0.1084\n",
      "Epoch 14 Batch 400 Loss 0.0695\n",
      "Epoch 14 Batch 500 Loss 0.0660\n",
      "Epoch 14 Batch 600 Loss 0.0880\n",
      "Epoch 14 Loss 0.0818\n",
      "Time taken for 1 epoch 562.6286430358887 sec\n",
      "\n",
      "Epoch 15 Batch 0 Loss 0.0992\n",
      "Epoch 15 Batch 100 Loss 0.1114\n",
      "Epoch 15 Batch 200 Loss 0.0647\n",
      "Epoch 15 Batch 300 Loss 0.0747\n",
      "Epoch 15 Batch 400 Loss 0.0907\n",
      "Epoch 15 Batch 500 Loss 0.1115\n",
      "Epoch 15 Batch 600 Loss 0.0964\n",
      "Epoch 15 Loss 0.0822\n",
      "Time taken for 1 epoch 14196.263478040695 sec\n",
      "\n",
      "Epoch 16 Batch 0 Loss 0.0448\n",
      "Epoch 16 Batch 100 Loss 0.0431\n",
      "Epoch 16 Batch 200 Loss 0.0357\n",
      "Epoch 16 Batch 300 Loss 0.0897\n",
      "Epoch 16 Batch 400 Loss 0.0787\n",
      "Epoch 16 Batch 500 Loss 0.0904\n",
      "Epoch 16 Batch 600 Loss 0.0478\n",
      "Epoch 16 Loss 0.0780\n",
      "Time taken for 1 epoch 583.3927068710327 sec\n",
      "\n",
      "Epoch 17 Batch 0 Loss 0.0788\n",
      "Epoch 17 Batch 100 Loss 0.1229\n",
      "Epoch 17 Batch 200 Loss 0.0611\n",
      "Epoch 17 Batch 300 Loss 0.0999\n",
      "Epoch 17 Batch 400 Loss 0.0710\n",
      "Epoch 17 Batch 500 Loss 0.1180\n",
      "Epoch 17 Batch 600 Loss 0.1527\n",
      "Epoch 17 Loss 0.0757\n",
      "Time taken for 1 epoch 556.8732182979584 sec\n",
      "\n",
      "Epoch 18 Batch 0 Loss 0.0731\n",
      "Epoch 18 Batch 100 Loss 0.0540\n",
      "Epoch 18 Batch 200 Loss 0.0429\n",
      "Epoch 18 Batch 300 Loss 0.0716\n",
      "Epoch 18 Batch 400 Loss 0.0685\n",
      "Epoch 18 Batch 500 Loss 0.0566\n",
      "Epoch 18 Batch 600 Loss 0.0739\n",
      "Epoch 18 Loss 0.0738\n",
      "Time taken for 1 epoch 13053.302025079727 sec\n",
      "\n",
      "Epoch 19 Batch 0 Loss 0.0584\n",
      "Epoch 19 Batch 100 Loss 0.0617\n",
      "Epoch 19 Batch 200 Loss 0.0846\n",
      "Epoch 19 Batch 300 Loss 0.0592\n",
      "Epoch 19 Batch 400 Loss 0.0605\n",
      "Epoch 19 Batch 500 Loss 0.0827\n",
      "Epoch 19 Batch 600 Loss 0.1130\n",
      "Epoch 19 Loss 0.0739\n",
      "Time taken for 1 epoch 612.0506436824799 sec\n",
      "\n",
      "Epoch 20 Batch 0 Loss 0.0449\n",
      "Epoch 20 Batch 100 Loss 0.0597\n",
      "Epoch 20 Batch 200 Loss 0.0809\n",
      "Epoch 20 Batch 300 Loss 0.0506\n",
      "Epoch 20 Batch 400 Loss 0.0594\n",
      "Epoch 20 Batch 500 Loss 0.0598\n",
      "Epoch 20 Batch 600 Loss 0.0484\n",
      "Epoch 20 Loss 0.0723\n",
      "Time taken for 1 epoch 584.3621208667755 sec\n",
      "\n",
      "Epoch 21 Batch 0 Loss 0.0402\n",
      "Epoch 21 Batch 100 Loss 0.1064\n",
      "Epoch 21 Batch 200 Loss 0.0295\n",
      "Epoch 21 Batch 300 Loss 0.1140\n",
      "Epoch 21 Batch 400 Loss 0.0884\n",
      "Epoch 21 Batch 500 Loss 0.0714\n",
      "Epoch 21 Batch 600 Loss 0.1164\n",
      "Epoch 21 Loss 0.0709\n",
      "Time taken for 1 epoch 611.7811968326569 sec\n",
      "\n",
      "Epoch 22 Batch 0 Loss 0.0720\n",
      "Epoch 22 Batch 100 Loss 0.0418\n",
      "Epoch 22 Batch 200 Loss 0.0653\n",
      "Epoch 22 Batch 300 Loss 0.1144\n",
      "Epoch 22 Batch 400 Loss 0.0737\n",
      "Epoch 22 Batch 500 Loss 0.0641\n",
      "Epoch 22 Batch 600 Loss 0.0907\n",
      "Epoch 22 Loss 0.0695\n",
      "Time taken for 1 epoch 602.7777297496796 sec\n",
      "\n",
      "Epoch 23 Batch 0 Loss 0.0815\n",
      "Epoch 23 Batch 100 Loss 0.0455\n",
      "Epoch 23 Batch 200 Loss 0.0475\n",
      "Epoch 23 Batch 300 Loss 0.1086\n",
      "Epoch 23 Batch 400 Loss 0.1230\n",
      "Epoch 23 Batch 500 Loss 0.0476\n",
      "Epoch 23 Batch 600 Loss 0.1220\n",
      "Epoch 23 Loss 0.0673\n",
      "Time taken for 1 epoch 572.0181260108948 sec\n",
      "\n",
      "Epoch 24 Batch 0 Loss 0.0910\n",
      "Epoch 24 Batch 100 Loss 0.0466\n",
      "Epoch 24 Batch 200 Loss 0.0743\n",
      "Epoch 24 Batch 300 Loss 0.0482\n",
      "Epoch 24 Batch 400 Loss 0.0503\n",
      "Epoch 24 Batch 500 Loss 0.0535\n",
      "Epoch 24 Batch 600 Loss 0.0706\n",
      "Epoch 24 Loss 0.0665\n",
      "Time taken for 1 epoch 1542.296647310257 sec\n",
      "\n",
      "Epoch 25 Batch 0 Loss 0.0406\n",
      "Epoch 25 Batch 100 Loss 0.0693\n",
      "Epoch 25 Batch 200 Loss 0.0504\n",
      "Epoch 25 Batch 300 Loss 0.0304\n",
      "Epoch 25 Batch 400 Loss 0.0948\n",
      "Epoch 25 Batch 500 Loss 0.0896\n",
      "Epoch 25 Batch 600 Loss 0.0499\n",
      "Epoch 25 Loss 0.0666\n",
      "Time taken for 1 epoch 586.6311299800873 sec\n",
      "\n",
      "Epoch 26 Batch 0 Loss 0.1045\n",
      "Epoch 26 Batch 100 Loss 0.0268\n",
      "Epoch 26 Batch 200 Loss 0.0618\n",
      "Epoch 26 Batch 300 Loss 0.0626\n",
      "Epoch 26 Batch 400 Loss 0.0758\n",
      "Epoch 26 Batch 500 Loss 0.0549\n",
      "Epoch 26 Batch 600 Loss 0.0863\n",
      "Epoch 26 Loss 0.0654\n",
      "Time taken for 1 epoch 565.6430821418762 sec\n",
      "\n",
      "Epoch 27 Batch 0 Loss 0.0326\n",
      "Epoch 27 Batch 100 Loss 0.0298\n",
      "Epoch 27 Batch 200 Loss 0.0460\n",
      "Epoch 27 Batch 300 Loss 0.0547\n",
      "Epoch 27 Batch 400 Loss 0.0659\n",
      "Epoch 27 Batch 500 Loss 0.0658\n",
      "Epoch 27 Batch 600 Loss 0.1060\n",
      "Epoch 27 Loss 0.0641\n",
      "Time taken for 1 epoch 560.4672927856445 sec\n",
      "\n",
      "Epoch 28 Batch 0 Loss 0.0259\n",
      "Epoch 28 Batch 100 Loss 0.0896\n",
      "Epoch 28 Batch 200 Loss 0.0387\n",
      "Epoch 28 Batch 300 Loss 0.0910\n",
      "Epoch 28 Batch 400 Loss 0.0351\n",
      "Epoch 28 Batch 500 Loss 0.0583\n",
      "Epoch 28 Batch 600 Loss 0.0683\n",
      "Epoch 28 Loss 0.0624\n",
      "Time taken for 1 epoch 42470.414514541626 sec\n",
      "\n",
      "Epoch 29 Batch 0 Loss 0.0836\n",
      "Epoch 29 Batch 100 Loss 0.0556\n",
      "Epoch 29 Batch 200 Loss 0.0734\n",
      "Epoch 29 Batch 300 Loss 0.0671\n",
      "Epoch 29 Batch 400 Loss 0.0724\n",
      "Epoch 29 Batch 500 Loss 0.0653\n",
      "Epoch 29 Batch 600 Loss 0.0615\n",
      "Epoch 29 Loss 0.0628\n",
      "Time taken for 1 epoch 654.5320920944214 sec\n",
      "\n",
      "Epoch 30 Batch 0 Loss 0.0488\n",
      "Epoch 30 Batch 100 Loss 0.0584\n",
      "Epoch 30 Batch 200 Loss 0.0743\n",
      "Epoch 30 Batch 300 Loss 0.0830\n",
      "Epoch 30 Batch 400 Loss 0.0761\n",
      "Epoch 30 Batch 500 Loss 0.0512\n",
      "Epoch 30 Batch 600 Loss 0.0449\n",
      "Epoch 30 Loss 0.0616\n",
      "Time taken for 1 epoch 607.4147205352783 sec\n",
      "\n",
      "Epoch 31 Batch 0 Loss 0.0445\n",
      "Epoch 31 Batch 100 Loss 0.0450\n",
      "Epoch 31 Batch 200 Loss 0.0666\n",
      "Epoch 31 Batch 300 Loss 0.0678\n",
      "Epoch 31 Batch 400 Loss 0.0488\n",
      "Epoch 31 Batch 500 Loss 0.0288\n",
      "Epoch 31 Batch 600 Loss 0.0605\n",
      "Epoch 31 Loss 0.0606\n",
      "Time taken for 1 epoch 623.9789099693298 sec\n",
      "\n",
      "Epoch 32 Batch 0 Loss 0.0244\n",
      "Epoch 32 Batch 100 Loss 0.0486\n",
      "Epoch 32 Batch 200 Loss 0.0444\n",
      "Epoch 32 Batch 300 Loss 0.0677\n",
      "Epoch 32 Batch 400 Loss 0.0648\n",
      "Epoch 32 Batch 500 Loss 0.0468\n",
      "Epoch 32 Batch 600 Loss 0.0497\n",
      "Epoch 32 Loss 0.0589\n",
      "Time taken for 1 epoch 665.5349659919739 sec\n",
      "\n",
      "Epoch 33 Batch 0 Loss 0.0374\n",
      "Epoch 33 Batch 100 Loss 0.0332\n",
      "Epoch 33 Batch 200 Loss 0.0678\n",
      "Epoch 33 Batch 300 Loss 0.0641\n",
      "Epoch 33 Batch 400 Loss 0.0738\n",
      "Epoch 33 Batch 500 Loss 0.0542\n",
      "Epoch 33 Batch 600 Loss 0.0607\n",
      "Epoch 33 Loss 0.0576\n",
      "Time taken for 1 epoch 655.0137801170349 sec\n",
      "\n",
      "Epoch 34 Batch 0 Loss 0.0407\n",
      "Epoch 34 Batch 100 Loss 0.0544\n",
      "Epoch 34 Batch 200 Loss 0.0222\n",
      "Epoch 34 Batch 300 Loss 0.0384\n",
      "Epoch 34 Batch 400 Loss 0.0691\n",
      "Epoch 34 Batch 500 Loss 0.0367\n",
      "Epoch 34 Batch 600 Loss 0.0983\n",
      "Epoch 34 Loss 0.0572\n",
      "Time taken for 1 epoch 681.3260927200317 sec\n",
      "\n",
      "Epoch 35 Batch 0 Loss 0.0207\n",
      "Epoch 35 Batch 100 Loss 0.0621\n",
      "Epoch 35 Batch 200 Loss 0.0617\n",
      "Epoch 35 Batch 300 Loss 0.0593\n",
      "Epoch 35 Batch 400 Loss 0.0508\n",
      "Epoch 35 Batch 500 Loss 0.0712\n",
      "Epoch 35 Batch 600 Loss 0.0512\n",
      "Epoch 35 Loss 0.0571\n",
      "Time taken for 1 epoch 655.9226312637329 sec\n",
      "\n",
      "Epoch 36 Batch 0 Loss 0.0538\n",
      "Epoch 36 Batch 100 Loss 0.0362\n",
      "Epoch 36 Batch 200 Loss 0.0478\n",
      "Epoch 36 Batch 300 Loss 0.0532\n",
      "Epoch 36 Batch 400 Loss 0.0631\n",
      "Epoch 36 Batch 500 Loss 0.0237\n",
      "Epoch 36 Batch 600 Loss 0.0874\n",
      "Epoch 36 Loss 0.0561\n",
      "Time taken for 1 epoch 684.4642143249512 sec\n",
      "\n",
      "Epoch 37 Batch 0 Loss 0.0279\n",
      "Epoch 37 Batch 100 Loss 0.0681\n",
      "Epoch 37 Batch 200 Loss 0.0466\n",
      "Epoch 37 Batch 300 Loss 0.0425\n",
      "Epoch 37 Batch 400 Loss 0.0129\n",
      "Epoch 37 Batch 500 Loss 0.0438\n",
      "Epoch 37 Batch 600 Loss 0.0977\n",
      "Epoch 37 Loss 0.0553\n",
      "Time taken for 1 epoch 624.1747419834137 sec\n",
      "\n",
      "Epoch 38 Batch 0 Loss 0.0332\n",
      "Epoch 38 Batch 100 Loss 0.0430\n",
      "Epoch 38 Batch 200 Loss 0.0084\n",
      "Epoch 38 Batch 300 Loss 0.0583\n",
      "Epoch 38 Batch 400 Loss 0.0402\n",
      "Epoch 38 Batch 500 Loss 0.0727\n",
      "Epoch 38 Batch 600 Loss 0.0652\n",
      "Epoch 38 Loss 0.0540\n",
      "Time taken for 1 epoch 582.7198503017426 sec\n",
      "\n",
      "Epoch 39 Batch 0 Loss 0.0516\n",
      "Epoch 39 Batch 100 Loss 0.0099\n",
      "Epoch 39 Batch 200 Loss 0.0641\n",
      "Epoch 39 Batch 300 Loss 0.0200\n",
      "Epoch 39 Batch 400 Loss 0.0772\n",
      "Epoch 39 Batch 500 Loss 0.0801\n",
      "Epoch 39 Batch 600 Loss 0.0500\n",
      "Epoch 39 Loss 0.0539\n",
      "Time taken for 1 epoch 536.1120867729187 sec\n",
      "\n",
      "Epoch 40 Batch 0 Loss 0.0238\n",
      "Epoch 40 Batch 100 Loss 0.0331\n",
      "Epoch 40 Batch 200 Loss 0.0565\n",
      "Epoch 40 Batch 300 Loss 0.0541\n",
      "Epoch 40 Batch 400 Loss 0.0578\n",
      "Epoch 40 Batch 500 Loss 0.0695\n",
      "Epoch 40 Batch 600 Loss 0.0601\n",
      "Epoch 40 Loss 0.0540\n",
      "Time taken for 1 epoch 594.9922633171082 sec\n",
      "\n",
      "Epoch 41 Batch 0 Loss 0.0453\n",
      "Epoch 41 Batch 100 Loss 0.0394\n",
      "Epoch 41 Batch 200 Loss 0.0645\n",
      "Epoch 41 Batch 300 Loss 0.0433\n",
      "Epoch 41 Batch 400 Loss 0.0580\n",
      "Epoch 41 Batch 500 Loss 0.0716\n",
      "Epoch 41 Batch 600 Loss 0.0626\n",
      "Epoch 41 Loss 0.0528\n",
      "Time taken for 1 epoch 579.7180578708649 sec\n",
      "\n",
      "Epoch 42 Batch 0 Loss 0.0660\n",
      "Epoch 42 Batch 100 Loss 0.0289\n",
      "Epoch 42 Batch 200 Loss 0.0654\n",
      "Epoch 42 Batch 300 Loss 0.0922\n",
      "Epoch 42 Batch 400 Loss 0.0614\n",
      "Epoch 42 Batch 500 Loss 0.0313\n",
      "Epoch 42 Batch 600 Loss 0.0787\n",
      "Epoch 42 Loss 0.0519\n",
      "Time taken for 1 epoch 565.1098792552948 sec\n",
      "\n",
      "Epoch 43 Batch 0 Loss 0.0162\n",
      "Epoch 43 Batch 100 Loss 0.0478\n",
      "Epoch 43 Batch 200 Loss 0.0720\n",
      "Epoch 43 Batch 300 Loss 0.0814\n",
      "Epoch 43 Batch 400 Loss 0.0285\n",
      "Epoch 43 Batch 500 Loss 0.0335\n",
      "Epoch 43 Batch 600 Loss 0.0595\n",
      "Epoch 43 Loss 0.0508\n",
      "Time taken for 1 epoch 577.3132309913635 sec\n",
      "\n",
      "Epoch 44 Batch 0 Loss 0.0352\n",
      "Epoch 44 Batch 100 Loss 0.0196\n",
      "Epoch 44 Batch 200 Loss 0.0349\n",
      "Epoch 44 Batch 300 Loss 0.0808\n",
      "Epoch 44 Batch 400 Loss 0.0530\n",
      "Epoch 44 Batch 500 Loss 0.0718\n",
      "Epoch 44 Batch 600 Loss 0.0591\n",
      "Epoch 44 Loss 0.0499\n",
      "Time taken for 1 epoch 577.5218181610107 sec\n",
      "\n",
      "Epoch 45 Batch 0 Loss 0.0381\n",
      "Epoch 45 Batch 100 Loss 0.0274\n",
      "Epoch 45 Batch 200 Loss 0.0619\n",
      "Epoch 45 Batch 300 Loss 0.0240\n",
      "Epoch 45 Batch 400 Loss 0.0574\n",
      "Epoch 45 Batch 500 Loss 0.0363\n",
      "Epoch 45 Batch 600 Loss 0.0497\n",
      "Epoch 45 Loss 0.0491\n",
      "Time taken for 1 epoch 559.3039948940277 sec\n",
      "\n",
      "Epoch 46 Batch 0 Loss 0.0430\n",
      "Epoch 46 Batch 100 Loss 0.0528\n",
      "Epoch 46 Batch 200 Loss 0.0441\n",
      "Epoch 46 Batch 300 Loss 0.0428\n",
      "Epoch 46 Batch 400 Loss 0.0625\n",
      "Epoch 46 Batch 500 Loss 0.0509\n",
      "Epoch 46 Batch 600 Loss 0.0436\n",
      "Epoch 46 Loss 0.0496\n",
      "Time taken for 1 epoch 27326.069018125534 sec\n",
      "\n",
      "Epoch 47 Batch 0 Loss 0.0456\n",
      "Epoch 47 Batch 100 Loss 0.0476\n",
      "Epoch 47 Batch 200 Loss 0.0796\n",
      "Epoch 47 Batch 300 Loss 0.0485\n",
      "Epoch 47 Batch 400 Loss 0.0660\n",
      "Epoch 47 Batch 500 Loss 0.0670\n",
      "Epoch 47 Batch 600 Loss 0.0662\n",
      "Epoch 47 Loss 0.0494\n",
      "Time taken for 1 epoch 605.3074808120728 sec\n",
      "\n",
      "Epoch 48 Batch 0 Loss 0.0261\n",
      "Epoch 48 Batch 100 Loss 0.0498\n",
      "Epoch 48 Batch 200 Loss 0.0179\n",
      "Epoch 48 Batch 300 Loss 0.0746\n",
      "Epoch 48 Batch 400 Loss 0.0503\n",
      "Epoch 48 Batch 500 Loss 0.0646\n",
      "Epoch 48 Batch 600 Loss 0.0511\n",
      "Epoch 48 Loss 0.0496\n",
      "Time taken for 1 epoch 569.3192191123962 sec\n",
      "\n",
      "Epoch 49 Batch 0 Loss 0.0203\n",
      "Epoch 49 Batch 100 Loss 0.0347\n",
      "Epoch 49 Batch 200 Loss 0.0468\n",
      "Epoch 49 Batch 300 Loss 0.0603\n",
      "Epoch 49 Batch 400 Loss 0.0757\n",
      "Epoch 49 Batch 500 Loss 0.0623\n",
      "Epoch 49 Batch 600 Loss 0.0483\n",
      "Epoch 49 Loss 0.0485\n",
      "Time taken for 1 epoch 558.1560728549957 sec\n",
      "\n",
      "Epoch 50 Batch 0 Loss 0.0148\n",
      "Epoch 50 Batch 100 Loss 0.0297\n",
      "Epoch 50 Batch 200 Loss 0.0507\n",
      "Epoch 50 Batch 300 Loss 0.0526\n",
      "Epoch 50 Batch 400 Loss 0.0512\n",
      "Epoch 50 Batch 500 Loss 0.0846\n",
      "Epoch 50 Batch 600 Loss 0.0524\n",
      "Epoch 50 Loss 0.0471\n",
      "Time taken for 1 epoch 2113.135903120041 sec\n",
      "\n"
     ]
    }
   ],
   "source": [
    "EPOCHS = 50\n",
    "\n",
    "for epoch in range(EPOCHS):\n",
    "  start = time.time()\n",
    "\n",
    "  enc_hidden = encoder.initialize_hidden_state()\n",
    "  total_loss = 0\n",
    "\n",
    "  for (batch, (inp, targ)) in enumerate(dataset.take(steps_per_epoch)):\n",
    "    batch_loss = train_step(inp, targ, enc_hidden)\n",
    "    total_loss += batch_loss\n",
    "\n",
    "    if batch % 100 == 0:\n",
    "      print('Epoch {} Batch {} Loss {:.4f}'.format(epoch + 1,\n",
    "                                                   batch,\n",
    "                                                   batch_loss.numpy()))\n",
    "  # saving (checkpoint) the model every 2 epochs\n",
    "  if (epoch + 1) % 2 == 0:\n",
    "    checkpoint.save(file_prefix = checkpoint_prefix)\n",
    "\n",
    "  print('Epoch {} Loss {:.4f}'.format(epoch + 1,\n",
    "                                      total_loss / steps_per_epoch))\n",
    "  print('Time taken for 1 epoch {} sec\\n'.format(time.time() - start))"
   ]
  },
  {
   "cell_type": "markdown",
   "metadata": {},
   "source": [
    "## Translate\n",
    "\n",
    "* The evaluate function is similar to the training loop, except we don't use *teacher forcing* here. The input to the decoder at each time step is its previous predictions along with the hidden state and the encoder output.\n",
    "* Stop predicting when the model predicts the *end token*.\n",
    "* And store the *attention weights for every time step*.\n",
    "\n",
    "Note: The encoder output is calculated only once for one input."
   ]
  },
  {
   "cell_type": "code",
   "execution_count": 29,
   "metadata": {},
   "outputs": [],
   "source": [
    "def evaluate(sentence):\n",
    "  attention_plot = np.zeros((max_length_targ, max_length_inp))\n",
    "\n",
    "  sentence = preprocess_sentence(sentence)\n",
    "\n",
    "  inputs = [inp_lang.word_index[i] for i in sentence.split(' ')]\n",
    "  inputs = tf.keras.preprocessing.sequence.pad_sequences([inputs],\n",
    "                                                         maxlen=max_length_inp,\n",
    "                                                         padding='post')\n",
    "  inputs = tf.convert_to_tensor(inputs)\n",
    "\n",
    "  result = ''\n",
    "\n",
    "  hidden = [tf.zeros((1, units))]\n",
    "  enc_hidden = encoder(inputs, hidden)\n",
    "\n",
    "  dec_hidden = enc_hidden\n",
    "  dec_input = tf.expand_dims([targ_lang.word_index['<start>']], 0)\n",
    "\n",
    "  for t in range(max_length_targ):\n",
    "    predictions, dec_hidden = decoder(dec_input, dec_hidden)\n",
    "\n",
    "    # storing the attention weights to plot later on\n",
    "    predicted_id = tf.argmax(predictions[0]).numpy()\n",
    "    result += targ_lang.index_word[predicted_id] + ' '\n",
    "\n",
    "    if targ_lang.index_word[predicted_id] == '<end>':\n",
    "      return result, sentence\n",
    "\n",
    "    # the predicted ID is fed back into the model\n",
    "    dec_input = tf.expand_dims([predicted_id], 0)\n",
    "\n",
    "  return result, sentence"
   ]
  },
  {
   "cell_type": "code",
   "execution_count": 30,
   "metadata": {},
   "outputs": [],
   "source": [
    "def translate(sentence):\n",
    "  result, sentence = evaluate(sentence)\n",
    "\n",
    "  print('Input: %s' % (sentence))\n",
    "  print('Predicted translation: {}'.format(result))"
   ]
  },
  {
   "cell_type": "markdown",
   "metadata": {},
   "source": [
    "## Restore the latest checkpoint and test"
   ]
  },
  {
   "cell_type": "code",
   "execution_count": 32,
   "metadata": {},
   "outputs": [
    {
     "data": {
      "text/plain": [
       "<tensorflow.python.checkpoint.checkpoint.CheckpointLoadStatus at 0x1ae04e0f550>"
      ]
     },
     "execution_count": 32,
     "metadata": {},
     "output_type": "execute_result"
    }
   ],
   "source": [
    "# restoring the latest checkpoint in checkpoint_dir\n",
    "checkpoint.restore(tf.train.latest_checkpoint(checkpoint_dir))"
   ]
  },
  {
   "cell_type": "code",
   "execution_count": 39,
   "metadata": {},
   "outputs": [
    {
     "name": "stdout",
     "output_type": "stream",
     "text": [
      "Input: <start> день хороший . <end>\n",
      "Predicted translation: it's good . <end> \n"
     ]
    }
   ],
   "source": [
    "translate('День хороший.')"
   ]
  },
  {
   "cell_type": "code",
   "execution_count": 40,
   "metadata": {},
   "outputs": [
    {
     "name": "stdout",
     "output_type": "stream",
     "text": [
      "Input: <start> я не смогу поехать . <end>\n",
      "Predicted translation: i can't go . <end> \n"
     ]
    }
   ],
   "source": [
    "translate('Я не смогу поехать.')"
   ]
  },
  {
   "cell_type": "code",
   "execution_count": 41,
   "metadata": {},
   "outputs": [
    {
     "name": "stdout",
     "output_type": "stream",
     "text": [
      "Input: <start> вы еще дома ? <end>\n",
      "Predicted translation: are you home ? <end> \n"
     ]
    }
   ],
   "source": [
    "translate(u'Вы еще дома?')"
   ]
  },
  {
   "cell_type": "code",
   "execution_count": 42,
   "metadata": {},
   "outputs": [
    {
     "name": "stdout",
     "output_type": "stream",
     "text": [
      "Input: <start> попробуй сделать это . <end>\n",
      "Predicted translation: try to do it . <end> \n"
     ]
    }
   ],
   "source": [
    "translate(u'Попробуй сделать это.')"
   ]
  },
  {
   "cell_type": "code",
   "execution_count": 43,
   "metadata": {},
   "outputs": [
    {
     "name": "stdout",
     "output_type": "stream",
     "text": [
      "Input: <start> я люблю , когда идет снег . <end>\n",
      "Predicted translation: i like honey . <end> \n"
     ]
    }
   ],
   "source": [
    "translate(u'Я люблю, когда идет снег.')"
   ]
  },
  {
   "cell_type": "code",
   "execution_count": 44,
   "metadata": {},
   "outputs": [
    {
     "name": "stdout",
     "output_type": "stream",
     "text": [
      "Input: <start> я никогда такого не делаю . <end>\n",
      "Predicted translation: i never do that . <end> \n"
     ]
    }
   ],
   "source": [
    "translate(u'Я никогда такого не делаю.')"
   ]
  },
  {
   "cell_type": "markdown",
   "metadata": {},
   "source": [
    "Модель не всё переводит корректно, видимо нужо больше примеров и времени на обучении."
   ]
  }
 ],
 "metadata": {
  "kernelspec": {
   "display_name": "Python 3",
   "language": "python",
   "name": "python3"
  },
  "language_info": {
   "codemirror_mode": {
    "name": "ipython",
    "version": 3
   },
   "file_extension": ".py",
   "mimetype": "text/x-python",
   "name": "python",
   "nbconvert_exporter": "python",
   "pygments_lexer": "ipython3",
   "version": "3.10.11"
  },
  "orig_nbformat": 4
 },
 "nbformat": 4,
 "nbformat_minor": 2
}
